{
 "cells": [
  {
   "cell_type": "code",
   "execution_count": 1,
   "metadata": {
    "collapsed": false
   },
   "outputs": [],
   "source": [
    "import requests\n",
    "from bs4 import BeautifulSoup\n",
    "from datetime import date, timedelta as td\n",
    "import re\n",
    "import time\n",
    "import os"
   ]
  },
  {
   "cell_type": "markdown",
   "metadata": {},
   "source": [
    "# Use Basketball Reference to Scrape Box Scores"
   ]
  },
  {
   "cell_type": "code",
   "execution_count": 2,
   "metadata": {
    "collapsed": true
   },
   "outputs": [],
   "source": [
    "base_url = 'http://www.basketball-reference.com'\n",
    "box_url = 'http://www.basketball-reference.com/boxscores/'\n",
    "response = requests.get(box_url)\n",
    "soup = BeautifulSoup(response.content, 'lxml')"
   ]
  },
  {
   "cell_type": "markdown",
   "metadata": {},
   "source": [
    "## Write a function that gets the dates as strings between the date and today"
   ]
  },
  {
   "cell_type": "code",
   "execution_count": 795,
   "metadata": {
    "collapsed": false
   },
   "outputs": [],
   "source": [
    "def get_string_dates(d1):\n",
    "    d1 = date(*d1)\n",
    "    d2 = date.today()\n",
    "    day_lst = [str(d1 + td(days=day)) for day in xrange((d2-d1).days)]\n",
    "    day_s_lst = [''.join((str(day)+str(0)).split('-')) for day in day_lst]\n",
    "    return day_s_lst"
   ]
  },
  {
   "cell_type": "code",
   "execution_count": 823,
   "metadata": {
    "collapsed": false
   },
   "outputs": [
    {
     "data": {
      "text/plain": [
       "['201603150',\n",
       " '201603160',\n",
       " '201603170',\n",
       " '201603180',\n",
       " '201603190',\n",
       " '201603200',\n",
       " '201603210',\n",
       " '201603220',\n",
       " '201603230',\n",
       " '201603240']"
      ]
     },
     "execution_count": 823,
     "metadata": {},
     "output_type": "execute_result"
    }
   ],
   "source": [
    "get_string_dates((2016, 3, 15))[:10]"
   ]
  },
  {
   "cell_type": "markdown",
   "metadata": {},
   "source": [
    "## Improve upon the formatting"
   ]
  },
  {
   "cell_type": "code",
   "execution_count": 820,
   "metadata": {
    "collapsed": true
   },
   "outputs": [],
   "source": [
    "def get_nice_string_dates(d1):\n",
    "    d1 = date(*d1)\n",
    "    d2 = date.today()\n",
    "    day_lst = [str(d1 + td(days=day)) for day in xrange((d2-d1).days)]\n",
    "    day_s_lst = [''.join(str(day)) for day in day_lst]\n",
    "    return day_s_lst"
   ]
  },
  {
   "cell_type": "code",
   "execution_count": 824,
   "metadata": {
    "collapsed": false,
    "scrolled": true
   },
   "outputs": [
    {
     "data": {
      "text/plain": [
       "['2016-03-15',\n",
       " '2016-03-16',\n",
       " '2016-03-17',\n",
       " '2016-03-18',\n",
       " '2016-03-19',\n",
       " '2016-03-20',\n",
       " '2016-03-21',\n",
       " '2016-03-22',\n",
       " '2016-03-23',\n",
       " '2016-03-24']"
      ]
     },
     "execution_count": 824,
     "metadata": {},
     "output_type": "execute_result"
    }
   ],
   "source": [
    "get_nice_string_dates((2016, 3, 15))[:10]"
   ]
  },
  {
   "cell_type": "markdown",
   "metadata": {},
   "source": [
    "## Get our function to match Basketball References format"
   ]
  },
  {
   "cell_type": "markdown",
   "metadata": {},
   "source": [
    "#### We want the links in descending order so we can always append newest data to the bottom"
   ]
  },
  {
   "cell_type": "code",
   "execution_count": 2,
   "metadata": {
    "collapsed": true
   },
   "outputs": [],
   "source": [
    "def get_url_string_dates(d1):\n",
    "    d1 = date(*d1)\n",
    "    d2 = date.today()    \n",
    "    days_lst = [d1+td(days=i) for i in xrange((d2-d1).days)]\n",
    "    urls = ['index.cgi?month='+str(day.month)+'&day='+str(day.day)+'&year='+str(day.year) for day in days_lst]\n",
    "    urls = [box_url+url for url in urls][1:]\n",
    "    day_lst2 = [str(d1 + td(days=day)) for day in xrange((d2-d1).days)]\n",
    "    day_s_lst2 = [''.join(str(day)) for day in day_lst2][1:]\n",
    "    #don't want todays hence [1:]\n",
    "    return urls, day_s_lst2"
   ]
  },
  {
   "cell_type": "code",
   "execution_count": 835,
   "metadata": {
    "collapsed": false,
    "scrolled": true
   },
   "outputs": [
    {
     "data": {
      "text/plain": [
       "(['http://www.basketball-reference.com/boxscores/index.cgi?month=3&day=16&year=2016',\n",
       "  'http://www.basketball-reference.com/boxscores/index.cgi?month=3&day=17&year=2016',\n",
       "  'http://www.basketball-reference.com/boxscores/index.cgi?month=3&day=18&year=2016',\n",
       "  'http://www.basketball-reference.com/boxscores/index.cgi?month=3&day=19&year=2016',\n",
       "  'http://www.basketball-reference.com/boxscores/index.cgi?month=3&day=20&year=2016',\n",
       "  'http://www.basketball-reference.com/boxscores/index.cgi?month=3&day=21&year=2016',\n",
       "  'http://www.basketball-reference.com/boxscores/index.cgi?month=3&day=22&year=2016',\n",
       "  'http://www.basketball-reference.com/boxscores/index.cgi?month=3&day=23&year=2016',\n",
       "  'http://www.basketball-reference.com/boxscores/index.cgi?month=3&day=24&year=2016',\n",
       "  'http://www.basketball-reference.com/boxscores/index.cgi?month=3&day=25&year=2016',\n",
       "  'http://www.basketball-reference.com/boxscores/index.cgi?month=3&day=26&year=2016',\n",
       "  'http://www.basketball-reference.com/boxscores/index.cgi?month=3&day=27&year=2016',\n",
       "  'http://www.basketball-reference.com/boxscores/index.cgi?month=3&day=28&year=2016',\n",
       "  'http://www.basketball-reference.com/boxscores/index.cgi?month=3&day=29&year=2016',\n",
       "  'http://www.basketball-reference.com/boxscores/index.cgi?month=3&day=30&year=2016',\n",
       "  'http://www.basketball-reference.com/boxscores/index.cgi?month=3&day=31&year=2016',\n",
       "  'http://www.basketball-reference.com/boxscores/index.cgi?month=4&day=1&year=2016',\n",
       "  'http://www.basketball-reference.com/boxscores/index.cgi?month=4&day=2&year=2016'],\n",
       " ['2016-03-16',\n",
       "  '2016-03-17',\n",
       "  '2016-03-18',\n",
       "  '2016-03-19',\n",
       "  '2016-03-20',\n",
       "  '2016-03-21',\n",
       "  '2016-03-22',\n",
       "  '2016-03-23',\n",
       "  '2016-03-24',\n",
       "  '2016-03-25',\n",
       "  '2016-03-26',\n",
       "  '2016-03-27',\n",
       "  '2016-03-28',\n",
       "  '2016-03-29',\n",
       "  '2016-03-30',\n",
       "  '2016-03-31',\n",
       "  '2016-04-01',\n",
       "  '2016-04-02'])"
      ]
     },
     "execution_count": 835,
     "metadata": {},
     "output_type": "execute_result"
    }
   ],
   "source": [
    "get_url_string_dates((2016, 3, 15))"
   ]
  },
  {
   "cell_type": "markdown",
   "metadata": {},
   "source": [
    "#### Code for getting the URLS for future scraping (If we want to scrape more years)"
   ]
  },
  {
   "cell_type": "code",
   "execution_count": 3,
   "metadata": {
    "collapsed": false
   },
   "outputs": [],
   "source": [
    "def get_url_string_dates(d1, d2):\n",
    "    d1 = date(*d1)\n",
    "    d2 = date(*d2)    \n",
    "    days_lst = [d1+td(days=i) for i in xrange((d2-d1).days)]\n",
    "    urls = ['index.cgi?month='+str(day.month)+'&day='+str(day.day)+'&year='+str(day.year) for day in days_lst]\n",
    "    urls = [box_url+url for url in urls][1:]\n",
    "    day_lst2 = [str(d1 + td(days=day)) for day in xrange((d2-d1).days)]\n",
    "    day_s_lst2 = [''.join(str(day)) for day in day_lst2][1:]\n",
    "    #don't want todays hence [1:]\n",
    "    return urls, day_s_lst2"
   ]
  },
  {
   "cell_type": "code",
   "execution_count": 4,
   "metadata": {
    "collapsed": false
   },
   "outputs": [
    {
     "data": {
      "text/plain": [
       "(['http://www.basketball-reference.com/boxscores/index.cgi?month=10&day=30&year=2013',\n",
       "  'http://www.basketball-reference.com/boxscores/index.cgi?month=10&day=31&year=2013',\n",
       "  'http://www.basketball-reference.com/boxscores/index.cgi?month=11&day=1&year=2013',\n",
       "  'http://www.basketball-reference.com/boxscores/index.cgi?month=11&day=2&year=2013',\n",
       "  'http://www.basketball-reference.com/boxscores/index.cgi?month=11&day=3&year=2013',\n",
       "  'http://www.basketball-reference.com/boxscores/index.cgi?month=11&day=4&year=2013',\n",
       "  'http://www.basketball-reference.com/boxscores/index.cgi?month=11&day=5&year=2013',\n",
       "  'http://www.basketball-reference.com/boxscores/index.cgi?month=11&day=6&year=2013',\n",
       "  'http://www.basketball-reference.com/boxscores/index.cgi?month=11&day=7&year=2013',\n",
       "  'http://www.basketball-reference.com/boxscores/index.cgi?month=11&day=8&year=2013',\n",
       "  'http://www.basketball-reference.com/boxscores/index.cgi?month=11&day=9&year=2013',\n",
       "  'http://www.basketball-reference.com/boxscores/index.cgi?month=11&day=10&year=2013',\n",
       "  'http://www.basketball-reference.com/boxscores/index.cgi?month=11&day=11&year=2013',\n",
       "  'http://www.basketball-reference.com/boxscores/index.cgi?month=11&day=12&year=2013',\n",
       "  'http://www.basketball-reference.com/boxscores/index.cgi?month=11&day=13&year=2013',\n",
       "  'http://www.basketball-reference.com/boxscores/index.cgi?month=11&day=14&year=2013',\n",
       "  'http://www.basketball-reference.com/boxscores/index.cgi?month=11&day=15&year=2013',\n",
       "  'http://www.basketball-reference.com/boxscores/index.cgi?month=11&day=16&year=2013',\n",
       "  'http://www.basketball-reference.com/boxscores/index.cgi?month=11&day=17&year=2013',\n",
       "  'http://www.basketball-reference.com/boxscores/index.cgi?month=11&day=18&year=2013',\n",
       "  'http://www.basketball-reference.com/boxscores/index.cgi?month=11&day=19&year=2013',\n",
       "  'http://www.basketball-reference.com/boxscores/index.cgi?month=11&day=20&year=2013',\n",
       "  'http://www.basketball-reference.com/boxscores/index.cgi?month=11&day=21&year=2013',\n",
       "  'http://www.basketball-reference.com/boxscores/index.cgi?month=11&day=22&year=2013',\n",
       "  'http://www.basketball-reference.com/boxscores/index.cgi?month=11&day=23&year=2013',\n",
       "  'http://www.basketball-reference.com/boxscores/index.cgi?month=11&day=24&year=2013',\n",
       "  'http://www.basketball-reference.com/boxscores/index.cgi?month=11&day=25&year=2013',\n",
       "  'http://www.basketball-reference.com/boxscores/index.cgi?month=11&day=26&year=2013',\n",
       "  'http://www.basketball-reference.com/boxscores/index.cgi?month=11&day=27&year=2013',\n",
       "  'http://www.basketball-reference.com/boxscores/index.cgi?month=11&day=28&year=2013',\n",
       "  'http://www.basketball-reference.com/boxscores/index.cgi?month=11&day=29&year=2013',\n",
       "  'http://www.basketball-reference.com/boxscores/index.cgi?month=11&day=30&year=2013',\n",
       "  'http://www.basketball-reference.com/boxscores/index.cgi?month=12&day=1&year=2013',\n",
       "  'http://www.basketball-reference.com/boxscores/index.cgi?month=12&day=2&year=2013',\n",
       "  'http://www.basketball-reference.com/boxscores/index.cgi?month=12&day=3&year=2013',\n",
       "  'http://www.basketball-reference.com/boxscores/index.cgi?month=12&day=4&year=2013',\n",
       "  'http://www.basketball-reference.com/boxscores/index.cgi?month=12&day=5&year=2013',\n",
       "  'http://www.basketball-reference.com/boxscores/index.cgi?month=12&day=6&year=2013',\n",
       "  'http://www.basketball-reference.com/boxscores/index.cgi?month=12&day=7&year=2013',\n",
       "  'http://www.basketball-reference.com/boxscores/index.cgi?month=12&day=8&year=2013',\n",
       "  'http://www.basketball-reference.com/boxscores/index.cgi?month=12&day=9&year=2013',\n",
       "  'http://www.basketball-reference.com/boxscores/index.cgi?month=12&day=10&year=2013',\n",
       "  'http://www.basketball-reference.com/boxscores/index.cgi?month=12&day=11&year=2013',\n",
       "  'http://www.basketball-reference.com/boxscores/index.cgi?month=12&day=12&year=2013',\n",
       "  'http://www.basketball-reference.com/boxscores/index.cgi?month=12&day=13&year=2013',\n",
       "  'http://www.basketball-reference.com/boxscores/index.cgi?month=12&day=14&year=2013',\n",
       "  'http://www.basketball-reference.com/boxscores/index.cgi?month=12&day=15&year=2013',\n",
       "  'http://www.basketball-reference.com/boxscores/index.cgi?month=12&day=16&year=2013',\n",
       "  'http://www.basketball-reference.com/boxscores/index.cgi?month=12&day=17&year=2013',\n",
       "  'http://www.basketball-reference.com/boxscores/index.cgi?month=12&day=18&year=2013',\n",
       "  'http://www.basketball-reference.com/boxscores/index.cgi?month=12&day=19&year=2013',\n",
       "  'http://www.basketball-reference.com/boxscores/index.cgi?month=12&day=20&year=2013',\n",
       "  'http://www.basketball-reference.com/boxscores/index.cgi?month=12&day=21&year=2013',\n",
       "  'http://www.basketball-reference.com/boxscores/index.cgi?month=12&day=22&year=2013',\n",
       "  'http://www.basketball-reference.com/boxscores/index.cgi?month=12&day=23&year=2013',\n",
       "  'http://www.basketball-reference.com/boxscores/index.cgi?month=12&day=24&year=2013',\n",
       "  'http://www.basketball-reference.com/boxscores/index.cgi?month=12&day=25&year=2013',\n",
       "  'http://www.basketball-reference.com/boxscores/index.cgi?month=12&day=26&year=2013',\n",
       "  'http://www.basketball-reference.com/boxscores/index.cgi?month=12&day=27&year=2013',\n",
       "  'http://www.basketball-reference.com/boxscores/index.cgi?month=12&day=28&year=2013',\n",
       "  'http://www.basketball-reference.com/boxscores/index.cgi?month=12&day=29&year=2013',\n",
       "  'http://www.basketball-reference.com/boxscores/index.cgi?month=12&day=30&year=2013',\n",
       "  'http://www.basketball-reference.com/boxscores/index.cgi?month=12&day=31&year=2013',\n",
       "  'http://www.basketball-reference.com/boxscores/index.cgi?month=1&day=1&year=2014',\n",
       "  'http://www.basketball-reference.com/boxscores/index.cgi?month=1&day=2&year=2014',\n",
       "  'http://www.basketball-reference.com/boxscores/index.cgi?month=1&day=3&year=2014',\n",
       "  'http://www.basketball-reference.com/boxscores/index.cgi?month=1&day=4&year=2014',\n",
       "  'http://www.basketball-reference.com/boxscores/index.cgi?month=1&day=5&year=2014',\n",
       "  'http://www.basketball-reference.com/boxscores/index.cgi?month=1&day=6&year=2014',\n",
       "  'http://www.basketball-reference.com/boxscores/index.cgi?month=1&day=7&year=2014',\n",
       "  'http://www.basketball-reference.com/boxscores/index.cgi?month=1&day=8&year=2014',\n",
       "  'http://www.basketball-reference.com/boxscores/index.cgi?month=1&day=9&year=2014',\n",
       "  'http://www.basketball-reference.com/boxscores/index.cgi?month=1&day=10&year=2014',\n",
       "  'http://www.basketball-reference.com/boxscores/index.cgi?month=1&day=11&year=2014',\n",
       "  'http://www.basketball-reference.com/boxscores/index.cgi?month=1&day=12&year=2014',\n",
       "  'http://www.basketball-reference.com/boxscores/index.cgi?month=1&day=13&year=2014',\n",
       "  'http://www.basketball-reference.com/boxscores/index.cgi?month=1&day=14&year=2014',\n",
       "  'http://www.basketball-reference.com/boxscores/index.cgi?month=1&day=15&year=2014',\n",
       "  'http://www.basketball-reference.com/boxscores/index.cgi?month=1&day=16&year=2014',\n",
       "  'http://www.basketball-reference.com/boxscores/index.cgi?month=1&day=17&year=2014',\n",
       "  'http://www.basketball-reference.com/boxscores/index.cgi?month=1&day=18&year=2014',\n",
       "  'http://www.basketball-reference.com/boxscores/index.cgi?month=1&day=19&year=2014',\n",
       "  'http://www.basketball-reference.com/boxscores/index.cgi?month=1&day=20&year=2014',\n",
       "  'http://www.basketball-reference.com/boxscores/index.cgi?month=1&day=21&year=2014',\n",
       "  'http://www.basketball-reference.com/boxscores/index.cgi?month=1&day=22&year=2014',\n",
       "  'http://www.basketball-reference.com/boxscores/index.cgi?month=1&day=23&year=2014',\n",
       "  'http://www.basketball-reference.com/boxscores/index.cgi?month=1&day=24&year=2014',\n",
       "  'http://www.basketball-reference.com/boxscores/index.cgi?month=1&day=25&year=2014',\n",
       "  'http://www.basketball-reference.com/boxscores/index.cgi?month=1&day=26&year=2014',\n",
       "  'http://www.basketball-reference.com/boxscores/index.cgi?month=1&day=27&year=2014',\n",
       "  'http://www.basketball-reference.com/boxscores/index.cgi?month=1&day=28&year=2014',\n",
       "  'http://www.basketball-reference.com/boxscores/index.cgi?month=1&day=29&year=2014',\n",
       "  'http://www.basketball-reference.com/boxscores/index.cgi?month=1&day=30&year=2014',\n",
       "  'http://www.basketball-reference.com/boxscores/index.cgi?month=1&day=31&year=2014',\n",
       "  'http://www.basketball-reference.com/boxscores/index.cgi?month=2&day=1&year=2014',\n",
       "  'http://www.basketball-reference.com/boxscores/index.cgi?month=2&day=2&year=2014',\n",
       "  'http://www.basketball-reference.com/boxscores/index.cgi?month=2&day=3&year=2014',\n",
       "  'http://www.basketball-reference.com/boxscores/index.cgi?month=2&day=4&year=2014',\n",
       "  'http://www.basketball-reference.com/boxscores/index.cgi?month=2&day=5&year=2014',\n",
       "  'http://www.basketball-reference.com/boxscores/index.cgi?month=2&day=6&year=2014',\n",
       "  'http://www.basketball-reference.com/boxscores/index.cgi?month=2&day=7&year=2014',\n",
       "  'http://www.basketball-reference.com/boxscores/index.cgi?month=2&day=8&year=2014',\n",
       "  'http://www.basketball-reference.com/boxscores/index.cgi?month=2&day=9&year=2014',\n",
       "  'http://www.basketball-reference.com/boxscores/index.cgi?month=2&day=10&year=2014',\n",
       "  'http://www.basketball-reference.com/boxscores/index.cgi?month=2&day=11&year=2014',\n",
       "  'http://www.basketball-reference.com/boxscores/index.cgi?month=2&day=12&year=2014',\n",
       "  'http://www.basketball-reference.com/boxscores/index.cgi?month=2&day=13&year=2014',\n",
       "  'http://www.basketball-reference.com/boxscores/index.cgi?month=2&day=14&year=2014',\n",
       "  'http://www.basketball-reference.com/boxscores/index.cgi?month=2&day=15&year=2014',\n",
       "  'http://www.basketball-reference.com/boxscores/index.cgi?month=2&day=16&year=2014',\n",
       "  'http://www.basketball-reference.com/boxscores/index.cgi?month=2&day=17&year=2014',\n",
       "  'http://www.basketball-reference.com/boxscores/index.cgi?month=2&day=18&year=2014',\n",
       "  'http://www.basketball-reference.com/boxscores/index.cgi?month=2&day=19&year=2014',\n",
       "  'http://www.basketball-reference.com/boxscores/index.cgi?month=2&day=20&year=2014',\n",
       "  'http://www.basketball-reference.com/boxscores/index.cgi?month=2&day=21&year=2014',\n",
       "  'http://www.basketball-reference.com/boxscores/index.cgi?month=2&day=22&year=2014',\n",
       "  'http://www.basketball-reference.com/boxscores/index.cgi?month=2&day=23&year=2014',\n",
       "  'http://www.basketball-reference.com/boxscores/index.cgi?month=2&day=24&year=2014',\n",
       "  'http://www.basketball-reference.com/boxscores/index.cgi?month=2&day=25&year=2014',\n",
       "  'http://www.basketball-reference.com/boxscores/index.cgi?month=2&day=26&year=2014',\n",
       "  'http://www.basketball-reference.com/boxscores/index.cgi?month=2&day=27&year=2014',\n",
       "  'http://www.basketball-reference.com/boxscores/index.cgi?month=2&day=28&year=2014',\n",
       "  'http://www.basketball-reference.com/boxscores/index.cgi?month=3&day=1&year=2014',\n",
       "  'http://www.basketball-reference.com/boxscores/index.cgi?month=3&day=2&year=2014',\n",
       "  'http://www.basketball-reference.com/boxscores/index.cgi?month=3&day=3&year=2014',\n",
       "  'http://www.basketball-reference.com/boxscores/index.cgi?month=3&day=4&year=2014',\n",
       "  'http://www.basketball-reference.com/boxscores/index.cgi?month=3&day=5&year=2014',\n",
       "  'http://www.basketball-reference.com/boxscores/index.cgi?month=3&day=6&year=2014',\n",
       "  'http://www.basketball-reference.com/boxscores/index.cgi?month=3&day=7&year=2014',\n",
       "  'http://www.basketball-reference.com/boxscores/index.cgi?month=3&day=8&year=2014',\n",
       "  'http://www.basketball-reference.com/boxscores/index.cgi?month=3&day=9&year=2014',\n",
       "  'http://www.basketball-reference.com/boxscores/index.cgi?month=3&day=10&year=2014',\n",
       "  'http://www.basketball-reference.com/boxscores/index.cgi?month=3&day=11&year=2014',\n",
       "  'http://www.basketball-reference.com/boxscores/index.cgi?month=3&day=12&year=2014',\n",
       "  'http://www.basketball-reference.com/boxscores/index.cgi?month=3&day=13&year=2014',\n",
       "  'http://www.basketball-reference.com/boxscores/index.cgi?month=3&day=14&year=2014',\n",
       "  'http://www.basketball-reference.com/boxscores/index.cgi?month=3&day=15&year=2014',\n",
       "  'http://www.basketball-reference.com/boxscores/index.cgi?month=3&day=16&year=2014',\n",
       "  'http://www.basketball-reference.com/boxscores/index.cgi?month=3&day=17&year=2014',\n",
       "  'http://www.basketball-reference.com/boxscores/index.cgi?month=3&day=18&year=2014',\n",
       "  'http://www.basketball-reference.com/boxscores/index.cgi?month=3&day=19&year=2014',\n",
       "  'http://www.basketball-reference.com/boxscores/index.cgi?month=3&day=20&year=2014',\n",
       "  'http://www.basketball-reference.com/boxscores/index.cgi?month=3&day=21&year=2014',\n",
       "  'http://www.basketball-reference.com/boxscores/index.cgi?month=3&day=22&year=2014',\n",
       "  'http://www.basketball-reference.com/boxscores/index.cgi?month=3&day=23&year=2014',\n",
       "  'http://www.basketball-reference.com/boxscores/index.cgi?month=3&day=24&year=2014',\n",
       "  'http://www.basketball-reference.com/boxscores/index.cgi?month=3&day=25&year=2014',\n",
       "  'http://www.basketball-reference.com/boxscores/index.cgi?month=3&day=26&year=2014',\n",
       "  'http://www.basketball-reference.com/boxscores/index.cgi?month=3&day=27&year=2014',\n",
       "  'http://www.basketball-reference.com/boxscores/index.cgi?month=3&day=28&year=2014',\n",
       "  'http://www.basketball-reference.com/boxscores/index.cgi?month=3&day=29&year=2014',\n",
       "  'http://www.basketball-reference.com/boxscores/index.cgi?month=3&day=30&year=2014',\n",
       "  'http://www.basketball-reference.com/boxscores/index.cgi?month=3&day=31&year=2014',\n",
       "  'http://www.basketball-reference.com/boxscores/index.cgi?month=4&day=1&year=2014',\n",
       "  'http://www.basketball-reference.com/boxscores/index.cgi?month=4&day=2&year=2014',\n",
       "  'http://www.basketball-reference.com/boxscores/index.cgi?month=4&day=3&year=2014',\n",
       "  'http://www.basketball-reference.com/boxscores/index.cgi?month=4&day=4&year=2014',\n",
       "  'http://www.basketball-reference.com/boxscores/index.cgi?month=4&day=5&year=2014',\n",
       "  'http://www.basketball-reference.com/boxscores/index.cgi?month=4&day=6&year=2014',\n",
       "  'http://www.basketball-reference.com/boxscores/index.cgi?month=4&day=7&year=2014',\n",
       "  'http://www.basketball-reference.com/boxscores/index.cgi?month=4&day=8&year=2014',\n",
       "  'http://www.basketball-reference.com/boxscores/index.cgi?month=4&day=9&year=2014',\n",
       "  'http://www.basketball-reference.com/boxscores/index.cgi?month=4&day=10&year=2014',\n",
       "  'http://www.basketball-reference.com/boxscores/index.cgi?month=4&day=11&year=2014',\n",
       "  'http://www.basketball-reference.com/boxscores/index.cgi?month=4&day=12&year=2014',\n",
       "  'http://www.basketball-reference.com/boxscores/index.cgi?month=4&day=13&year=2014',\n",
       "  'http://www.basketball-reference.com/boxscores/index.cgi?month=4&day=14&year=2014',\n",
       "  'http://www.basketball-reference.com/boxscores/index.cgi?month=4&day=15&year=2014',\n",
       "  'http://www.basketball-reference.com/boxscores/index.cgi?month=4&day=16&year=2014',\n",
       "  'http://www.basketball-reference.com/boxscores/index.cgi?month=4&day=17&year=2014'],\n",
       " ['2013-10-30',\n",
       "  '2013-10-31',\n",
       "  '2013-11-01',\n",
       "  '2013-11-02',\n",
       "  '2013-11-03',\n",
       "  '2013-11-04',\n",
       "  '2013-11-05',\n",
       "  '2013-11-06',\n",
       "  '2013-11-07',\n",
       "  '2013-11-08',\n",
       "  '2013-11-09',\n",
       "  '2013-11-10',\n",
       "  '2013-11-11',\n",
       "  '2013-11-12',\n",
       "  '2013-11-13',\n",
       "  '2013-11-14',\n",
       "  '2013-11-15',\n",
       "  '2013-11-16',\n",
       "  '2013-11-17',\n",
       "  '2013-11-18',\n",
       "  '2013-11-19',\n",
       "  '2013-11-20',\n",
       "  '2013-11-21',\n",
       "  '2013-11-22',\n",
       "  '2013-11-23',\n",
       "  '2013-11-24',\n",
       "  '2013-11-25',\n",
       "  '2013-11-26',\n",
       "  '2013-11-27',\n",
       "  '2013-11-28',\n",
       "  '2013-11-29',\n",
       "  '2013-11-30',\n",
       "  '2013-12-01',\n",
       "  '2013-12-02',\n",
       "  '2013-12-03',\n",
       "  '2013-12-04',\n",
       "  '2013-12-05',\n",
       "  '2013-12-06',\n",
       "  '2013-12-07',\n",
       "  '2013-12-08',\n",
       "  '2013-12-09',\n",
       "  '2013-12-10',\n",
       "  '2013-12-11',\n",
       "  '2013-12-12',\n",
       "  '2013-12-13',\n",
       "  '2013-12-14',\n",
       "  '2013-12-15',\n",
       "  '2013-12-16',\n",
       "  '2013-12-17',\n",
       "  '2013-12-18',\n",
       "  '2013-12-19',\n",
       "  '2013-12-20',\n",
       "  '2013-12-21',\n",
       "  '2013-12-22',\n",
       "  '2013-12-23',\n",
       "  '2013-12-24',\n",
       "  '2013-12-25',\n",
       "  '2013-12-26',\n",
       "  '2013-12-27',\n",
       "  '2013-12-28',\n",
       "  '2013-12-29',\n",
       "  '2013-12-30',\n",
       "  '2013-12-31',\n",
       "  '2014-01-01',\n",
       "  '2014-01-02',\n",
       "  '2014-01-03',\n",
       "  '2014-01-04',\n",
       "  '2014-01-05',\n",
       "  '2014-01-06',\n",
       "  '2014-01-07',\n",
       "  '2014-01-08',\n",
       "  '2014-01-09',\n",
       "  '2014-01-10',\n",
       "  '2014-01-11',\n",
       "  '2014-01-12',\n",
       "  '2014-01-13',\n",
       "  '2014-01-14',\n",
       "  '2014-01-15',\n",
       "  '2014-01-16',\n",
       "  '2014-01-17',\n",
       "  '2014-01-18',\n",
       "  '2014-01-19',\n",
       "  '2014-01-20',\n",
       "  '2014-01-21',\n",
       "  '2014-01-22',\n",
       "  '2014-01-23',\n",
       "  '2014-01-24',\n",
       "  '2014-01-25',\n",
       "  '2014-01-26',\n",
       "  '2014-01-27',\n",
       "  '2014-01-28',\n",
       "  '2014-01-29',\n",
       "  '2014-01-30',\n",
       "  '2014-01-31',\n",
       "  '2014-02-01',\n",
       "  '2014-02-02',\n",
       "  '2014-02-03',\n",
       "  '2014-02-04',\n",
       "  '2014-02-05',\n",
       "  '2014-02-06',\n",
       "  '2014-02-07',\n",
       "  '2014-02-08',\n",
       "  '2014-02-09',\n",
       "  '2014-02-10',\n",
       "  '2014-02-11',\n",
       "  '2014-02-12',\n",
       "  '2014-02-13',\n",
       "  '2014-02-14',\n",
       "  '2014-02-15',\n",
       "  '2014-02-16',\n",
       "  '2014-02-17',\n",
       "  '2014-02-18',\n",
       "  '2014-02-19',\n",
       "  '2014-02-20',\n",
       "  '2014-02-21',\n",
       "  '2014-02-22',\n",
       "  '2014-02-23',\n",
       "  '2014-02-24',\n",
       "  '2014-02-25',\n",
       "  '2014-02-26',\n",
       "  '2014-02-27',\n",
       "  '2014-02-28',\n",
       "  '2014-03-01',\n",
       "  '2014-03-02',\n",
       "  '2014-03-03',\n",
       "  '2014-03-04',\n",
       "  '2014-03-05',\n",
       "  '2014-03-06',\n",
       "  '2014-03-07',\n",
       "  '2014-03-08',\n",
       "  '2014-03-09',\n",
       "  '2014-03-10',\n",
       "  '2014-03-11',\n",
       "  '2014-03-12',\n",
       "  '2014-03-13',\n",
       "  '2014-03-14',\n",
       "  '2014-03-15',\n",
       "  '2014-03-16',\n",
       "  '2014-03-17',\n",
       "  '2014-03-18',\n",
       "  '2014-03-19',\n",
       "  '2014-03-20',\n",
       "  '2014-03-21',\n",
       "  '2014-03-22',\n",
       "  '2014-03-23',\n",
       "  '2014-03-24',\n",
       "  '2014-03-25',\n",
       "  '2014-03-26',\n",
       "  '2014-03-27',\n",
       "  '2014-03-28',\n",
       "  '2014-03-29',\n",
       "  '2014-03-30',\n",
       "  '2014-03-31',\n",
       "  '2014-04-01',\n",
       "  '2014-04-02',\n",
       "  '2014-04-03',\n",
       "  '2014-04-04',\n",
       "  '2014-04-05',\n",
       "  '2014-04-06',\n",
       "  '2014-04-07',\n",
       "  '2014-04-08',\n",
       "  '2014-04-09',\n",
       "  '2014-04-10',\n",
       "  '2014-04-11',\n",
       "  '2014-04-12',\n",
       "  '2014-04-13',\n",
       "  '2014-04-14',\n",
       "  '2014-04-15',\n",
       "  '2014-04-16',\n",
       "  '2014-04-17'])"
      ]
     },
     "execution_count": 4,
     "metadata": {},
     "output_type": "execute_result"
    }
   ],
   "source": [
    "#get_url_string_dates((2015, 10, 26))\n",
    "#get_url_string_dates((2013, 10, 26),(2014, 4, 17))\n",
    "#get_url_string_dates((2014, 10, 27),(2015, 4, 16))[:5]\n",
    "get_url_string_dates((2013, 10, 29),(2014, 4, 18))[:5]"
   ]
  },
  {
   "cell_type": "markdown",
   "metadata": {},
   "source": [
    "#### Find the later half of all the games today"
   ]
  },
  {
   "cell_type": "code",
   "execution_count": 5,
   "metadata": {
    "collapsed": false,
    "scrolled": true
   },
   "outputs": [
    {
     "data": {
      "text/plain": [
       "[<a href=\"/boxscores/201604090ATL.html\">Final</a>,\n",
       " <a href=\"/boxscores/201604090CHI.html\">Final</a>,\n",
       " <a href=\"/boxscores/201604090MEM.html\">Final</a>,\n",
       " <a href=\"/boxscores/201604090NOP.html\">Final</a>,\n",
       " <a href=\"/boxscores/201604090POR.html\">Final</a>,\n",
       " <a href=\"/boxscores/201604090SAC.html\">Final</a>]"
      ]
     },
     "execution_count": 5,
     "metadata": {},
     "output_type": "execute_result"
    }
   ],
   "source": [
    "urls = soup.find_all(href=re.compile('/boxscores/2'))\n",
    "urls"
   ]
  },
  {
   "cell_type": "markdown",
   "metadata": {},
   "source": [
    "#### Combining the base url to form the full url for the boxscores today"
   ]
  },
  {
   "cell_type": "code",
   "execution_count": 6,
   "metadata": {
    "collapsed": false
   },
   "outputs": [
    {
     "data": {
      "text/plain": [
       "['http://www.basketball-reference.com/boxscores/201604090ATL.html',\n",
       " 'http://www.basketball-reference.com/boxscores/201604090CHI.html',\n",
       " 'http://www.basketball-reference.com/boxscores/201604090MEM.html',\n",
       " 'http://www.basketball-reference.com/boxscores/201604090NOP.html',\n",
       " 'http://www.basketball-reference.com/boxscores/201604090POR.html',\n",
       " 'http://www.basketball-reference.com/boxscores/201604090SAC.html']"
      ]
     },
     "execution_count": 6,
     "metadata": {},
     "output_type": "execute_result"
    }
   ],
   "source": [
    "game_urls = [base_url + url['href'] for url in urls]\n",
    "game_urls"
   ]
  },
  {
   "cell_type": "markdown",
   "metadata": {},
   "source": [
    "#### Make a list of all the responses"
   ]
  },
  {
   "cell_type": "code",
   "execution_count": 501,
   "metadata": {
    "collapsed": true
   },
   "outputs": [],
   "source": [
    "responses = [requests.get(game_url) for game_url in game_urls]"
   ]
  },
  {
   "cell_type": "markdown",
   "metadata": {},
   "source": [
    "## Maybe this class will come in handy later"
   ]
  },
  {
   "cell_type": "markdown",
   "metadata": {},
   "source": [
    "#### Write a function that outputs the name of the player so we can use it as the filename"
   ]
  },
  {
   "cell_type": "code",
   "execution_count": 5,
   "metadata": {
    "collapsed": false,
    "scrolled": false
   },
   "outputs": [],
   "source": [
    "def get_name(stats, i):\n",
    "    name = '_'.join(str(stats[i].get_text().split('\\n')[1:-1][0]).split(' '))\n",
    "    # replace spaces with _ \n",
    "    return name"
   ]
  },
  {
   "cell_type": "code",
   "execution_count": 13,
   "metadata": {
    "collapsed": false,
    "scrolled": true
   },
   "outputs": [],
   "source": [
    "# get_name(stats, 27)"
   ]
  },
  {
   "cell_type": "markdown",
   "metadata": {},
   "source": [
    "#### Create a function that returns a list with all the values in stats, advanced stats, which two teams are playing, and the date"
   ]
  },
  {
   "cell_type": "code",
   "execution_count": 4,
   "metadata": {
    "collapsed": true
   },
   "outputs": [],
   "source": [
    "def get_line(stats, advanced, i, cut, away_team, home_team, dateapp):\n",
    "    line = stats[i].get_text().split('\\n')[1:-1]\n",
    "    line2 = advanced[i].get_text().split('\\n')[3:-1]\n",
    "    #away_team = soup.select('table.stats_table tbody td a[href]')[0].contents[0].encode('ascii')\n",
    "    #home_team = soup.select('table.stats_table tbody td a[href]')[1].contents[0].encode('ascii')\n",
    "    #print away_team, home_team\n",
    "    line = line + line2\n",
    "    #am_i_home = stats[i].get_text().split('\\n')[1]\n",
    "    if line[1] == 'Did Not Play' or line[1] == 'Player Suspended':\n",
    "        line.append(','*32)\n",
    "        # If a player DNP or PS, add delimiters for all the missing stats\n",
    "    line.append(away_team)\n",
    "    line.append(home_team)\n",
    "    if i < cut:\n",
    "        line.append('0')\n",
    "    else:\n",
    "        line.append('1')\n",
    "    line.append(dateapp)\n",
    "    return line"
   ]
  },
  {
   "cell_type": "markdown",
   "metadata": {},
   "source": [
    "#### Create a function that writes a players stats to a file"
   ]
  },
  {
   "cell_type": "code",
   "execution_count": 6,
   "metadata": {
    "collapsed": true
   },
   "outputs": [],
   "source": [
    "def write_to_csv(player_game_stat, out_file):    \n",
    "    with open(out_file, 'a+') as f:\n",
    "        f.write(','.join(player_game_stat) + '\\n')"
   ]
  },
  {
   "cell_type": "code",
   "execution_count": 7,
   "metadata": {
    "collapsed": false
   },
   "outputs": [],
   "source": [
    "def not_box_score(href):\n",
    "    return href and not re.compile('/boxscores/2').search(href)"
   ]
  },
  {
   "cell_type": "markdown",
   "metadata": {},
   "source": [
    "#### We need a way to identify which team someone is on. We look at where the second instance of Reserves start and subtract 5 to get index of start of second team"
   ]
  },
  {
   "cell_type": "code",
   "execution_count": 8,
   "metadata": {
    "collapsed": true
   },
   "outputs": [],
   "source": [
    "def cutoff(stats):\n",
    "    count = 0\n",
    "    for index, stat in enumerate(stats):\n",
    "        if stat.get_text().split('\\n')[1] == 'Reserves':\n",
    "            count += 1\n",
    "            if count > 1.5:\n",
    "                return index-5"
   ]
  },
  {
   "cell_type": "code",
   "execution_count": 3,
   "metadata": {
    "collapsed": false,
    "scrolled": true
   },
   "outputs": [],
   "source": [
    "base_url = 'http://www.basketball-reference.com'\n",
    "box_url = 'http://www.basketball-reference.com/boxscores/'\n",
    "#day_urls = get_url_string_dates((2013, 10, 28),(2014, 4, 17))\n",
    "#day_urls = get_url_string_dates((2014, 10, 27),(2015, 4, 16))\n",
    "#day_urls = get_url_string_dates((2015, 10, 26))\n",
    "day_urls = get_url_string_dates((2016, 4, 4))\n",
    "#day_urls = get_url_string_dates((2012, 10, 29),(2013, 4, 18))\n",
    "#day_urls = get_url_string_dates((2011, 12, 24),(2012, 4, 27))\n",
    "#day_urls = get_url_string_dates((2010, 10, 25),(2011, 4, 14))\n",
    "#day_urls = get_url_string_dates((2009, 10, 26),(2010, 4, 15))\n",
    "#day_urls = get_url_string_dates((2008, 10, 27),(2009, 4, 17))\n",
    "#day_urls = get_url_string_dates((2007, 10, 29),(2008, 4, 17))\n",
    "#day_urls = get_url_string_dates((2006, 10, 30),(2007, 4, 19))\n",
    "#day_urls = get_url_string_dates((2005, 10, 31),(2006, 4, 20))\n",
    "#,(2016, 3, 15))"
   ]
  },
  {
   "cell_type": "markdown",
   "metadata": {},
   "source": [
    "#### Write a single game from a player into a CSV"
   ]
  },
  {
   "cell_type": "code",
   "execution_count": 9,
   "metadata": {
    "collapsed": false
   },
   "outputs": [
    {
     "ename": "NameError",
     "evalue": "name 'stats' is not defined",
     "output_type": "error",
     "traceback": [
      "\u001b[0;31m---------------------------------------------------------------------------\u001b[0m",
      "\u001b[0;31mNameError\u001b[0m                                 Traceback (most recent call last)",
      "\u001b[0;32m<ipython-input-9-2c433e453c01>\u001b[0m in \u001b[0;36m<module>\u001b[0;34m()\u001b[0m\n\u001b[0;32m----> 1\u001b[0;31m \u001b[0mfilename\u001b[0m \u001b[0;34m=\u001b[0m \u001b[0;34m'data1516/'\u001b[0m \u001b[0;34m+\u001b[0m \u001b[0mget_name\u001b[0m\u001b[0;34m(\u001b[0m\u001b[0mstats\u001b[0m\u001b[0;34m)\u001b[0m \u001b[0;34m+\u001b[0m \u001b[0;34m'.csv'\u001b[0m\u001b[0;34m\u001b[0m\u001b[0m\n\u001b[0m\u001b[1;32m      2\u001b[0m \u001b[0mcreate_csv\u001b[0m\u001b[0;34m(\u001b[0m\u001b[0mget_line\u001b[0m\u001b[0;34m(\u001b[0m\u001b[0mstats\u001b[0m\u001b[0;34m)\u001b[0m\u001b[0;34m,\u001b[0m \u001b[0mfilename\u001b[0m\u001b[0;34m)\u001b[0m\u001b[0;34m\u001b[0m\u001b[0m\n",
      "\u001b[0;31mNameError\u001b[0m: name 'stats' is not defined"
     ]
    }
   ],
   "source": [
    "# filename = 'data1516/' + get_name(stats) + '.csv'\n",
    "# create_csv(get_line(stats), filename)"
   ]
  },
  {
   "cell_type": "markdown",
   "metadata": {},
   "source": [
    "### We need a function that combines our previous functions and starts scraping"
   ]
  },
  {
   "cell_type": "code",
   "execution_count": 11,
   "metadata": {
    "collapsed": false
   },
   "outputs": [],
   "source": [
    "def scrappy(day_urls):\n",
    "    for url, dateapp in zip(day_urls[0], day_urls[1]):\n",
    "        response = requests.get(url)\n",
    "        time.sleep(0.6)\n",
    "        soup = BeautifulSoup(response.content, 'lxml')\n",
    "        urls = soup.find_all(href=re.compile('/boxscores/2'), string='Final')\n",
    "        # Make sure we only grab Final and not Box Score as well for duplicate entries\n",
    "        game_urls = [base_url + url['href'] for url in urls]\n",
    "        game_stats = [requests.get(game_url) for game_url in game_urls]\n",
    "        time.sleep(0.6)\n",
    "        for game_stat in game_stats:\n",
    "            soup = BeautifulSoup(game_stat.content, 'lxml')\n",
    "            away_team = soup.select('table.stats_table tbody td a[href]')[0].contents[0].encode('ascii')\n",
    "            home_team = soup.select('table.stats_table tbody td a[href]')[1].contents[0].encode('ascii')\n",
    "            #print away_team, home_team\n",
    "            stats = soup.select('table[id$=\"_basic\"] tbody tr')\n",
    "            advanced = soup.select('table[id$=\"_advanced\"] tbody tr')\n",
    "            cut = cutoff(stats)\n",
    "            for index, stuff in enumerate(stats):\n",
    "                filename = '../../alldata/data1516/' + get_name(stats, index) + '.csv'\n",
    "                write_to_csv(get_line(stats, advanced, index, cut, away_team, home_team, dateapp), filename)\n"
   ]
  },
  {
   "cell_type": "code",
   "execution_count": 12,
   "metadata": {
    "collapsed": true
   },
   "outputs": [],
   "source": [
    "scrappy(day_urls)"
   ]
  },
  {
   "cell_type": "code",
   "execution_count": 41,
   "metadata": {
    "collapsed": false
   },
   "outputs": [],
   "source": [
    "scrappy(day_urls)"
   ]
  },
  {
   "cell_type": "code",
   "execution_count": null,
   "metadata": {
    "collapsed": true
   },
   "outputs": [],
   "source": [
    "# def initiate_filenames(stats, folder_name):\n",
    "#     for index, stuff in enumerate(stats):\n",
    "#         filename = folder_name + get_name(stats, index) + '.csv'\n",
    "#         write_to_csv(get_line(stats, advanced, index, cut, away_team, home_team, dateapp), filename)"
   ]
  },
  {
   "cell_type": "code",
   "execution_count": null,
   "metadata": {
    "collapsed": true
   },
   "outputs": [],
   "source": [
    "# def create(game_stats):\n",
    "#     soup = BeautifulSoup(game_stat.content, 'lxml')\n",
    "#     away_team = soup.select('table.stats_table tbody td a[href]')[0].contents[0].encode('ascii')\n",
    "#     home_team = soup.select('table.stats_table tbody td a[href]')[1].contents[0].encode('ascii')\n",
    "#     #print away_team, home_team\n",
    "#     stats = soup.select('table[id$=\"_basic\"] tbody tr')\n",
    "#     advanced = soup.select('table[id$=\"_advanced\"] tbody tr')\n",
    "#     cut = cutoff(stats)\n",
    "#     for index, stuff in enumerate(stats):\n",
    "#         filename = folder_name + get_name(stats, index) + '.csv'\n",
    "#         write_to_csv(get_line(stats, advanced, index, cut, away_team, home_team, dateapp), filename)\n"
   ]
  },
  {
   "cell_type": "code",
   "execution_count": 10,
   "metadata": {
    "collapsed": true
   },
   "outputs": [],
   "source": [
    "def scrappy(day_urls, folder_name, sleep_time = 0):\n",
    "    for url, dateapp in zip(day_urls[0], day_urls[1]):\n",
    "        response = requests.get(url)\n",
    "        time.sleep(sleep_time)\n",
    "        soup = BeautifulSoup(response.content, 'lxml')\n",
    "        urls = soup.find_all(href=re.compile('/boxscores/2'), string='Final')\n",
    "        # Make sure we only grab Final and not Box Score as well for duplicate entries\n",
    "        game_urls = [base_url + url['href'] for url in urls]\n",
    "        game_stats = [requests.get(game_url) for game_url in game_urls]\n",
    "        time.sleep(sleep_time)\n",
    "        for game_stat in game_stats:\n",
    "            soup = BeautifulSoup(game_stat.content, 'lxml')\n",
    "            away_team = soup.select('table.stats_table tbody td a[href]')[0].contents[0].encode('ascii')\n",
    "            home_team = soup.select('table.stats_table tbody td a[href]')[1].contents[0].encode('ascii')\n",
    "            #print away_team, home_team\n",
    "            stats = soup.select('table[id$=\"_basic\"] tbody tr')\n",
    "            advanced = soup.select('table[id$=\"_advanced\"] tbody tr')\n",
    "            cut = cutoff(stats)\n",
    "            for index, stuff in enumerate(stats):\n",
    "                filename = folder_name + get_name(stats, index) + '.csv'\n",
    "                write_to_csv(get_line(stats, advanced, index, cut, away_team, home_team, dateapp), filename)\n"
   ]
  },
  {
   "cell_type": "code",
   "execution_count": null,
   "metadata": {
    "collapsed": true
   },
   "outputs": [],
   "source": [
    "scrappy(day_urls, folder_name = 'data1516/', sleep_time = 0.6)"
   ]
  },
  {
   "cell_type": "code",
   "execution_count": 744,
   "metadata": {
    "collapsed": true
   },
   "outputs": [],
   "source": [
    "#response = requests.get(day_urls[2])\n",
    "#time.sleep(0.3)\n",
    "#soup = BeautifulSoup(response.content, 'lxml')\n",
    "#urls = soup.find_all(href=re.compile('/boxscores/2'))\n",
    "#game_urls = [base_url + url['href'] for url in urls]\n",
    "#responses = [requests.get(game_url) for game_url in game_urls]\n",
    "#soup = BeautifulSoup(responses[0].content, 'lxml')\n",
    "#stats = soup.select('table[id$=\"_basic\"] tbody tr')"
   ]
  },
  {
   "cell_type": "code",
   "execution_count": 745,
   "metadata": {
    "collapsed": false,
    "scrolled": false
   },
   "outputs": [],
   "source": [
    "#away_team = soup.select('table.stats_table tbody td a[href]')[0].contents[0].encode('ascii')\n",
    "#home_team = soup.select('table.stats_table tbody td a[href]')[1].contents[0].encode('ascii')\n",
    "#am_i_home = \n",
    "#print type(away_team), home_team"
   ]
  },
  {
   "cell_type": "code",
   "execution_count": null,
   "metadata": {
    "collapsed": true
   },
   "outputs": [],
   "source": []
  }
 ],
 "metadata": {
  "kernelspec": {
   "display_name": "Python 2",
   "language": "python",
   "name": "python2"
  },
  "language_info": {
   "codemirror_mode": {
    "name": "ipython",
    "version": 2
   },
   "file_extension": ".py",
   "mimetype": "text/x-python",
   "name": "python",
   "nbconvert_exporter": "python",
   "pygments_lexer": "ipython2",
   "version": "2.7.11"
  }
 },
 "nbformat": 4,
 "nbformat_minor": 0
}
