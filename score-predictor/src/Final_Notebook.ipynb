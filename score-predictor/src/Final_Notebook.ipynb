{
 "cells": [
  {
   "cell_type": "code",
   "execution_count": 1,
   "metadata": {
    "collapsed": false
   },
   "outputs": [
    {
     "name": "stdout",
     "output_type": "stream",
     "text": [
      "/Users/ericpei/Documents/GalvClas/fantasy-score-predictor\n"
     ]
    }
   ],
   "source": [
    "cd ../.."
   ]
  },
  {
   "cell_type": "code",
   "execution_count": 2,
   "metadata": {
    "collapsed": false
   },
   "outputs": [],
   "source": [
    "from scripts import make_df"
   ]
  },
  {
   "cell_type": "code",
   "execution_count": 3,
   "metadata": {
    "collapsed": false
   },
   "outputs": [
    {
     "name": "stderr",
     "output_type": "stream",
     "text": [
      "/Users/ericpei/anaconda/lib/python2.7/site-packages/matplotlib/font_manager.py:273: UserWarning: Matplotlib is building the font cache using fc-list. This may take a moment.\n",
      "  warnings.warn('Matplotlib is building the font cache using fc-list. This may take a moment.')\n"
     ]
    }
   ],
   "source": [
    "from scripts import random_forest"
   ]
  },
  {
   "cell_type": "code",
   "execution_count": 4,
   "metadata": {
    "collapsed": false
   },
   "outputs": [],
   "source": [
    "#make_df.create_csvs('alldata')"
   ]
  },
  {
   "cell_type": "code",
   "execution_count": 5,
   "metadata": {
    "collapsed": false
   },
   "outputs": [],
   "source": [
    "df = make_df.create_df()"
   ]
  },
  {
   "cell_type": "code",
   "execution_count": 6,
   "metadata": {
    "collapsed": false,
    "scrolled": true
   },
   "outputs": [
    {
     "name": "stderr",
     "output_type": "stream",
     "text": [
      "scripts/make_df.py:56: SettingWithCopyWarning: \n",
      "A value is trying to be set on a copy of a slice from a DataFrame.\n",
      "Try using .loc[row_indexer,col_indexer] = value instead\n",
      "\n",
      "See the caveats in the documentation: http://pandas.pydata.org/pandas-docs/stable/indexing.html#indexing-view-versus-copy\n",
      "  df['MP'] = df['MP'].map(lambda x: '0:00' if \":\" not in str(x) else str(x))\n"
     ]
    }
   ],
   "source": [
    "df = make_df.clean_df(df)"
   ]
  },
  {
   "cell_type": "code",
   "execution_count": 7,
   "metadata": {
    "collapsed": true
   },
   "outputs": [],
   "source": [
    "df = make_df.drop_zerominutes(df)"
   ]
  },
  {
   "cell_type": "code",
   "execution_count": 8,
   "metadata": {
    "collapsed": false
   },
   "outputs": [],
   "source": [
    "df = make_df.add_features(df)"
   ]
  },
  {
   "cell_type": "code",
   "execution_count": 9,
   "metadata": {
    "collapsed": false
   },
   "outputs": [],
   "source": [
    "#look at this later\n",
    "Player_Averages = make_df.make_averages(df)"
   ]
  },
  {
   "cell_type": "code",
   "execution_count": 10,
   "metadata": {
    "collapsed": false
   },
   "outputs": [],
   "source": [
    "date_matrix = make_df.get_date_matrix(df)"
   ]
  },
  {
   "cell_type": "code",
   "execution_count": 11,
   "metadata": {
    "collapsed": false
   },
   "outputs": [],
   "source": [
    "make_df.addcolumns(make_df.make_lists(date_matrix), df)"
   ]
  },
  {
   "cell_type": "code",
   "execution_count": 12,
   "metadata": {
    "collapsed": false
   },
   "outputs": [],
   "source": [
    "tp_matrix = df[['Player Name', '3P']].values\n",
    "fg_matrix = df[['Player Name', 'FG']].values\n",
    "ft_matrix = df[['Player Name', 'FT']].values\n",
    "reb_matrix = df[['Player Name', 'TRB']].values\n",
    "ast_matrix = df[['Player Name', 'AST']].values\n",
    "blk_matrix = df[['Player Name', 'BLK']].values\n",
    "stl_matrix = df[['Player Name', 'STL']].values\n",
    "tov_matrix = df[['Player Name', 'TOV']].values\n",
    "usg_matrix = df[['Player Name', 'USG%']].values\n",
    "ftr_matrix = df[['Player Name', 'FTr']].values\n",
    "pm_matrix = df[['Player Name', '+/-']].values\n",
    "ts_matrix = df[['Player Name', 'TS%']].values\n",
    "pf_matrix = df[['Player Name', 'PF']].values\n",
    "ortg_matrix = df[['Player Name', 'ORtg']].values\n",
    "drtg_matrix = df[['Player Name', 'DRtg']].values"
   ]
  },
  {
   "cell_type": "code",
   "execution_count": 13,
   "metadata": {
    "collapsed": false
   },
   "outputs": [],
   "source": [
    "make_df.add_slag_columns(make_df.make_stat_lists(Player_Averages, matrix=tp_matrix, column='3P'), df, name='TP')\n",
    "make_df.add_slag_columns(make_df.make_stat_lists(Player_Averages, matrix=fg_matrix, column='FG'), df, name='FG')\n",
    "make_df.add_slag_columns(make_df.make_stat_lists(Player_Averages, matrix=ft_matrix, column='FT'), df, name='FT')\n",
    "make_df.add_slag_columns(make_df.make_stat_lists(Player_Averages, matrix=reb_matrix, column='TRB'), df, name='TRB')\n",
    "make_df.add_slag_columns(make_df.make_stat_lists(Player_Averages, matrix=ast_matrix, column='AST'), df, name='AST')\n",
    "make_df.add_slag_columns(make_df.make_stat_lists(Player_Averages, matrix=blk_matrix, column='BLK'), df, name='BLK')\n",
    "make_df.add_slag_columns(make_df.make_stat_lists(Player_Averages, matrix=stl_matrix, column='STL'), df, name='STL')\n",
    "make_df.add_slag_columns(make_df.make_stat_lists(Player_Averages, matrix=tov_matrix, column='TOV'), df, name='TOV')\n",
    "make_df.add_slag_columns(make_df.make_stat_lists(Player_Averages, matrix=usg_matrix, column='USG%'), df, name ='USGP')\n",
    "make_df.add_slag_columns(make_df.make_stat_lists(Player_Averages, matrix=ftr_matrix, column='FTr'), df, name ='FTr')\n",
    "make_df.add_slag_columns(make_df.make_stat_lists(Player_Averages, matrix=pm_matrix, column='+/-'), df, name ='PM')\n",
    "make_df.add_slag_columns(make_df.make_stat_lists(Player_Averages, matrix=ts_matrix, column='TS%'), df, name ='TSP')\n",
    "make_df.add_slag_columns(make_df.make_stat_lists(Player_Averages, matrix=pf_matrix, column='PF'), df, name ='PF')\n",
    "make_df.add_slag_columns(make_df.make_stat_lists(Player_Averages, matrix=ortg_matrix, column='ORtg'), df, name ='ORtg')\n",
    "make_df.add_slag_columns(make_df.make_stat_lists(Player_Averages, matrix=drtg_matrix, column='DRtg'), df, name ='DRtg')"
   ]
  },
  {
   "cell_type": "code",
   "execution_count": 14,
   "metadata": {
    "collapsed": true
   },
   "outputs": [],
   "source": [
    "from scripts import elevation_flight"
   ]
  },
  {
   "cell_type": "code",
   "execution_count": 15,
   "metadata": {
    "collapsed": false
   },
   "outputs": [],
   "source": [
    "Elevation_Lookup = elevation_flight.read_to_dict()"
   ]
  },
  {
   "cell_type": "code",
   "execution_count": 16,
   "metadata": {
    "collapsed": false
   },
   "outputs": [],
   "source": [
    "elevation_flight.lookup_and_add(Elevation_Lookup, df)"
   ]
  },
  {
   "cell_type": "markdown",
   "metadata": {},
   "source": [
    "# Exploration"
   ]
  },
  {
   "cell_type": "code",
   "execution_count": 17,
   "metadata": {
    "collapsed": true
   },
   "outputs": [],
   "source": [
    "from sklearn.metrics import mean_squared_error"
   ]
  },
  {
   "cell_type": "code",
   "execution_count": 18,
   "metadata": {
    "collapsed": true
   },
   "outputs": [],
   "source": [
    "from sklearn.ensemble import RandomForestRegressor"
   ]
  },
  {
   "cell_type": "markdown",
   "metadata": {},
   "source": [
    "### Make a testing Set"
   ]
  },
  {
   "cell_type": "code",
   "execution_count": 19,
   "metadata": {
    "collapsed": false
   },
   "outputs": [],
   "source": [
    "forest_df, y_df = random_forest.date_with_forest(df, 140, remove_date=True)"
   ]
  },
  {
   "cell_type": "code",
   "execution_count": 20,
   "metadata": {
    "collapsed": true
   },
   "outputs": [],
   "source": [
    "test_df, testy_df = random_forest.date_with_forest(df, remove_date=False)"
   ]
  },
  {
   "cell_type": "code",
   "execution_count": 21,
   "metadata": {
    "collapsed": true
   },
   "outputs": [],
   "source": [
    "import datetime"
   ]
  },
  {
   "cell_type": "code",
   "execution_count": 22,
   "metadata": {
    "collapsed": false
   },
   "outputs": [],
   "source": [
    "today = datetime.date.today()\n",
    "stop_average_date = today - datetime.timedelta(140)"
   ]
  },
  {
   "cell_type": "code",
   "execution_count": 23,
   "metadata": {
    "collapsed": true
   },
   "outputs": [],
   "source": [
    "test_df = test_df[test_df['Date'] > stop_average_date]\n",
    "testy_df = testy_df[testy_df['Date'] > stop_average_date]"
   ]
  },
  {
   "cell_type": "code",
   "execution_count": 24,
   "metadata": {
    "collapsed": true
   },
   "outputs": [],
   "source": [
    "test_df = test_df.ix[:,test_df.columns != 'Date']\n",
    "testy_df = testy_df.ix[:, testy_df.columns != 'Date']"
   ]
  },
  {
   "cell_type": "code",
   "execution_count": 25,
   "metadata": {
    "collapsed": true
   },
   "outputs": [],
   "source": [
    "#forest_df, y_df = random_forest.prepare_for_forest(df)"
   ]
  },
  {
   "cell_type": "code",
   "execution_count": 26,
   "metadata": {
    "collapsed": true
   },
   "outputs": [],
   "source": [
    "TestSubject = 'Stephen Curry'"
   ]
  },
  {
   "cell_type": "code",
   "execution_count": 27,
   "metadata": {
    "collapsed": true
   },
   "outputs": [],
   "source": [
    "Stephcurry, Stephcurryafter_X, Stephcurryafter_y = random_forest.individual_forest_df(test_df, testy_df, TestSubject)"
   ]
  },
  {
   "cell_type": "code",
   "execution_count": 28,
   "metadata": {
    "collapsed": true
   },
   "outputs": [],
   "source": [
    "Stephcurry, Stephcurry_X, Stephcurry_y = random_forest.individual_forest_df(forest_df, y_df, TestSubject)"
   ]
  },
  {
   "cell_type": "code",
   "execution_count": 29,
   "metadata": {
    "collapsed": false
   },
   "outputs": [
    {
     "name": "stderr",
     "output_type": "stream",
     "text": [
      "scripts/random_forest.py:69: FutureWarning: using '-' to provide set differences with Indexes is deprecated, use .difference()\n",
      "  X_train, X_test, y_train, y_test = train_test_split(player_x[list(player_x.columns-['Player Name'])], player_y.iloc[:,cat], test_size = 0.25, random_state = 30)\n"
     ]
    }
   ],
   "source": [
    "X_train, X_test, y_train, y_test = random_forest.crossval_player(Stephcurry, forest_df[forest_df[\"Player Name\"] != TestSubject], y_df[y_df['Player Name'] != TestSubject], cat=2)\n",
    "X_trainA, X_testA, y_trainA, y_testA = random_forest.crossval_player(Stephcurry, test_df, testy_df, cat=2)\n",
    "X_trainS, X_testS, y_trainS, y_testS = random_forest.crossval_player(Stephcurry, Stephcurry_X, Stephcurry_y, cat=2)\n",
    "X_trainSA, X_testSA, y_trainSA, y_testSA = random_forest.crossval_player(Stephcurry, Stephcurryafter_X, Stephcurryafter_y, cat = 2)"
   ]
  },
  {
   "cell_type": "markdown",
   "metadata": {},
   "source": [
    "###### X Train is the df without Curry\n",
    "###### X Train2 is the df with just Curry\n",
    "###### S = Curry A is after cutoff"
   ]
  },
  {
   "cell_type": "code",
   "execution_count": 30,
   "metadata": {
    "collapsed": true
   },
   "outputs": [],
   "source": [
    "X_trainfull = pd.concat([X_train, X_trainS, X_trainS, X_trainSA])\n",
    "y_trainfull = pd.concat([y_train, y_trainS, y_trainS, y_trainSA])"
   ]
  },
  {
   "cell_type": "markdown",
   "metadata": {},
   "source": [
    "Now X Train2 is just Curry, while X Train is everyone including Curry"
   ]
  },
  {
   "cell_type": "code",
   "execution_count": 31,
   "metadata": {
    "collapsed": false
   },
   "outputs": [],
   "source": [
    "everyFGmean = pd.concat([y_train, y_trainS]).mean()\n",
    "stephFGmean = y_trainS.mean()"
   ]
  },
  {
   "cell_type": "code",
   "execution_count": 32,
   "metadata": {
    "collapsed": false
   },
   "outputs": [
    {
     "data": {
      "text/plain": [
       "(63197, 16)"
      ]
     },
     "execution_count": 32,
     "metadata": {},
     "output_type": "execute_result"
    }
   ],
   "source": [
    "len(X_test), len(X_testSA)"
   ]
  },
  {
   "cell_type": "code",
   "execution_count": 33,
   "metadata": {
    "collapsed": true
   },
   "outputs": [],
   "source": [
    "benchmark = np.full(len(X_testA)+len(X_testSA), everyFGmean)\n",
    "s_benchmark = np.full(len(X_testSA), stephFGmean)"
   ]
  },
  {
   "cell_type": "code",
   "execution_count": 34,
   "metadata": {
    "collapsed": true
   },
   "outputs": [],
   "source": [
    "rf = RandomForestRegressor()\n",
    "rf2 = RandomForestRegressor()"
   ]
  },
  {
   "cell_type": "code",
   "execution_count": 35,
   "metadata": {
    "collapsed": false
   },
   "outputs": [
    {
     "data": {
      "text/plain": [
       "RandomForestRegressor(bootstrap=True, criterion='mse', max_depth=None,\n",
       "           max_features='auto', max_leaf_nodes=None, min_samples_leaf=1,\n",
       "           min_samples_split=2, min_weight_fraction_leaf=0.0,\n",
       "           n_estimators=10, n_jobs=1, oob_score=False, random_state=None,\n",
       "           verbose=0, warm_start=False)"
      ]
     },
     "execution_count": 35,
     "metadata": {},
     "output_type": "execute_result"
    }
   ],
   "source": [
    "rf.fit(X_trainfull, y_trainfull)\n",
    "rf2.fit(X_trainS, y_trainS)"
   ]
  },
  {
   "cell_type": "code",
   "execution_count": 36,
   "metadata": {
    "collapsed": false
   },
   "outputs": [],
   "source": [
    "y_predict = rf.predict(X_testA)\n",
    "y_predict = np.append(y_predict, rf.predict(X_testSA))# + rf.predict(X_test2)\n",
    "y_predictS = rf2.predict(X_testSA)"
   ]
  },
  {
   "cell_type": "markdown",
   "metadata": {},
   "source": [
    "### MSE of Everyone model on everyone. MSE of my StephCurry Model on himself"
   ]
  },
  {
   "cell_type": "code",
   "execution_count": 37,
   "metadata": {
    "collapsed": false
   },
   "outputs": [
    {
     "data": {
      "text/plain": [
       "(5.7451654984423675, 16.521875000000001)"
      ]
     },
     "execution_count": 37,
     "metadata": {},
     "output_type": "execute_result"
    }
   ],
   "source": [
    "mean_squared_error(np.append(y_testA,y_testSA), y_predict), mean_squared_error(y_testSA, y_predictS)"
   ]
  },
  {
   "cell_type": "markdown",
   "metadata": {},
   "source": [
    "## How do we do against the benchmark?"
   ]
  },
  {
   "cell_type": "code",
   "execution_count": 38,
   "metadata": {
    "collapsed": false,
    "scrolled": true
   },
   "outputs": [
    {
     "data": {
      "text/plain": [
       "(9.06514475111236, 15.289091610523542)"
      ]
     },
     "execution_count": 38,
     "metadata": {},
     "output_type": "execute_result"
    }
   ],
   "source": [
    "mean_squared_error(np.append(y_testA,y_testSA), benchmark), mean_squared_error(y_testSA, s_benchmark)"
   ]
  },
  {
   "cell_type": "markdown",
   "metadata": {},
   "source": [
    "#### We have a lower MSE than average on all players\n",
    "#### Lower MSE on Curry compared to his own average"
   ]
  },
  {
   "cell_type": "code",
   "execution_count": 39,
   "metadata": {
    "collapsed": false
   },
   "outputs": [
    {
     "data": {
      "text/plain": [
       "12.695625"
      ]
     },
     "execution_count": 39,
     "metadata": {},
     "output_type": "execute_result"
    }
   ],
   "source": [
    "y_predict3 = rf.predict(X_testSA)\n",
    "mean_squared_error(y_testSA, y_predict3)"
   ]
  },
  {
   "cell_type": "markdown",
   "metadata": {},
   "source": [
    "# Averages Per Min"
   ]
  },
  {
   "cell_type": "code",
   "execution_count": 40,
   "metadata": {
    "collapsed": true
   },
   "outputs": [],
   "source": [
    "from scripts import pca_ready"
   ]
  },
  {
   "cell_type": "code",
   "execution_count": 41,
   "metadata": {
    "collapsed": false
   },
   "outputs": [],
   "source": [
    "PA = make_df.make_averages(df, cutoff=14)"
   ]
  },
  {
   "cell_type": "code",
   "execution_count": 42,
   "metadata": {
    "collapsed": false
   },
   "outputs": [],
   "source": [
    "PA48 = make_df.make_averages_per48(PA)"
   ]
  },
  {
   "cell_type": "code",
   "execution_count": 43,
   "metadata": {
    "collapsed": false
   },
   "outputs": [],
   "source": [
    "mat, comp = pca_ready.run_pca(PA48.iloc[:,:8])"
   ]
  },
  {
   "cell_type": "code",
   "execution_count": 44,
   "metadata": {
    "collapsed": false
   },
   "outputs": [],
   "source": [
    "from sklearn.cluster import KMeans"
   ]
  },
  {
   "cell_type": "code",
   "execution_count": 45,
   "metadata": {
    "collapsed": false
   },
   "outputs": [],
   "source": [
    "km = KMeans(n_clusters=5, random_state = 30)\n",
    "#km = KMeans(n_clusters=10, random_state = 30)\n"
   ]
  },
  {
   "cell_type": "code",
   "execution_count": 46,
   "metadata": {
    "collapsed": true
   },
   "outputs": [],
   "source": [
    "import matplotlib.pyplot as plt"
   ]
  },
  {
   "cell_type": "code",
   "execution_count": 47,
   "metadata": {
    "collapsed": true
   },
   "outputs": [],
   "source": [
    "%matplotlib inline"
   ]
  },
  {
   "cell_type": "code",
   "execution_count": 48,
   "metadata": {
    "collapsed": false
   },
   "outputs": [
    {
     "data": {
      "text/plain": [
       "([array([   0.,    0.,    0.,    0.,    0.,    0.,    0.,    0.,    0.,\n",
       "            0.,   20.,  232.,  326.,  224.,  222.,  130.,   30.,    4.,\n",
       "            1.,    0.,    0.,    0.,    0.,    0.,    0.,    0.,    0.,\n",
       "            1.,    0.,    1.]),\n",
       "  array([   0.,    0.,    0.,    0.,    0.,    0.,    0.,    7.,    4.,\n",
       "            6.,   33.,  136.,  335.,  329.,  210.,   76.,   32.,   15.,\n",
       "            5.,    1.,    0.,    1.,    0.,    1.,    0.,    0.,    0.,\n",
       "            0.,    0.,    0.]),\n",
       "  array([   1.,    0.,    1.,    0.,    0.,    0.,    0.,    1.,   10.,\n",
       "           16.,   50.,  112.,  246.,  371.,  275.,   87.,   16.,    2.,\n",
       "            0.,    0.,    1.,    1.,    1.,    0.,    0.,    0.,    0.,\n",
       "            0.,    0.,    0.])],\n",
       " array([ -8.60936037,  -7.96244518,  -7.31553   ,  -6.66861481,\n",
       "         -6.02169962,  -5.37478443,  -4.72786925,  -4.08095406,\n",
       "         -3.43403887,  -2.78712368,  -2.1402085 ,  -1.49329331,\n",
       "         -0.84637812,  -0.19946294,   0.44745225,   1.09436744,\n",
       "          1.74128263,   2.38819781,   3.035113  ,   3.68202819,\n",
       "          4.32894337,   4.97585856,   5.62277375,   6.26968894,\n",
       "          6.91660412,   7.56351931,   8.2104345 ,   8.85734969,\n",
       "          9.50426487,  10.15118006,  10.79809525]),\n",
       " <a list of 3 Lists of Patches objects>)"
      ]
     },
     "execution_count": 48,
     "metadata": {},
     "output_type": "execute_result"
    },
    {
     "data": {
      "image/png": "[encoded data removed]",
      "text/plain": [
       "<matplotlib.figure.Figure at 0x1183489d0>"
      ]
     },
     "metadata": {},
     "output_type": "display_data"
    }
   ],
   "source": [
    "plt.hist(mat, bins=30)"
   ]
  },
  {
   "cell_type": "code",
   "execution_count": 49,
   "metadata": {
    "collapsed": false
   },
   "outputs": [
    {
     "data": {
      "text/plain": [
       "KMeans(copy_x=True, init='k-means++', max_iter=300, n_clusters=5, n_init=10,\n",
       "    n_jobs=1, precompute_distances='auto', random_state=30, tol=0.0001,\n",
       "    verbose=0)"
      ]
     },
     "execution_count": 49,
     "metadata": {},
     "output_type": "execute_result"
    }
   ],
   "source": [
    "km.fit(mat)"
   ]
  },
  {
   "cell_type": "code",
   "execution_count": 50,
   "metadata": {
    "collapsed": false
   },
   "outputs": [],
   "source": [
    "dict_pca2 = pca_ready.make_cluster_dictionary2(km, PA48)"
   ]
  },
  {
   "cell_type": "code",
   "execution_count": 51,
   "metadata": {
    "collapsed": false
   },
   "outputs": [
    {
     "data": {
      "text/plain": [
       "defaultdict(list,\n",
       "            {0: ['Aaron Harrison',\n",
       "              'Aaron McKie',\n",
       "              'Adam Morrison',\n",
       "              'Adonis Thomas',\n",
       "              'Alan Anderson',\n",
       "              'Alex Acker',\n",
       "              'Alex Kirk',\n",
       "              'Alex Scales',\n",
       "              'Allan Ray',\n",
       "              'Allen Crabbe',\n",
       "              'Alonzo Gee',\n",
       "              'Andre Dawkins',\n",
       "              'Andre Emmett',\n",
       "              'Andre Owens',\n",
       "              'Andre Roberson',\n",
       "              'Andreas Glyniadakis',\n",
       "              'Andrew Goudelock',\n",
       "              'Andy Rautins',\n",
       "              'Anfernee Hardaway',\n",
       "              'Anthony Brown',\n",
       "              'Anthony Goldwire',\n",
       "              'Anthony Morrow',\n",
       "              'Anthony Parker',\n",
       "              'Anthony Roberson',\n",
       "              'Anthony Tolliver',\n",
       "              'Antoine Wright',\n",
       "              'Antonio Anderson',\n",
       "              'Arron Afflalo',\n",
       "              'Arvydas Macijauskas',\n",
       "              'Austin Daye',\n",
       "              'Austin Rivers',\n",
       "              'Avery Bradley',\n",
       "              'Axel Toupane',\n",
       "              'Ben Hansbrough',\n",
       "              'Ben McLemore',\n",
       "              'Bernard Robinson',\n",
       "              'Billy Thomas',\n",
       "              'Blake Ahearn',\n",
       "              'Bobby Jones',\n",
       "              'Bobby Simmons',\n",
       "              'Bojan Bogdanovic',\n",
       "              'Bracey Wright',\n",
       "              'Brandon Rush',\n",
       "              'Brent Barry',\n",
       "              'Brian Cardinal',\n",
       "              'Brian Scalabrine',\n",
       "              'Bruce Bowen',\n",
       "              'Bruno Caboclo',\n",
       "              'Bryce Dejean-Jones',\n",
       "              'C.J. Wilcox',\n",
       "              'Calbert Cheaney',\n",
       "              'Carlos Delfino',\n",
       "              'Cartier Martin',\n",
       "              'Casey Jacobsen',\n",
       "              'Casper Ware',\n",
       "              'Cedric Bozeman',\n",
       "              'Charles Smith',\n",
       "              'Charlie Bell',\n",
       "              'Chase Budinger',\n",
       "              'Chris Babb',\n",
       "              'Chris Douglas-Roberts',\n",
       "              'Chris Johnson',\n",
       "              'Chris McCray',\n",
       "              'Chris McCullough',\n",
       "              'Chris Singleton',\n",
       "              'Chris Smith',\n",
       "              'Christian Eyenga',\n",
       "              'Cleanthony Early',\n",
       "              'Cliff Alexander',\n",
       "              'Clifford Robinson',\n",
       "              'Corey Brewer',\n",
       "              'Cory Higgins',\n",
       "              'Courtney Lee',\n",
       "              'Craig Brackins',\n",
       "              'Cuttino Mobley',\n",
       "              'D.J. Kennedy',\n",
       "              'D.J. Strawberry',\n",
       "              'DaJuan Summers',\n",
       "              'Daequan Cook',\n",
       "              'Dahntay Jones',\n",
       "              'Damien Wilkins',\n",
       "              'Damir Markota',\n",
       "              'Damjan Rudez',\n",
       "              'Damon Jones',\n",
       "              'Daniel Ewing',\n",
       "              'Daniel Gibson',\n",
       "              'Danny Green',\n",
       "              'Dante Cunningham',\n",
       "              'Dante Exum',\n",
       "              'Darius Miller',\n",
       "              'Darius Washington',\n",
       "              'Darnell Jackson',\n",
       "              'Darrun Hilliard',\n",
       "              'David Noel',\n",
       "              'David Wesley',\n",
       "              'DeAndre Liggins',\n",
       "              'DeMarcus Nelson',\n",
       "              'DeMarre Carroll',\n",
       "              'DeQuan Jones',\n",
       "              'DeShawn Stevenson',\n",
       "              'Demetris Nichols',\n",
       "              'Deng Gai',\n",
       "              'DerMarr Johnson',\n",
       "              'Derek Anderson',\n",
       "              'Derek Fisher',\n",
       "              'Derrick Brown',\n",
       "              'Desmond Mason',\n",
       "              'Devean George',\n",
       "              'Devin Brown',\n",
       "              'Devin Ebanks',\n",
       "              'Devin Green',\n",
       "              'Devyn Marble',\n",
       "              'Dionte Christmas',\n",
       "              'Donta Smith',\n",
       "              'Donte Greene',\n",
       "              'Dorell Wright',\n",
       "              'Doron Lamb',\n",
       "              'Doug Christie',\n",
       "              'Doug McDermott',\n",
       "              'Dwight Buycks',\n",
       "              \"E'Twaun Moore\",\n",
       "              'Eddie House',\n",
       "              'Eddie Jones',\n",
       "              'Edwin Ubiles',\n",
       "              'Elias Harris',\n",
       "              'Elijah Millsap',\n",
       "              'Elliot Williams',\n",
       "              'Eric Piatkowski',\n",
       "              'Eric Williams',\n",
       "              'Erick Green',\n",
       "              'Erik Murphy',\n",
       "              'Fab Melo',\n",
       "              'Francisco Garcia',\n",
       "              'Frank Kaminsky',\n",
       "              'Fred Jones',\n",
       "              'Gabe Pruitt',\n",
       "              'Gani Lawal',\n",
       "              'Garrett Temple',\n",
       "              'Gary Harris',\n",
       "              'Glen Rice',\n",
       "              'Glenn Robinson',\n",
       "              'Gordan Giricek',\n",
       "              'Grant Jerrett',\n",
       "              'Greg Buckner',\n",
       "              'Guillermo Diaz',\n",
       "              \"Hamady N'Diaye\",\n",
       "              'Harrison Barnes',\n",
       "              'Hassan Adams',\n",
       "              'Henry Walker',\n",
       "              'Hollis Thompson',\n",
       "              'Ian Clark',\n",
       "              'Iman Shumpert',\n",
       "              'Ime Udoka',\n",
       "              'Ira Newble',\n",
       "              'Isaiah Canaan',\n",
       "              \"J.J. O'Brien\",\n",
       "              'JaKarr Sampson',\n",
       "              'Jabari Brown',\n",
       "              'Jae Crowder',\n",
       "              'Jamaal Franklin',\n",
       "              'Jamario Moon',\n",
       "              'James Anderson',\n",
       "              'James Ennis',\n",
       "              'James Jones',\n",
       "              'James Nunnally',\n",
       "              'James Posey',\n",
       "              'James White',\n",
       "              'James Young',\n",
       "              'JamesOn Curry',\n",
       "              'Jared Cunningham',\n",
       "              'Jared Dudley',\n",
       "              'Jarell Eddie',\n",
       "              'Jarvis Hayes',\n",
       "              'Jarvis Varnado',\n",
       "              'Jason Collins',\n",
       "              'Jason Kapono',\n",
       "              'Jawad Williams',\n",
       "              'Jeff Foote',\n",
       "              'Jeffery Taylor',\n",
       "              'Jerami Grant',\n",
       "              'Jerel McNeal',\n",
       "              'Jeremy Richardson',\n",
       "              'Jerry Smith',\n",
       "              'Jim Jackson',\n",
       "              'Jiri Welsch',\n",
       "              'Jodie Meeks',\n",
       "              'Joe Crawford',\n",
       "              'Joe Harris',\n",
       "              'Joe Ingles',\n",
       "              'Joey Graham',\n",
       "              'John Edwards',\n",
       "              'John Jenkins',\n",
       "              'John Lucas',\n",
       "              'John Salmons',\n",
       "              'John Thomas',\n",
       "              \"Johnny O'Bryant\",\n",
       "              'Jon Barry',\n",
       "              'Jonathon Simmons',\n",
       "              'Jordan Adams',\n",
       "              'Jorge Garbajosa',\n",
       "              'Josh Childress',\n",
       "              'Josh Huestis',\n",
       "              'Josh Richardson',\n",
       "              'Josh Selby',\n",
       "              'Juan Carlos Navarro',\n",
       "              'Julian Wright',\n",
       "              'Jumaine Jones',\n",
       "              'Justin Dentmon',\n",
       "              'Justin Hamilton',\n",
       "              'Justin Harper',\n",
       "              'Justin Holiday',\n",
       "              'Justin Reed',\n",
       "              'Justise Winslow',\n",
       "              'K.J. McDaniels',\n",
       "              'Kalin Lucas',\n",
       "              'Kaniel Dickens',\n",
       "              'Kareem Rush',\n",
       "              'Kasib Powell',\n",
       "              'Keith Appling',\n",
       "              'Keith Bogans',\n",
       "              'Keith Langford',\n",
       "              'Kelly Oubre',\n",
       "              'Kent Bazemore',\n",
       "              'Kentavious Caldwell-Pope',\n",
       "              'Kevin Murphy',\n",
       "              'Kevin Willis',\n",
       "              'Kevinn Pinkney',\n",
       "              'Keyon Dooling',\n",
       "              'Kim English',\n",
       "              'Kirk Snyder',\n",
       "              'Kostas Papanikolaou',\n",
       "              'Kris Joseph',\n",
       "              'Kyle Korver',\n",
       "              'Kyle Singler',\n",
       "              'Kyle Weaver',\n",
       "              'Lamar Patterson',\n",
       "              'Lance Allred',\n",
       "              'Lance Thomas',\n",
       "              'Landry Fields',\n",
       "              'Langston Galloway',\n",
       "              'Laron Profit',\n",
       "              'Larry Owens',\n",
       "              'Lazar Hayward',\n",
       "              'Luc Mbah a Moute',\n",
       "              'Luis Montero',\n",
       "              'Luke Babbitt',\n",
       "              'Luke Jackson',\n",
       "              'Luke Zeller',\n",
       "              'Luther Head',\n",
       "              'Lynn Greer',\n",
       "              'Malcolm Lee',\n",
       "              'Malik Allen',\n",
       "              'Malik Hairston',\n",
       "              'Manny Harris',\n",
       "              'Marco Belinelli',\n",
       "              'Marcus Cousin',\n",
       "              'Marcus Landry',\n",
       "              'Marcus Vinicius',\n",
       "              'Mario Hezonja',\n",
       "              'Markel Brown',\n",
       "              'Marquis Daniels',\n",
       "              'Martell Webster',\n",
       "              'Marvin Williams',\n",
       "              'Matt Barnes',\n",
       "              'Matt Bonner',\n",
       "              'Matt Carroll',\n",
       "              'Matt Freije',\n",
       "              'Maurice Ager',\n",
       "              'Maurice Evans',\n",
       "              'Maurice Harkless',\n",
       "              'Maurice Taylor',\n",
       "              'Melvin Sanders',\n",
       "              'Michael Finley',\n",
       "              'Mickael Gelabale',\n",
       "              'Mickael Pietrus',\n",
       "              'Mike Hall',\n",
       "              'Mike Miller',\n",
       "              'Mile Ilic',\n",
       "              'Morris Almond',\n",
       "              'Morris Peterson',\n",
       "              'Mychel Thompson',\n",
       "              'Nemanja Bjelica',\n",
       "              'Nemanja Nedovic',\n",
       "              'Nick Johnson',\n",
       "              'Nik Stauskas',\n",
       "              'Noel Felix',\n",
       "              'Norman Powell',\n",
       "              'Oliver Lafayette',\n",
       "              'Orien Greene',\n",
       "              'Orlando Johnson',\n",
       "              'Otto Porter',\n",
       "              'P.J. Hairston',\n",
       "              'Pat Garrity',\n",
       "              'Patrick Beverley',\n",
       "              'Patrick Christopher',\n",
       "              'Patrick Patterson',\n",
       "              'Perry Jones',\n",
       "              'Quentin Richardson',\n",
       "              'Quincy Douby',\n",
       "              'Quincy Miller',\n",
       "              'Quincy Pondexter',\n",
       "              'Quinton Ross',\n",
       "              'Qyntel Woods',\n",
       "              'R.J. Hunter',\n",
       "              'Raja Bell',\n",
       "              'Randy Foye',\n",
       "              'Randy Holcomb',\n",
       "              'Randy Livingston',\n",
       "              'Rashad Vaughn',\n",
       "              'Rasual Butler',\n",
       "              'Raul Neto',\n",
       "              'Rawle Marshall',\n",
       "              'Reece Gaines',\n",
       "              'Reggie Bullock',\n",
       "              'Renaldo Major',\n",
       "              'Richie Frahm',\n",
       "              'Ricky Ledo',\n",
       "              'Rob Kurz',\n",
       "              'Robbie Hummel',\n",
       "              'Robert Hite',\n",
       "              'Rodney Carney',\n",
       "              'Roger Mason',\n",
       "              'Ronnie Brewer',\n",
       "              'Royal Ivey',\n",
       "              'Royce White',\n",
       "              'Rudy Fernandez',\n",
       "              'Ryan Bowen',\n",
       "              'Ryan Gomes',\n",
       "              'Ryan Hollins',\n",
       "              'Ryan Kelly',\n",
       "              'Sam Dekker',\n",
       "              'Sam Young',\n",
       "              'Samaki Walker',\n",
       "              'Sasha Pavlovic',\n",
       "              'Sasha Vujacic',\n",
       "              'Sean Singletary',\n",
       "              'Sergei Monia',\n",
       "              'Sergey Karasev',\n",
       "              'Seth Curry',\n",
       "              'Shammond Williams',\n",
       "              'Shandon Anderson',\n",
       "              'Shane Battier',\n",
       "              'Shane Edwards',\n",
       "              'Shawne Williams',\n",
       "              'Sherron Collins',\n",
       "              'Smush Parker',\n",
       "              'Solomon Hill',\n",
       "              'Sonny Weems',\n",
       "              'Stacey Augmon',\n",
       "              'Stanley Johnson',\n",
       "              'Stephane Lasme',\n",
       "              'Stephen Graham',\n",
       "              'Steve Novak',\n",
       "              'Sun Yue',\n",
       "              'Tarence Kinsey',\n",
       "              'Taylor Griffin',\n",
       "              'Tayshaun Prince',\n",
       "              'Terrel Harris',\n",
       "              'Terrence Ross',\n",
       "              'Thabo Sefolosha',\n",
       "              'Thomas Gardner',\n",
       "              'Tibor Pleiss',\n",
       "              'Tim Hardaway',\n",
       "              'Tim Ohlbrecht',\n",
       "              'Tony Allen',\n",
       "              'Tony Snell',\n",
       "              'Tornike Shengelia',\n",
       "              'Travis Wear',\n",
       "              'Trenton Hassell',\n",
       "              'Trevor Ariza',\n",
       "              'Trey Johnson',\n",
       "              'Troy Daniels',\n",
       "              'Tyler Johnson',\n",
       "              'Vander Blue',\n",
       "              'Vassilis Spanoulis',\n",
       "              'Victor Claver',\n",
       "              'Vitaly Potapenko',\n",
       "              'Vladimir Radmanovic',\n",
       "              'Von Wafer',\n",
       "              'Voshon Lenard',\n",
       "              'Wayne Ellington',\n",
       "              'Wayne Simien',\n",
       "              'Wesley Johnson',\n",
       "              'Wesley Matthews',\n",
       "              'Will Blalock',\n",
       "              'Will Cherry',\n",
       "              'Willie Green',\n",
       "              'Xavier Henry',\n",
       "              'Xavier Munford',\n",
       "              'Xavier Silas',\n",
       "              'Yakhouba Diawara',\n",
       "              'Yaroslav Korolev',\n",
       "              'Zeljko Rebraca',\n",
       "              'Zoran Dragic',\n",
       "              'Zoran Planinic'],\n",
       "             1: ['A.J. Price',\n",
       "              'Aaron Brooks',\n",
       "              'Aaron Miles',\n",
       "              'Acie Law',\n",
       "              'Alexey Shved',\n",
       "              'Alvin Williams',\n",
       "              'Andre Barrett',\n",
       "              'Andre Iguodala',\n",
       "              'Andre Miller',\n",
       "              'Andrei Kirilenko',\n",
       "              'Anthony Carter',\n",
       "              'Anthony Johnson',\n",
       "              'Antonio Burks',\n",
       "              'Antonio Daniels',\n",
       "              'Armon Johnson',\n",
       "              'Baron Davis',\n",
       "              'Ben Uzoh',\n",
       "              'Beno Udrih',\n",
       "              'Bobby Brown',\n",
       "              'Boris Diaw',\n",
       "              'Brad Miller',\n",
       "              'Brandon Jennings',\n",
       "              'Brandon Knight',\n",
       "              'Brevin Knight',\n",
       "              'Brian Roberts',\n",
       "              'Briante Weber',\n",
       "              'Bryon Russell',\n",
       "              'C.J. Watson',\n",
       "              'Cameron Payne',\n",
       "              'Carldell Johnson',\n",
       "              'Carlos Arroyo',\n",
       "              'Cedric Jackson',\n",
       "              'Charles Jenkins',\n",
       "              'Chauncey Billups',\n",
       "              'Chris Duhon',\n",
       "              'Chris Paul',\n",
       "              'Chris Quinn',\n",
       "              'Chucky Atkins',\n",
       "              'Coby Karl',\n",
       "              'Cory Joseph',\n",
       "              'Courtney Fortson',\n",
       "              'D.J. Augustin',\n",
       "              'Damian Lillard',\n",
       "              'Damon Stoudamire',\n",
       "              'Dan Dickau',\n",
       "              'Darington Hobson',\n",
       "              'Darius Morris',\n",
       "              'Darrell Armstrong',\n",
       "              'Darren Collison',\n",
       "              'Darrick Martin',\n",
       "              'David Stockton',\n",
       "              'Dee Brown',\n",
       "              'Delon Wright',\n",
       "              'Delonte West',\n",
       "              'Dennis Schroder',\n",
       "              'Deron Williams',\n",
       "              'Derrick Rose',\n",
       "              'Derrick Zimmerman',\n",
       "              'Desmon Farmer',\n",
       "              'Devin Harris',\n",
       "              'Diante Garrett',\n",
       "              'Dominique Jones',\n",
       "              'Donald Sloan',\n",
       "              'Donell Taylor',\n",
       "              'Dontell Jefferson',\n",
       "              'Draymond Green',\n",
       "              'Earl Boykins',\n",
       "              'Earl Watson',\n",
       "              'Eddie Gill',\n",
       "              'Elfrid Payton',\n",
       "              'Emmanuel Mudiay',\n",
       "              'Eric Bledsoe',\n",
       "              'Eric Maynor',\n",
       "              'Eric Snow',\n",
       "              'Eugene Jeter',\n",
       "              'Evan Turner',\n",
       "              'Gal Mekel',\n",
       "              'Gary Payton',\n",
       "              'George Hill',\n",
       "              'Gerald Fitch',\n",
       "              'Goran Dragic',\n",
       "              'Greivis Vasquez',\n",
       "              'Hedo Turkoglu',\n",
       "              'Howard Eisley',\n",
       "              'Isaiah Thomas',\n",
       "              'Ish Smith',\n",
       "              'J.J. Barea',\n",
       "              'Jacque Vaughn',\n",
       "              'Jamaal Tinsley',\n",
       "              'Jameer Nelson',\n",
       "              'Jannero Pargo',\n",
       "              'Jarrett Jack',\n",
       "              'Jason Hart',\n",
       "              'Jason Kidd',\n",
       "              'Jason Williams',\n",
       "              'Javaris Crittenton',\n",
       "              'Jeff McInnis',\n",
       "              'Jeff Teague',\n",
       "              'Jeremy Lin',\n",
       "              'Jeremy Pargo',\n",
       "              'Jerian Grant',\n",
       "              'Jermaine Jackson',\n",
       "              'Jerome Dyson',\n",
       "              'Jerryd Bayless',\n",
       "              'John Wall',\n",
       "              'Jonny Flynn',\n",
       "              'Jordan Farmar',\n",
       "              'Jorge Gutierrez',\n",
       "              'Jose Barea',\n",
       "              'Jose Calderon',\n",
       "              'Joseph Young',\n",
       "              'Jrue Holiday',\n",
       "              'Julius Hodge',\n",
       "              'Julyan Stone',\n",
       "              'Junior Harrington',\n",
       "              'Keith McLeod',\n",
       "              'Kemba Walker',\n",
       "              'Kendall Marshall',\n",
       "              'Kevin Burleson',\n",
       "              'Kevin Ollie',\n",
       "              'Kirk Hinrich',\n",
       "              'Kyle Lowry',\n",
       "              'Lance Stephenson',\n",
       "              'Larry Drew',\n",
       "              'Lindsey Hunter',\n",
       "              'Lorenzo Brown',\n",
       "              'Luke Ridnour',\n",
       "              'Luke Walton',\n",
       "              'Maalik Wayns',\n",
       "              'Manu Ginobili',\n",
       "              'Marcelo Huertas',\n",
       "              'Marcus Banks',\n",
       "              'Marcus Smart',\n",
       "              'Marcus Williams',\n",
       "              'Mardy Collins',\n",
       "              'Mario Chalmers',\n",
       "              'Marko Jaric',\n",
       "              'Marquis Teague',\n",
       "              'Mateen Cleaves',\n",
       "              'Matthew Dellavedova',\n",
       "              'Michael Carter-Williams',\n",
       "              'Mike Bibby',\n",
       "              'Mike Conley',\n",
       "              'Mike James',\n",
       "              'Mike Taylor',\n",
       "              'Mike Wilks',\n",
       "              'Milt Palacio',\n",
       "              'Mo Williams',\n",
       "              'Moochie Norris',\n",
       "              'Mustafa Shakur',\n",
       "              'Nando De Colo',\n",
       "              'Nate Wolters',\n",
       "              'Nick Calathes',\n",
       "              'Nick Van Exel',\n",
       "              'Nicolas Batum',\n",
       "              'Nolan Smith',\n",
       "              'Norris Cole',\n",
       "              'Pablo Prigioni',\n",
       "              'Pape Sy',\n",
       "              'Patrick Ewing',\n",
       "              'Peyton Siva',\n",
       "              'Phil Pressey',\n",
       "              'Rafer Alston',\n",
       "              'Rajon Rondo',\n",
       "              'Ramon Sessions',\n",
       "              'Ray McCallum',\n",
       "              'Raymond Felton',\n",
       "              'Reggie Jackson',\n",
       "              'Rick Brunson',\n",
       "              'Ricky Rubio',\n",
       "              'Rodney Stuckey',\n",
       "              'Rodrigue Beaubois',\n",
       "              'Roko Ukic',\n",
       "              'Ronnie Price',\n",
       "              'Russ Smith',\n",
       "              'Russell Westbrook',\n",
       "              'Sam Cassell',\n",
       "              'Sarunas Jasikevicius',\n",
       "              'Scott Machado',\n",
       "              'Scotty Hopson',\n",
       "              'Sebastian Telfair',\n",
       "              'Sergio Rodriguez',\n",
       "              'Shabazz Napier',\n",
       "              'Shane Larkin',\n",
       "              'Shaun Livingston',\n",
       "              'Shelvin Mack',\n",
       "              'Sim Bhullar',\n",
       "              'Speedy Claxton',\n",
       "              'Spencer Dinwiddie',\n",
       "              'Stephen Curry',\n",
       "              'Stephon Marbury',\n",
       "              'Steve Blake',\n",
       "              'Steve Francis',\n",
       "              'Steve Nash',\n",
       "              'Sundiata Gaines',\n",
       "              'T.J. Ford',\n",
       "              'T.J. McConnell',\n",
       "              'Taurean Green',\n",
       "              'Terrence Williams',\n",
       "              'Terry Rozier',\n",
       "              'Tim Frazier',\n",
       "              'Toney Douglas',\n",
       "              'Toni Kukoc',\n",
       "              'Tony Parker',\n",
       "              \"Toure' Murry\",\n",
       "              'Tracy McGrady',\n",
       "              'Travis Diener',\n",
       "              'Travis Leslie',\n",
       "              'Trey Burke',\n",
       "              'Troy Hudson',\n",
       "              'Ty Lawson',\n",
       "              'Tyler Ennis',\n",
       "              'Tyreke Evans',\n",
       "              'Tyronn Lue',\n",
       "              'Tyshawn Taylor',\n",
       "              'Tyus Jones',\n",
       "              'Walker Russell',\n",
       "              'Will Bynum',\n",
       "              'Will Conroy',\n",
       "              'Will Solomon',\n",
       "              'Willie Warren',\n",
       "              'Zabian Dowdell'],\n",
       "             2: ['Al Harrington',\n",
       "              'Al Horford',\n",
       "              'Al Jefferson',\n",
       "              'Al Thornton',\n",
       "              'Alando Tucker',\n",
       "              'Alec Burks',\n",
       "              'Allen Iverson',\n",
       "              'Alonzo Mourning',\n",
       "              \"Amar'e Stoudemire\",\n",
       "              'Andray Blatche',\n",
       "              'Andrea Bargnani',\n",
       "              'Andres Nocioni',\n",
       "              'Andrew Bynum',\n",
       "              'Andrew Nicholson',\n",
       "              'Andrew Wiggins',\n",
       "              'Antawn Jamison',\n",
       "              'Anthony Davis',\n",
       "              'Anthony Grundy',\n",
       "              'Anthony Randolph',\n",
       "              'Antoine Walker',\n",
       "              'Archie Goodwin',\n",
       "              'Awvee Storey',\n",
       "              'Ben Gordon',\n",
       "              'Blake Griffin',\n",
       "              'Boban Marjanovic',\n",
       "              'Bobby Jackson',\n",
       "              'Bonzi Wells',\n",
       "              'Bostjan Nachbar',\n",
       "              'Bradley Beal',\n",
       "              'Brandan Wright',\n",
       "              'Brandon Bass',\n",
       "              'Brandon Roy',\n",
       "              'Brian Cook',\n",
       "              'Brook Lopez',\n",
       "              'Bryce Cotton',\n",
       "              'Byron Mullens',\n",
       "              'C.J. McCollum',\n",
       "              'C.J. Miles',\n",
       "              'Carl Landry',\n",
       "              'Carlos Boozer',\n",
       "              'Carmelo Anthony',\n",
       "              'Caron Butler',\n",
       "              'Carrick Felix',\n",
       "              'Chandler Parsons',\n",
       "              'Channing Frye',\n",
       "              'Charlie Villanueva',\n",
       "              'Chris Bosh',\n",
       "              'Chris Copeland',\n",
       "              'Chris Kaman',\n",
       "              'Chris Webber',\n",
       "              'Chris Wilcox',\n",
       "              'Chris Wright',\n",
       "              'Christian Wood',\n",
       "              'Corey Maggette',\n",
       "              'Corliss Williamson',\n",
       "              'Coty Clarke',\n",
       "              'Craig Smith',\n",
       "              \"D'Angelo Russell\",\n",
       "              'D.J. Stephens',\n",
       "              'D.J. White',\n",
       "              'Dajuan Wagner',\n",
       "              'Danilo Gallinari',\n",
       "              'Danny Granger',\n",
       "              'Darius Miles',\n",
       "              'Darius Songaila',\n",
       "              'Darrell Arthur',\n",
       "              'David Andersen',\n",
       "              'David Harrison',\n",
       "              'David Lee',\n",
       "              'David West',\n",
       "              'DeMar DeRozan',\n",
       "              'DeMarcus Cousins',\n",
       "              'Derrick Caracter',\n",
       "              'Derrick Favors',\n",
       "              'Derrick Williams',\n",
       "              'Devin Booker',\n",
       "              'Dijon Thompson',\n",
       "              'Dion Waiters',\n",
       "              'Dirk Nowitzki',\n",
       "              'Donatas Motiejunas',\n",
       "              'Drew Gooden',\n",
       "              'Dwight Howard',\n",
       "              'Dwyane Wade',\n",
       "              'Eddy Curry',\n",
       "              'Elton Brand',\n",
       "              'Enes Kanter',\n",
       "              'Eric Dawson',\n",
       "              'Eric Gordon',\n",
       "              'Ersan Ilyasova',\n",
       "              'Evan Fournier',\n",
       "              'Garret Siler',\n",
       "              'Gary Forbes',\n",
       "              'Gary Neal',\n",
       "              'Gerald Green',\n",
       "              'Gerald Henderson',\n",
       "              'Gerald Wallace',\n",
       "              'Giannis Antetokounmpo',\n",
       "              'Gilbert Arenas',\n",
       "              'Glen Davis',\n",
       "              'Gordon Hayward',\n",
       "              'Grant Hill',\n",
       "              'Greg Monroe',\n",
       "              'Hakim Warrick',\n",
       "              'Henry Sims',\n",
       "              'Ike Diogu',\n",
       "              'Ivan Johnson',\n",
       "              'J.J. Redick',\n",
       "              'J.R. Smith',\n",
       "              'JaJuan Johnson',\n",
       "              'JaMychal Green',\n",
       "              'JaVale McGee',\n",
       "              'Jabari Parker',\n",
       "              'Jackie Butler',\n",
       "              'Jahlil Okafor',\n",
       "              'Jalen Rose',\n",
       "              'Jamal Crawford',\n",
       "              'James Harden',\n",
       "              'James Johnson',\n",
       "              'James Michael McAdoo',\n",
       "              'James Southerland',\n",
       "              'Jarnell Stokes',\n",
       "              'Jason Richardson',\n",
       "              'Jason Smith',\n",
       "              'Jason Terry',\n",
       "              'Jeff Green',\n",
       "              'Jeremy Lamb',\n",
       "              \"Jermaine O'Neal\",\n",
       "              'Jermaine Taylor',\n",
       "              'Jermareo Davidson',\n",
       "              'Jerry Stackhouse',\n",
       "              'Jimmer Fredette',\n",
       "              'Jimmy Butler',\n",
       "              'Joe Alexander',\n",
       "              'Joe Johnson',\n",
       "              'Joe Smith',\n",
       "              'Joffrey Lauvergne',\n",
       "              'John Henson',\n",
       "              'Jon Leuer',\n",
       "              'Jonathan Bender',\n",
       "              'Jordan Clarkson',\n",
       "              'Jordan Crawford',\n",
       "              'Jordan Hamilton',\n",
       "              'Jordan McRae',\n",
       "              'Jordan Mickey',\n",
       "              'Josh Akognon',\n",
       "              'Josh Howard',\n",
       "              'Josh Smith',\n",
       "              'Juan Dixon',\n",
       "              'Karl-Anthony Towns',\n",
       "              'Kawhi Leonard',\n",
       "              'Keith Van Horn',\n",
       "              'Kelenna Azubuike',\n",
       "              'Kelly Olynyk',\n",
       "              'Kenneth Faried',\n",
       "              'Kevin Durant',\n",
       "              'Kevin Garnett',\n",
       "              'Kevin Love',\n",
       "              'Kevin Martin',\n",
       "              'Kevin Seraphin',\n",
       "              'Khris Middleton',\n",
       "              'Klay Thompson',\n",
       "              'Kobe Bryant',\n",
       "              'Kristaps Porzingis',\n",
       "              'Kyrie Irving',\n",
       "              'LaMarcus Aldridge',\n",
       "              'Larry Hughes',\n",
       "              'LeBron James',\n",
       "              'Leandro Barbosa',\n",
       "              'Lee Nailon',\n",
       "              'Leon Powe',\n",
       "              'Lester Hudson',\n",
       "              'Linas Kleiza',\n",
       "              'Lou Williams',\n",
       "              'Luigi Datome',\n",
       "              'Luis Scola',\n",
       "              'Luol Deng',\n",
       "              'MarShon Brooks',\n",
       "              'Marc Gasol',\n",
       "              'Marc Jackson',\n",
       "              'Marcus Fizer',\n",
       "              'Marcus Haislip',\n",
       "              'Marcus Morris',\n",
       "              'Marcus Thornton',\n",
       "              'Mark Blount',\n",
       "              'Markieff Morris',\n",
       "              'Marreese Speights',\n",
       "              'Matt Harpring',\n",
       "              'Matt Walsh',\n",
       "              'Mehmet Okur',\n",
       "              'Metta World Peace',\n",
       "              'Michael Beasley',\n",
       "              'Michael Redd',\n",
       "              'Mike Dunleavy',\n",
       "              'Mike Scott',\n",
       "              'Miroslav Raduljica',\n",
       "              'Mirza Teletovic',\n",
       "              'Monta Ellis',\n",
       "              'Montrezl Harrell',\n",
       "              'Myles Turner',\n",
       "              'Nate Robinson',\n",
       "              'Nenad Krstic',\n",
       "              'Nene Hilario',\n",
       "              'Nick Young',\n",
       "              'Nikola Mirotic',\n",
       "              'Nikola Pekovic',\n",
       "              'Nikola Vucevic',\n",
       "              'O.J. Mayo',\n",
       "              'Oleksiy Pecherov',\n",
       "              'Omri Casspi',\n",
       "              'Othella Harrington',\n",
       "              'Pat Burke',\n",
       "              'Patrick Mills',\n",
       "              'Pau Gasol',\n",
       "              'Paul George',\n",
       "              'Paul Millsap',\n",
       "              'Paul Pierce',\n",
       "              'Peja Stojakovic',\n",
       "              'Primoz Brezec',\n",
       "              'Rashad McCants',\n",
       "              'Rashard Lewis',\n",
       "              'Rasheed Wallace',\n",
       "              'Ray Allen',\n",
       "              'Reggie Williams',\n",
       "              'Richard Hamilton',\n",
       "              'Richard Jefferson',\n",
       "              'Richaun Holmes',\n",
       "              'Ricky Davis',\n",
       "              'Robert Covington',\n",
       "              'Robin Lopez',\n",
       "              'Rodney Hood',\n",
       "              'Ronald Murray',\n",
       "              'Roy Hibbert',\n",
       "              'Ruben Patterson',\n",
       "              'Rudy Gay',\n",
       "              'Ryan Anderson',\n",
       "              'Ryan Reid',\n",
       "              'Salim Stoudamire',\n",
       "              'Samardo Samuels',\n",
       "              'Sean Kilpatrick',\n",
       "              'Sean May',\n",
       "              'Serge Ibaka',\n",
       "              'Shabazz Muhammad',\n",
       "              'Shannon Brown',\n",
       "              \"Shaquille O'Neal\",\n",
       "              'Shareef Abdur-Rahim',\n",
       "              'Shawn Marion',\n",
       "              'Shayne Whittington',\n",
       "              'Stanislav Medvedenko',\n",
       "              'Stephen Jackson',\n",
       "              'Stromile Swift',\n",
       "              'T.J. Warren',\n",
       "              'Terrence Jones',\n",
       "              'Thaddeus Young',\n",
       "              'Thanasis Antetokounmpo',\n",
       "              'Tiago Splitter',\n",
       "              'Tim Duncan',\n",
       "              'Tim Thomas',\n",
       "              'Tobias Harris',\n",
       "              'Tony Delk',\n",
       "              'Tony Wroten',\n",
       "              'Travis Outlaw',\n",
       "              'Trey Gilder',\n",
       "              'Trey Thompkins',\n",
       "              'Tyler Hansbrough',\n",
       "              'Tyler Zeller',\n",
       "              'Tyrus Thomas',\n",
       "              'Uros Slokar',\n",
       "              'Victor Oladipo',\n",
       "              'Vince Carter',\n",
       "              'Wally Szczerbiak',\n",
       "              'Walter Herrmann',\n",
       "              'Walter Sharpe',\n",
       "              'Will Barton',\n",
       "              'Willie Reed',\n",
       "              'Wilson Chandler',\n",
       "              'Yao Ming',\n",
       "              'Zach LaVine',\n",
       "              'Zach Randolph',\n",
       "              'Zarko Cabarkapa',\n",
       "              'Zendon Hamilton',\n",
       "              'Zydrunas Ilgauskas'],\n",
       "             3: ['Aaron Gordon',\n",
       "              'Aaron Gray',\n",
       "              'Aaron Williams',\n",
       "              'Adonal Foyle',\n",
       "              'Adreian Payne',\n",
       "              'Adrian Griffin',\n",
       "              'Al-Farouq Aminu',\n",
       "              'Alan Henderson',\n",
       "              'Alan Williams',\n",
       "              'Alex Len',\n",
       "              'Alex Stepheson',\n",
       "              'Alexander Johnson',\n",
       "              'Alexis Ajinca',\n",
       "              'Amir Johnson',\n",
       "              'Anderson Varejao',\n",
       "              'Andre Brown',\n",
       "              'Andre Drummond',\n",
       "              'Andrew Bogut',\n",
       "              'Andris Biedrins',\n",
       "              'Anthony Bennett',\n",
       "              'Antonio Davis',\n",
       "              'Antonio McDyess',\n",
       "              'Arinze Onuaku',\n",
       "              'Arnett Moultrie',\n",
       "              'Aron Baynes',\n",
       "              'Austin Croshere',\n",
       "              'Ben Wallace',\n",
       "              'Bernard James',\n",
       "              'Bismack Biyombo',\n",
       "              'Bo Outlaw',\n",
       "              'Bobby Portis',\n",
       "              \"Boniface N'Dong\",\n",
       "              'Branden Dawson',\n",
       "              'Brandon Davies',\n",
       "              'Brendan Haywood',\n",
       "              'Brian Grant',\n",
       "              'Brian Skinner',\n",
       "              'Calvin Booth',\n",
       "              'Cameron Bairstow',\n",
       "              'Cedric Simmons',\n",
       "              'Cheikh Samb',\n",
       "              'Chris Andersen',\n",
       "              'Chris Hunter',\n",
       "              'Chris Mihm',\n",
       "              'Chris Richard',\n",
       "              'Chris Taft',\n",
       "              'Chuck Hayes',\n",
       "              'Clint Capela',\n",
       "              'Cody Zeller',\n",
       "              'Cole Aldrich',\n",
       "              'Cory Jefferson',\n",
       "              'Courtney Sims',\n",
       "              'Cristiano Felicio',\n",
       "              'Dale Davis',\n",
       "              'Damien Inglis',\n",
       "              'Damion James',\n",
       "              'Dan Gadzuric',\n",
       "              'Daniel Orton',\n",
       "              'Danny Fortson',\n",
       "              'Darius Johnson-Odom',\n",
       "              'Darko Milicic',\n",
       "              'Darryl Watkins',\n",
       "              'David Wear',\n",
       "              'DeAndre Jordan',\n",
       "              'DeJuan Blair',\n",
       "              'DeSagana Diop',\n",
       "              'Dennis Horner',\n",
       "              'Derrick Byars',\n",
       "              'Dewayne Dedmon',\n",
       "              'Dexter Pittman',\n",
       "              'Didier Ilunga-Mbenga',\n",
       "              'Dikembe Mutombo',\n",
       "              'Dominic McGuire',\n",
       "              'Donyell Marshall',\n",
       "              'Drew Gordon',\n",
       "              'Dwayne Jones',\n",
       "              'Dwight Powell',\n",
       "              'Earl Barron',\n",
       "              'Earl Clark',\n",
       "              'Ed Davis',\n",
       "              'Eddie Basden',\n",
       "              'Eddie Griffin',\n",
       "              'Eduardo Najera',\n",
       "              'Ekpe Udoh',\n",
       "              'Emeka Okafor',\n",
       "              'Eric Moreland',\n",
       "              'Erick Dampier',\n",
       "              'Ervin Johnson',\n",
       "              'Esteban Batista',\n",
       "              'Etan Thomas',\n",
       "              'Fabricio Oberto',\n",
       "              'Festus Ezeli',\n",
       "              'Francisco Elson',\n",
       "              'Furkan Aldemir',\n",
       "              'Gorgui Dieng',\n",
       "              'Greg Oden',\n",
       "              'Greg Ostertag',\n",
       "              'Greg Smith',\n",
       "              'Greg Stiemsma',\n",
       "              'Gustavo Ayon',\n",
       "              'Ha Seung-Jin',\n",
       "              'Hamed Haddadi',\n",
       "              'Hasheem Thabeet',\n",
       "              'Hassan Whiteside',\n",
       "              'Hilton Armstrong',\n",
       "              'Ian Mahinmi',\n",
       "              'Ivan McFarlin',\n",
       "              'J.J. Hickson',\n",
       "              'J.R. Giddens',\n",
       "              'Jack Cooley',\n",
       "              'Jackson Vroman',\n",
       "              'Jake Tsakalidis',\n",
       "              'Jake Voskuhl',\n",
       "              'Jamaal Magloire',\n",
       "              'Jamal Sampson',\n",
       "              'James Augustine',\n",
       "              'James Lang',\n",
       "              'James Singleton',\n",
       "              'James Thomas',\n",
       "              'Jan Vesely',\n",
       "              'Jared Jeffries',\n",
       "              'Jared Reiner',\n",
       "              'Jared Sullinger',\n",
       "              'Jarell Martin',\n",
       "              'Jarron Collins',\n",
       "              'Jason Maxiell',\n",
       "              'Jason Thompson',\n",
       "              'Jeff Adrien',\n",
       "              'Jeff Ayres',\n",
       "              'Jeff Foster',\n",
       "              'Jeff Withey',\n",
       "              'Jelani McCoy',\n",
       "              'Jeremy Evans',\n",
       "              'Jeremy Tyler',\n",
       "              'Jerome James',\n",
       "              'Jerome Jordan',\n",
       "              'Joakim Noah',\n",
       "              'Joel Anthony',\n",
       "              'Joel Freeland',\n",
       "              'Joel Przybilla',\n",
       "              'Joey Dorsey',\n",
       "              'Johan Petro',\n",
       "              'Jon Brockman',\n",
       "              'Jonas Jerebko',\n",
       "              'Jonas Valanciunas',\n",
       "              'Jordan Hill',\n",
       "              'Jordan Williams',\n",
       "              'Josh Boone',\n",
       "              'Josh Davis',\n",
       "              'Josh Harrellson',\n",
       "              'Josh McRoberts',\n",
       "              'Josh Powell',\n",
       "              'Julius Randle',\n",
       "              'Justin Anderson',\n",
       "              'Justin Williams',\n",
       "              'Jusuf Nurkic',\n",
       "              'Juwan Howard',\n",
       "              'Keith Benson',\n",
       "              'Kelvin Cato',\n",
       "              'Kendrick Perkins',\n",
       "              'Kenny Thomas',\n",
       "              'Kenyon Martin',\n",
       "              'Kevin Jones',\n",
       "              'Kevon Looney',\n",
       "              'Kosta Koufos',\n",
       "              'Kosta Perovic',\n",
       "              'Kris Humphries',\n",
       "              'Kurt Thomas',\n",
       "              'Kwame Brown',\n",
       "              'Kyle Anderson',\n",
       "              \"Kyle O'Quinn\",\n",
       "              'Kyrylo Fesenko',\n",
       "              'Lamar Odom',\n",
       "              'Lamond Murray',\n",
       "              'Larry Nance Jr.',\n",
       "              'Larry Sanders',\n",
       "              'Lavoy Allen',\n",
       "              'Lawrence Roberts',\n",
       "              'Linton Johnson',\n",
       "              'Lonny Baxter',\n",
       "              'Loren Woods',\n",
       "              'Lorenzen Wright',\n",
       "              'Lou Amundson',\n",
       "              'Lucas Nogueira',\n",
       "              'Luke Harangody',\n",
       "              'Luke Schenscher',\n",
       "              'Maceo Baston',\n",
       "              'Maciej Lampe',\n",
       "              'Malcolm Thomas',\n",
       "              'Malik Rose',\n",
       "              'Marcin Gortat',\n",
       "              'Marcus Camby',\n",
       "              'Mario Kasun',\n",
       "              'Mario West',\n",
       "              'Mark Madsen',\n",
       "              'Martynas Andriuskevicius',\n",
       "              'Mason Plumlee',\n",
       "              'Melvin Ely',\n",
       "              'Meyers Leonard',\n",
       "              'Michael Bradley',\n",
       "              'Michael Doleac',\n",
       "              'Michael Kidd-Gilchrist',\n",
       "              'Michael Olowokandi',\n",
       "              'Michael Ruffin',\n",
       "              'Mickell Gladness',\n",
       "              'Mike Harris',\n",
       "              'Mike Muscala',\n",
       "              'Mike Sweetney',\n",
       "              'Mikki Moore',\n",
       "              'Miles Plumlee',\n",
       "              'Mitch McGary',\n",
       "              'Mouhamed Sene',\n",
       "              'Nathan Jawai',\n",
       "              'Nazr Mohammed',\n",
       "              'Nerlens Noel',\n",
       "              'Nick Collison',\n",
       "              'Nick Fazekas',\n",
       "              'Nikola Jokic',\n",
       "              'Nikoloz Tskitishvili',\n",
       "              'Noah Vonleh',\n",
       "              'Ognjen Kuzmic',\n",
       "              'Omer Asik',\n",
       "              'Othello Hunter',\n",
       "              'Othyus Jeffers',\n",
       "              'P.J. Brown',\n",
       "              'P.J. Tucker',\n",
       "              'Pape Sow',\n",
       "              'Pat Connaughton',\n",
       "              \"Patrick O'Bryant\",\n",
       "              'Paul Davis',\n",
       "              'Pavel Podkolzin',\n",
       "              'Pero Antic',\n",
       "              'Pops Mensah-Bonsu',\n",
       "              'Quincy Acy',\n",
       "              'Raef LaFrentz',\n",
       "              'Rafael Araujo',\n",
       "              'Randolph Morris',\n",
       "              'Rasho Nesterovic',\n",
       "              'Reggie Evans',\n",
       "              'Renaldo Balkman',\n",
       "              'Robert Horry',\n",
       "              'Robert Sacre',\n",
       "              'Robert Swift',\n",
       "              'Robert Whaley',\n",
       "              'Roger Powell',\n",
       "              'Ronald Dupree',\n",
       "              'Rondae Hollis-Jefferson',\n",
       "              'Ronny Turiaf',\n",
       "              'Rudy Gobert',\n",
       "              'Salah Mejri',\n",
       "              'Samuel Dalembert',\n",
       "              'Sasha Kaun',\n",
       "              'Scot Pollard',\n",
       "              'Scott Padgett',\n",
       "              'Sean Marks',\n",
       "              'Sean Williams',\n",
       "              'Semih Erden',\n",
       "              'Sharrod Ford',\n",
       "              'Shavlik Randolph',\n",
       "              'Shelden Williams',\n",
       "              'Solomon Alabi',\n",
       "              'Solomon Jones',\n",
       "              'Spencer Hawes',\n",
       "              'Steven Adams',\n",
       "              'Steven Hunter',\n",
       "              'Steven Smith',\n",
       "              'Taj Gibson',\n",
       "              'Tarik Black',\n",
       "              'Terence Morris',\n",
       "              'Theo Ratliff',\n",
       "              'Thomas Robinson',\n",
       "              'Timofey Mozgov',\n",
       "              'Tony Battie',\n",
       "              'Tony Mitchell',\n",
       "              'Trevor Booker',\n",
       "              'Trey Lyles',\n",
       "              'Tristan Thompson',\n",
       "              'Troy Murphy',\n",
       "              'Tyler Honeycutt',\n",
       "              'Tyson Chandler',\n",
       "              'Udonis Haslem',\n",
       "              'Vernon Macklin',\n",
       "              'Viacheslav Kravtsov',\n",
       "              'Viktor Khryapa',\n",
       "              'Vin Baker',\n",
       "              'Vitor Faverani',\n",
       "              'Walter McCarty',\n",
       "              'Walter Tavares',\n",
       "              'Willie Cauley-Stein',\n",
       "              'Yi Jianlian',\n",
       "              'Zaza Pachulia'],\n",
       "             4: ['Jerrelle Benimon', 'Steven Hill']})"
      ]
     },
     "execution_count": 51,
     "metadata": {},
     "output_type": "execute_result"
    }
   ],
   "source": [
    "dict_pca2"
   ]
  },
  {
   "cell_type": "markdown",
   "metadata": {},
   "source": [
    "# Try with original 8"
   ]
  },
  {
   "cell_type": "code",
   "execution_count": 52,
   "metadata": {
    "collapsed": true
   },
   "outputs": [],
   "source": [
    "from sklearn.preprocessing import StandardScaler"
   ]
  },
  {
   "cell_type": "code",
   "execution_count": 53,
   "metadata": {
    "collapsed": true
   },
   "outputs": [],
   "source": [
    "standard_scaler = StandardScaler()"
   ]
  },
  {
   "cell_type": "code",
   "execution_count": 54,
   "metadata": {
    "collapsed": false
   },
   "outputs": [],
   "source": [
    "scaled = standard_scaler.fit_transform(PA48.iloc[:,:8])"
   ]
  },
  {
   "cell_type": "code",
   "execution_count": 55,
   "metadata": {
    "collapsed": false
   },
   "outputs": [
    {
     "data": {
      "text/plain": [
       "KMeans(copy_x=True, init='k-means++', max_iter=300, n_clusters=5, n_init=10,\n",
       "    n_jobs=1, precompute_distances='auto', random_state=30, tol=0.0001,\n",
       "    verbose=0)"
      ]
     },
     "execution_count": 55,
     "metadata": {},
     "output_type": "execute_result"
    }
   ],
   "source": [
    "km.fit(scaled)"
   ]
  },
  {
   "cell_type": "code",
   "execution_count": 56,
   "metadata": {
    "collapsed": false
   },
   "outputs": [],
   "source": [
    "dict_nonpca = pca_ready.make_cluster_dictionary2(km, PA48.iloc[:,:8])"
   ]
  },
  {
   "cell_type": "code",
   "execution_count": 57,
   "metadata": {
    "collapsed": false
   },
   "outputs": [
    {
     "data": {
      "text/plain": [
       "['Aaron Miles',\n",
       " 'Acie Law',\n",
       " 'Alexey Shved',\n",
       " 'Alvin Williams',\n",
       " 'Andre Barrett',\n",
       " 'Andy Rautins',\n",
       " 'Anfernee Hardaway',\n",
       " 'Anthony Carter',\n",
       " 'Anthony Johnson',\n",
       " 'Antonio Burks']"
      ]
     },
     "execution_count": 57,
     "metadata": {},
     "output_type": "execute_result"
    }
   ],
   "source": [
    "dict_nonpca[0][:10]"
   ]
  },
  {
   "cell_type": "markdown",
   "metadata": {},
   "source": [
    "# 3D Plot on PCA"
   ]
  },
  {
   "cell_type": "code",
   "execution_count": 58,
   "metadata": {
    "collapsed": true
   },
   "outputs": [],
   "source": [
    "from mpl_toolkits.mplot3d import Axes3D"
   ]
  },
  {
   "cell_type": "code",
   "execution_count": 59,
   "metadata": {
    "collapsed": true
   },
   "outputs": [],
   "source": [
    "from scripts import makeplot"
   ]
  },
  {
   "cell_type": "code",
   "execution_count": 60,
   "metadata": {
    "collapsed": false
   },
   "outputs": [],
   "source": [
    "#makeplot.make_plots(mat)"
   ]
  },
  {
   "cell_type": "code",
   "execution_count": 61,
   "metadata": {
    "collapsed": false
   },
   "outputs": [
    {
     "data": {
      "text/html": [
       "<div>\n",
       "<table border=\"1\" class=\"dataframe\">\n",
       "  <thead>\n",
       "    <tr style=\"text-align: right;\">\n",
       "      <th></th>\n",
       "      <th>0</th>\n",
       "      <th>1</th>\n",
       "      <th>2</th>\n",
       "    </tr>\n",
       "  </thead>\n",
       "  <tbody>\n",
       "    <tr>\n",
       "      <th>1084</th>\n",
       "      <td>0.344487</td>\n",
       "      <td>2.727921</td>\n",
       "      <td>6.013612</td>\n",
       "    </tr>\n",
       "    <tr>\n",
       "      <th>218</th>\n",
       "      <td>-0.072251</td>\n",
       "      <td>1.653016</td>\n",
       "      <td>5.446649</td>\n",
       "    </tr>\n",
       "    <tr>\n",
       "      <th>791</th>\n",
       "      <td>-1.340083</td>\n",
       "      <td>0.027895</td>\n",
       "      <td>4.347308</td>\n",
       "    </tr>\n",
       "    <tr>\n",
       "      <th>991</th>\n",
       "      <td>-0.199581</td>\n",
       "      <td>-0.247470</td>\n",
       "      <td>2.793942</td>\n",
       "    </tr>\n",
       "    <tr>\n",
       "      <th>761</th>\n",
       "      <td>0.839014</td>\n",
       "      <td>0.400457</td>\n",
       "      <td>2.452723</td>\n",
       "    </tr>\n",
       "  </tbody>\n",
       "</table>\n",
       "</div>"
      ],
      "text/plain": [
       "             0         1         2\n",
       "1084  0.344487  2.727921  6.013612\n",
       "218  -0.072251  1.653016  5.446649\n",
       "791  -1.340083  0.027895  4.347308\n",
       "991  -0.199581 -0.247470  2.793942\n",
       "761   0.839014  0.400457  2.452723"
      ]
     },
     "execution_count": 61,
     "metadata": {},
     "output_type": "execute_result"
    }
   ],
   "source": [
    "mat.sort_values(by=2, ascending=False).head()"
   ]
  },
  {
   "cell_type": "code",
   "execution_count": 62,
   "metadata": {
    "collapsed": false,
    "scrolled": true
   },
   "outputs": [
    {
     "data": {
      "text/plain": [
       "Index([u'Steven Hill', u'Bryon Russell', u'Jerrelle Benimon', u'Sim Bhullar',\n",
       "       u'Thanasis Antetokounmpo'],\n",
       "      dtype='object', name=u'Player Name')"
      ]
     },
     "execution_count": 62,
     "metadata": {},
     "output_type": "execute_result"
    }
   ],
   "source": [
    "PA48.index[[1061, 147, 550, 1039, 1084]]"
   ]
  },
  {
   "cell_type": "markdown",
   "metadata": {},
   "source": [
    "#### Points 1061, 147, 550, 1039, 1084 are problematic"
   ]
  },
  {
   "cell_type": "markdown",
   "metadata": {},
   "source": [
    "# Find outliers that are messing up PCA"
   ]
  },
  {
   "cell_type": "markdown",
   "metadata": {},
   "source": [
    "### Drop them from PCA"
   ]
  },
  {
   "cell_type": "code",
   "execution_count": 63,
   "metadata": {
    "collapsed": false
   },
   "outputs": [],
   "source": [
    "PA48_nout = PA48.drop(PA48.index[[1061, 147, 550, 1039, 1084]])"
   ]
  },
  {
   "cell_type": "code",
   "execution_count": 64,
   "metadata": {
    "collapsed": false
   },
   "outputs": [],
   "source": [
    "mat_nout, comp_nout = pca_ready.run_pca(PA48_nout.iloc[:,:8])"
   ]
  },
  {
   "cell_type": "code",
   "execution_count": 65,
   "metadata": {
    "collapsed": true
   },
   "outputs": [],
   "source": [
    "km = KMeans(n_clusters=5, random_state = 30)"
   ]
  },
  {
   "cell_type": "code",
   "execution_count": 66,
   "metadata": {
    "collapsed": false
   },
   "outputs": [
    {
     "data": {
      "text/plain": [
       "KMeans(copy_x=True, init='k-means++', max_iter=300, n_clusters=5, n_init=10,\n",
       "    n_jobs=1, precompute_distances='auto', random_state=30, tol=0.0001,\n",
       "    verbose=0)"
      ]
     },
     "execution_count": 66,
     "metadata": {},
     "output_type": "execute_result"
    }
   ],
   "source": [
    "km.fit(mat_nout)"
   ]
  },
  {
   "cell_type": "code",
   "execution_count": 67,
   "metadata": {
    "collapsed": false
   },
   "outputs": [],
   "source": [
    "dict_pca2_nout = pca_ready.make_cluster_dictionary2(km, PA48_nout.iloc[:,:8])"
   ]
  },
  {
   "cell_type": "code",
   "execution_count": 68,
   "metadata": {
    "collapsed": false
   },
   "outputs": [
    {
     "data": {
      "text/plain": [
       "defaultdict(list,\n",
       "            {0: ['Aaron Harrison',\n",
       "              'Aaron McKie',\n",
       "              'Alex Kirk',\n",
       "              'Alex Scales',\n",
       "              'Alonzo Gee',\n",
       "              'Andre Dawkins',\n",
       "              'Andre Emmett',\n",
       "              'Andre Owens',\n",
       "              'Andre Roberson',\n",
       "              'Andreas Glyniadakis',\n",
       "              'Anfernee Hardaway',\n",
       "              'Anthony Brown',\n",
       "              'Anthony Goldwire',\n",
       "              'Anthony Parker',\n",
       "              'Anthony Tolliver',\n",
       "              'Antoine Wright',\n",
       "              'Antonio Anderson',\n",
       "              'Axel Toupane',\n",
       "              'Bernard Robinson',\n",
       "              'Billy Thomas',\n",
       "              'Branden Dawson',\n",
       "              'Brandon Rush',\n",
       "              'Brent Barry',\n",
       "              'Brian Cardinal',\n",
       "              'Brian Scalabrine',\n",
       "              'Bruce Bowen',\n",
       "              'Bruno Caboclo',\n",
       "              'Bryce Dejean-Jones',\n",
       "              'Calbert Cheaney',\n",
       "              'Casey Jacobsen',\n",
       "              'Cedric Bozeman',\n",
       "              'Cedric Simmons',\n",
       "              'Chris Babb',\n",
       "              'Chris Johnson',\n",
       "              'Chris McCray',\n",
       "              'Chris McCullough',\n",
       "              'Chris Singleton',\n",
       "              'Chris Smith',\n",
       "              'Christian Eyenga',\n",
       "              'Cleanthony Early',\n",
       "              'Cliff Alexander',\n",
       "              'Clifford Robinson',\n",
       "              'Craig Brackins',\n",
       "              'D.J. Kennedy',\n",
       "              'D.J. Strawberry',\n",
       "              'Damir Markota',\n",
       "              'Damjan Rudez',\n",
       "              'Damon Jones',\n",
       "              'Daniel Ewing',\n",
       "              'Daniel Gibson',\n",
       "              'Dante Cunningham',\n",
       "              'Dante Exum',\n",
       "              'Darius Miller',\n",
       "              'Darnell Jackson',\n",
       "              'David Noel',\n",
       "              'David Wesley',\n",
       "              'DeAndre Liggins',\n",
       "              'DeMarcus Nelson',\n",
       "              'DeQuan Jones',\n",
       "              'DeShawn Stevenson',\n",
       "              'Deng Gai',\n",
       "              'Derek Fisher',\n",
       "              'Desmon Farmer',\n",
       "              'Devean George',\n",
       "              'Devin Ebanks',\n",
       "              'Devin Green',\n",
       "              'Devyn Marble',\n",
       "              'Diante Garrett',\n",
       "              'Donta Smith',\n",
       "              'Doron Lamb',\n",
       "              'Doug Christie',\n",
       "              'Eddie Jones',\n",
       "              'Eduardo Najera',\n",
       "              'Edwin Ubiles',\n",
       "              'Elias Harris',\n",
       "              'Elijah Millsap',\n",
       "              'Eric Piatkowski',\n",
       "              'Eric Williams',\n",
       "              'Erik Murphy',\n",
       "              'Fab Melo',\n",
       "              'Fred Jones',\n",
       "              'Gabe Pruitt',\n",
       "              'Gani Lawal',\n",
       "              'Garrett Temple',\n",
       "              'Glen Rice',\n",
       "              'Glenn Robinson',\n",
       "              'Grant Jerrett',\n",
       "              'Greg Buckner',\n",
       "              'Guillermo Diaz',\n",
       "              \"Hamady N'Diaye\",\n",
       "              'Hollis Thompson',\n",
       "              'Iman Shumpert',\n",
       "              'Ime Udoka',\n",
       "              'Ira Newble',\n",
       "              \"J.J. O'Brien\",\n",
       "              'Jamaal Franklin',\n",
       "              'Jamario Moon',\n",
       "              'James Anderson',\n",
       "              'James Ennis',\n",
       "              'James Jones',\n",
       "              'James Nunnally',\n",
       "              'James Posey',\n",
       "              'James White',\n",
       "              'James Young',\n",
       "              'JamesOn Curry',\n",
       "              'Jared Cunningham',\n",
       "              'Jared Jeffries',\n",
       "              'Jarron Collins',\n",
       "              'Jarvis Varnado',\n",
       "              'Jason Collins',\n",
       "              'Jawad Williams',\n",
       "              'Jeff Foote',\n",
       "              'Jeffery Taylor',\n",
       "              'Jerel McNeal',\n",
       "              'Jerry Smith',\n",
       "              'Jim Jackson',\n",
       "              'Jiri Welsch',\n",
       "              'Joe Harris',\n",
       "              'Joe Ingles',\n",
       "              'Joel Anthony',\n",
       "              'John Edwards',\n",
       "              'John Thomas',\n",
       "              \"Johnny O'Bryant\",\n",
       "              'Jon Barry',\n",
       "              'Jorge Garbajosa',\n",
       "              'Josh Richardson',\n",
       "              'Josh Selby',\n",
       "              'Julian Wright',\n",
       "              'Justin Dentmon',\n",
       "              'Justin Hamilton',\n",
       "              'Justin Harper',\n",
       "              'Justin Holiday',\n",
       "              'Justise Winslow',\n",
       "              'Kalin Lucas',\n",
       "              'Kaniel Dickens',\n",
       "              'Kasib Powell',\n",
       "              'Keith Appling',\n",
       "              'Keith Bogans',\n",
       "              'Keith Langford',\n",
       "              'Kevin Murphy',\n",
       "              'Kevin Ollie',\n",
       "              'Kevin Willis',\n",
       "              'Kevinn Pinkney',\n",
       "              'Kim English',\n",
       "              'Kostas Papanikolaou',\n",
       "              'Kris Joseph',\n",
       "              'Kyle Singler',\n",
       "              'Kyle Weaver',\n",
       "              'Lamar Patterson',\n",
       "              'Lance Allred',\n",
       "              'Lance Thomas',\n",
       "              'Landry Fields',\n",
       "              'Langston Galloway',\n",
       "              'Larry Owens',\n",
       "              'Luc Mbah a Moute',\n",
       "              'Luke Babbitt',\n",
       "              'Luke Jackson',\n",
       "              'Luke Schenscher',\n",
       "              'Malcolm Lee',\n",
       "              'Malik Allen',\n",
       "              'Malik Hairston',\n",
       "              'Marcus Cousin',\n",
       "              'Marcus Vinicius',\n",
       "              'Mario West',\n",
       "              'Mark Madsen',\n",
       "              'Markel Brown',\n",
       "              'Matt Bonner',\n",
       "              'Matt Freije',\n",
       "              'Maurice Harkless',\n",
       "              'Mickael Gelabale',\n",
       "              'Mike Hall',\n",
       "              'Mile Ilic',\n",
       "              'Mychel Thompson',\n",
       "              'Nemanja Bjelica',\n",
       "              'Nemanja Nedovic',\n",
       "              'Nick Johnson',\n",
       "              'Nik Stauskas',\n",
       "              'Noel Felix',\n",
       "              'Norman Powell',\n",
       "              'Oliver Lafayette',\n",
       "              'Orien Greene',\n",
       "              'Orlando Johnson',\n",
       "              'P.J. Hairston',\n",
       "              'Pat Garrity',\n",
       "              'Patrick Beverley',\n",
       "              'Patrick Christopher',\n",
       "              'Perry Jones',\n",
       "              'Quentin Richardson',\n",
       "              'Quincy Miller',\n",
       "              'Quincy Pondexter',\n",
       "              'Quinton Ross',\n",
       "              'Qyntel Woods',\n",
       "              'R.J. Hunter',\n",
       "              'Raef LaFrentz',\n",
       "              'Randy Holcomb',\n",
       "              'Randy Livingston',\n",
       "              'Rashad Vaughn',\n",
       "              'Raul Neto',\n",
       "              'Rawle Marshall',\n",
       "              'Reece Gaines',\n",
       "              'Reggie Bullock',\n",
       "              'Renaldo Major',\n",
       "              'Richie Frahm',\n",
       "              'Robbie Hummel',\n",
       "              'Royal Ivey',\n",
       "              'Royce White',\n",
       "              'Ryan Bowen',\n",
       "              'Ryan Hollins',\n",
       "              'Ryan Kelly',\n",
       "              'Sam Dekker',\n",
       "              'Samaki Walker',\n",
       "              'Sasha Pavlovic',\n",
       "              'Sean Singletary',\n",
       "              'Sergei Monia',\n",
       "              'Sergey Karasev',\n",
       "              'Shammond Williams',\n",
       "              'Shandon Anderson',\n",
       "              'Shane Battier',\n",
       "              'Shane Edwards',\n",
       "              'Shawne Williams',\n",
       "              'Sherron Collins',\n",
       "              'Solomon Hill',\n",
       "              'Stacey Augmon',\n",
       "              'Stephane Lasme',\n",
       "              'Steven Smith',\n",
       "              'Sun Yue',\n",
       "              'Terence Morris',\n",
       "              'Terrel Harris',\n",
       "              'Thabo Sefolosha',\n",
       "              'Thomas Gardner',\n",
       "              'Tibor Pleiss',\n",
       "              'Tim Ohlbrecht',\n",
       "              'Tony Snell',\n",
       "              'Tornike Shengelia',\n",
       "              'Travis Wear',\n",
       "              'Trenton Hassell',\n",
       "              'Vander Blue',\n",
       "              'Victor Claver',\n",
       "              'Vitaly Potapenko',\n",
       "              'Walter McCarty',\n",
       "              'Wesley Johnson',\n",
       "              'Will Blalock',\n",
       "              'Will Cherry',\n",
       "              'Xavier Silas',\n",
       "              'Yakhouba Diawara',\n",
       "              'Yaroslav Korolev',\n",
       "              'Zoran Planinic'],\n",
       "             1: ['Al Horford',\n",
       "              'Al Jefferson',\n",
       "              'Alan Williams',\n",
       "              'Alexis Ajinca',\n",
       "              'Alonzo Mourning',\n",
       "              \"Amar'e Stoudemire\",\n",
       "              'Andray Blatche',\n",
       "              'Andre Drummond',\n",
       "              'Andrew Bynum',\n",
       "              'Antawn Jamison',\n",
       "              'Anthony Davis',\n",
       "              'Anthony Randolph',\n",
       "              'Aron Baynes',\n",
       "              'Blake Griffin',\n",
       "              'Boban Marjanovic',\n",
       "              'Bobby Portis',\n",
       "              'Bonzi Wells',\n",
       "              'Brandan Wright',\n",
       "              'Brandon Bass',\n",
       "              'Brook Lopez',\n",
       "              'Byron Mullens',\n",
       "              'Carl Landry',\n",
       "              'Carlos Boozer',\n",
       "              'Carmelo Anthony',\n",
       "              'Charlie Villanueva',\n",
       "              'Chris Bosh',\n",
       "              'Chris Kaman',\n",
       "              'Chris Mihm',\n",
       "              'Chris Webber',\n",
       "              'Chris Wilcox',\n",
       "              'Chris Wright',\n",
       "              'Christian Wood',\n",
       "              'Corey Maggette',\n",
       "              'Craig Smith',\n",
       "              'D.J. Stephens',\n",
       "              'David Andersen',\n",
       "              'David Lee',\n",
       "              'David West',\n",
       "              'DeJuan Blair',\n",
       "              'DeMarcus Cousins',\n",
       "              'Derrick Favors',\n",
       "              'Dirk Nowitzki',\n",
       "              'Donatas Motiejunas',\n",
       "              'Drew Gooden',\n",
       "              'Dwight Howard',\n",
       "              'Dwight Powell',\n",
       "              'Dwyane Wade',\n",
       "              'Eddy Curry',\n",
       "              'Elton Brand',\n",
       "              'Emeka Okafor',\n",
       "              'Enes Kanter',\n",
       "              'Eric Dawson',\n",
       "              'Ersan Ilyasova',\n",
       "              'Garret Siler',\n",
       "              'Gerald Wallace',\n",
       "              'Giannis Antetokounmpo',\n",
       "              'Glen Davis',\n",
       "              'Greg Monroe',\n",
       "              'Greg Oden',\n",
       "              'Hakim Warrick',\n",
       "              'Hassan Whiteside',\n",
       "              'Henry Sims',\n",
       "              'Ike Diogu',\n",
       "              'Ivan Johnson',\n",
       "              'J.J. Hickson',\n",
       "              'JaMychal Green',\n",
       "              'JaVale McGee',\n",
       "              'Jackie Butler',\n",
       "              'Jahlil Okafor',\n",
       "              'James Michael McAdoo',\n",
       "              'James Southerland',\n",
       "              'Jared Sullinger',\n",
       "              'Jarell Martin',\n",
       "              'Jarnell Stokes',\n",
       "              \"Jermaine O'Neal\",\n",
       "              'Jermareo Davidson',\n",
       "              'Joe Smith',\n",
       "              'Joffrey Lauvergne',\n",
       "              'John Henson',\n",
       "              'Jon Leuer',\n",
       "              'Jonas Valanciunas',\n",
       "              'Jordan Hill',\n",
       "              'Jordan Mickey',\n",
       "              'Josh Smith',\n",
       "              'Julius Randle',\n",
       "              'Jusuf Nurkic',\n",
       "              'Karl-Anthony Towns',\n",
       "              'Kawhi Leonard',\n",
       "              'Kelly Olynyk',\n",
       "              'Kenneth Faried',\n",
       "              'Kevin Durant',\n",
       "              'Kevin Garnett',\n",
       "              'Kevin Love',\n",
       "              'Kevin Seraphin',\n",
       "              'Kevon Looney',\n",
       "              'Kobe Bryant',\n",
       "              'Kris Humphries',\n",
       "              'Kristaps Porzingis',\n",
       "              'LaMarcus Aldridge',\n",
       "              'LeBron James',\n",
       "              'Leon Powe',\n",
       "              'Luis Scola',\n",
       "              'Marc Gasol',\n",
       "              'Marcin Gortat',\n",
       "              'Mario Kasun',\n",
       "              'Markieff Morris',\n",
       "              'Marreese Speights',\n",
       "              'Mason Plumlee',\n",
       "              'Mehmet Okur',\n",
       "              'Michael Beasley',\n",
       "              'Mike Harris',\n",
       "              'Mike Sweetney',\n",
       "              'Miroslav Raduljica',\n",
       "              'Mitch McGary',\n",
       "              'Mouhamed Sene',\n",
       "              'Myles Turner',\n",
       "              'Nenad Krstic',\n",
       "              'Nene Hilario',\n",
       "              'Nick Fazekas',\n",
       "              'Nikola Jokic',\n",
       "              'Nikola Mirotic',\n",
       "              'Nikola Pekovic',\n",
       "              'Nikola Vucevic',\n",
       "              'Oleksiy Pecherov',\n",
       "              'Pat Burke',\n",
       "              'Pau Gasol',\n",
       "              'Paul George',\n",
       "              'Paul Millsap',\n",
       "              'Paul Pierce',\n",
       "              'Robin Lopez',\n",
       "              'Roy Hibbert',\n",
       "              'Samardo Samuels',\n",
       "              'Sean May',\n",
       "              'Serge Ibaka',\n",
       "              \"Shaquille O'Neal\",\n",
       "              'Shareef Abdur-Rahim',\n",
       "              'Shawn Marion',\n",
       "              'Shayne Whittington',\n",
       "              'Spencer Hawes',\n",
       "              'Stromile Swift',\n",
       "              'Taj Gibson',\n",
       "              'Terrence Jones',\n",
       "              'Tiago Splitter',\n",
       "              'Tim Duncan',\n",
       "              'Timofey Mozgov',\n",
       "              'Tobias Harris',\n",
       "              'Troy Murphy',\n",
       "              'Tyler Hansbrough',\n",
       "              'Tyler Zeller',\n",
       "              'Tyrus Thomas',\n",
       "              'Willie Reed',\n",
       "              'Yao Ming',\n",
       "              'Zach Randolph',\n",
       "              'Zarko Cabarkapa',\n",
       "              'Zendon Hamilton',\n",
       "              'Zydrunas Ilgauskas'],\n",
       "             2: ['A.J. Price',\n",
       "              'Aaron Miles',\n",
       "              'Acie Law',\n",
       "              'Alexey Shved',\n",
       "              'Allen Iverson',\n",
       "              'Alvin Williams',\n",
       "              'Andre Barrett',\n",
       "              'Andre Iguodala',\n",
       "              'Andre Miller',\n",
       "              'Andrei Kirilenko',\n",
       "              'Anthony Carter',\n",
       "              'Anthony Johnson',\n",
       "              'Antonio Burks',\n",
       "              'Antonio Daniels',\n",
       "              'Armon Johnson',\n",
       "              'Baron Davis',\n",
       "              'Ben Hansbrough',\n",
       "              'Ben Uzoh',\n",
       "              'Beno Udrih',\n",
       "              'Boris Diaw',\n",
       "              'Brad Miller',\n",
       "              'Brandon Jennings',\n",
       "              'Brandon Knight',\n",
       "              'Brevin Knight',\n",
       "              'Brian Roberts',\n",
       "              'Briante Weber',\n",
       "              'C.J. Watson',\n",
       "              'Cameron Payne',\n",
       "              'Carldell Johnson',\n",
       "              'Carlos Arroyo',\n",
       "              'Cedric Jackson',\n",
       "              'Charles Jenkins',\n",
       "              'Chauncey Billups',\n",
       "              'Chris Duhon',\n",
       "              'Chris Paul',\n",
       "              'Chris Quinn',\n",
       "              'Chucky Atkins',\n",
       "              'Coby Karl',\n",
       "              'Cory Joseph',\n",
       "              'Courtney Fortson',\n",
       "              'D.J. Augustin',\n",
       "              'Damian Lillard',\n",
       "              'Damon Stoudamire',\n",
       "              'Dan Dickau',\n",
       "              'Darington Hobson',\n",
       "              'Darius Morris',\n",
       "              'Darrell Armstrong',\n",
       "              'Darren Collison',\n",
       "              'Darrick Martin',\n",
       "              'David Stockton',\n",
       "              'Dee Brown',\n",
       "              'Delon Wright',\n",
       "              'Delonte West',\n",
       "              'Dennis Schroder',\n",
       "              'Derek Anderson',\n",
       "              'Deron Williams',\n",
       "              'Derrick Rose',\n",
       "              'Derrick Zimmerman',\n",
       "              'Devin Harris',\n",
       "              'Dominique Jones',\n",
       "              'Donald Sloan',\n",
       "              'Donell Taylor',\n",
       "              'Dontell Jefferson',\n",
       "              'Draymond Green',\n",
       "              'Earl Boykins',\n",
       "              'Earl Watson',\n",
       "              'Eddie Gill',\n",
       "              'Elfrid Payton',\n",
       "              'Emmanuel Mudiay',\n",
       "              'Eric Bledsoe',\n",
       "              'Eric Maynor',\n",
       "              'Eric Snow',\n",
       "              'Eugene Jeter',\n",
       "              'Evan Turner',\n",
       "              'Gal Mekel',\n",
       "              'Gary Payton',\n",
       "              'Gerald Fitch',\n",
       "              'Gilbert Arenas',\n",
       "              'Goran Dragic',\n",
       "              'Greivis Vasquez',\n",
       "              'Hedo Turkoglu',\n",
       "              'Howard Eisley',\n",
       "              'Isaiah Thomas',\n",
       "              'Ish Smith',\n",
       "              'J.J. Barea',\n",
       "              'Jacque Vaughn',\n",
       "              'Jamaal Tinsley',\n",
       "              'Jameer Nelson',\n",
       "              'James Harden',\n",
       "              'Jarrett Jack',\n",
       "              'Jason Hart',\n",
       "              'Jason Kidd',\n",
       "              'Jason Williams',\n",
       "              'Javaris Crittenton',\n",
       "              'Jeff McInnis',\n",
       "              'Jeff Teague',\n",
       "              'Jeremy Lin',\n",
       "              'Jeremy Pargo',\n",
       "              'Jerian Grant',\n",
       "              'Jermaine Jackson',\n",
       "              'Jerome Dyson',\n",
       "              'Jerryd Bayless',\n",
       "              'John Wall',\n",
       "              'Jonny Flynn',\n",
       "              'Jordan Farmar',\n",
       "              'Jorge Gutierrez',\n",
       "              'Jose Barea',\n",
       "              'Jose Calderon',\n",
       "              'Joseph Young',\n",
       "              'Jrue Holiday',\n",
       "              'Julius Hodge',\n",
       "              'Julyan Stone',\n",
       "              'Junior Harrington',\n",
       "              'Keith McLeod',\n",
       "              'Kemba Walker',\n",
       "              'Kendall Marshall',\n",
       "              'Kevin Burleson',\n",
       "              'Kirk Hinrich',\n",
       "              'Kyle Lowry',\n",
       "              'Kyrie Irving',\n",
       "              'Lance Stephenson',\n",
       "              'Larry Drew',\n",
       "              'Lindsey Hunter',\n",
       "              'Lorenzo Brown',\n",
       "              'Luke Ridnour',\n",
       "              'Luke Walton',\n",
       "              'Maalik Wayns',\n",
       "              'Manu Ginobili',\n",
       "              'Marcelo Huertas',\n",
       "              'Marcus Banks',\n",
       "              'Marcus Smart',\n",
       "              'Marcus Williams',\n",
       "              'Mardy Collins',\n",
       "              'Mario Chalmers',\n",
       "              'Marko Jaric',\n",
       "              'Marquis Teague',\n",
       "              'Mateen Cleaves',\n",
       "              'Matthew Dellavedova',\n",
       "              'Michael Carter-Williams',\n",
       "              'Mike Bibby',\n",
       "              'Mike Conley',\n",
       "              'Mike James',\n",
       "              'Mike Taylor',\n",
       "              'Mike Wilks',\n",
       "              'Milt Palacio',\n",
       "              'Mo Williams',\n",
       "              'Moochie Norris',\n",
       "              'Mustafa Shakur',\n",
       "              'Nando De Colo',\n",
       "              'Nate Wolters',\n",
       "              'Nick Calathes',\n",
       "              'Nicolas Batum',\n",
       "              'Nolan Smith',\n",
       "              'Norris Cole',\n",
       "              'Pablo Prigioni',\n",
       "              'Pape Sy',\n",
       "              'Patrick Ewing',\n",
       "              'Peyton Siva',\n",
       "              'Phil Pressey',\n",
       "              'Rafer Alston',\n",
       "              'Rajon Rondo',\n",
       "              'Ramon Sessions',\n",
       "              'Ray McCallum',\n",
       "              'Raymond Felton',\n",
       "              'Reggie Jackson',\n",
       "              'Rick Brunson',\n",
       "              'Ricky Rubio',\n",
       "              'Rodney Stuckey',\n",
       "              'Roko Ukic',\n",
       "              'Ronnie Price',\n",
       "              'Russ Smith',\n",
       "              'Russell Westbrook',\n",
       "              'Sam Cassell',\n",
       "              'Sarunas Jasikevicius',\n",
       "              'Scott Machado',\n",
       "              'Scotty Hopson',\n",
       "              'Sebastian Telfair',\n",
       "              'Sergio Rodriguez',\n",
       "              'Shabazz Napier',\n",
       "              'Shane Larkin',\n",
       "              'Shaun Livingston',\n",
       "              'Shelvin Mack',\n",
       "              'Speedy Claxton',\n",
       "              'Spencer Dinwiddie',\n",
       "              'Stephen Curry',\n",
       "              'Stephon Marbury',\n",
       "              'Steve Blake',\n",
       "              'Steve Francis',\n",
       "              'Steve Nash',\n",
       "              'Sundiata Gaines',\n",
       "              'T.J. Ford',\n",
       "              'T.J. McConnell',\n",
       "              'Taurean Green',\n",
       "              'Terrence Williams',\n",
       "              'Terry Rozier',\n",
       "              'Tim Frazier',\n",
       "              'Toni Kukoc',\n",
       "              'Tony Parker',\n",
       "              'Tony Wroten',\n",
       "              \"Toure' Murry\",\n",
       "              'Tracy McGrady',\n",
       "              'Travis Diener',\n",
       "              'Travis Leslie',\n",
       "              'Trey Burke',\n",
       "              'Ty Lawson',\n",
       "              'Tyler Ennis',\n",
       "              'Tyreke Evans',\n",
       "              'Tyshawn Taylor',\n",
       "              'Tyus Jones',\n",
       "              'Vassilis Spanoulis',\n",
       "              'Victor Oladipo',\n",
       "              'Walker Russell',\n",
       "              'Will Bynum',\n",
       "              'Will Conroy',\n",
       "              'Will Solomon',\n",
       "              'Willie Warren',\n",
       "              'Zabian Dowdell'],\n",
       "             3: ['Aaron Brooks',\n",
       "              'Adam Morrison',\n",
       "              'Adonis Thomas',\n",
       "              'Al Harrington',\n",
       "              'Al Thornton',\n",
       "              'Alan Anderson',\n",
       "              'Alando Tucker',\n",
       "              'Alec Burks',\n",
       "              'Alex Acker',\n",
       "              'Allan Ray',\n",
       "              'Allen Crabbe',\n",
       "              'Andrea Bargnani',\n",
       "              'Andres Nocioni',\n",
       "              'Andrew Goudelock',\n",
       "              'Andrew Nicholson',\n",
       "              'Andrew Wiggins',\n",
       "              'Andy Rautins',\n",
       "              'Anthony Grundy',\n",
       "              'Anthony Morrow',\n",
       "              'Anthony Roberson',\n",
       "              'Antoine Walker',\n",
       "              'Archie Goodwin',\n",
       "              'Arron Afflalo',\n",
       "              'Arvydas Macijauskas',\n",
       "              'Austin Daye',\n",
       "              'Austin Rivers',\n",
       "              'Avery Bradley',\n",
       "              'Awvee Storey',\n",
       "              'Ben Gordon',\n",
       "              'Ben McLemore',\n",
       "              'Blake Ahearn',\n",
       "              'Bobby Brown',\n",
       "              'Bobby Jackson',\n",
       "              'Bobby Jones',\n",
       "              'Bobby Simmons',\n",
       "              'Bojan Bogdanovic',\n",
       "              'Bostjan Nachbar',\n",
       "              'Bracey Wright',\n",
       "              'Bradley Beal',\n",
       "              'Brandon Roy',\n",
       "              'Brian Cook',\n",
       "              'Bryce Cotton',\n",
       "              'C.J. McCollum',\n",
       "              'C.J. Miles',\n",
       "              'C.J. Wilcox',\n",
       "              'Carlos Delfino',\n",
       "              'Caron Butler',\n",
       "              'Carrick Felix',\n",
       "              'Cartier Martin',\n",
       "              'Casper Ware',\n",
       "              'Chandler Parsons',\n",
       "              'Channing Frye',\n",
       "              'Charles Smith',\n",
       "              'Charlie Bell',\n",
       "              'Chase Budinger',\n",
       "              'Chris Copeland',\n",
       "              'Chris Douglas-Roberts',\n",
       "              'Corey Brewer',\n",
       "              'Corliss Williamson',\n",
       "              'Cory Higgins',\n",
       "              'Coty Clarke',\n",
       "              'Courtney Lee',\n",
       "              'Cuttino Mobley',\n",
       "              \"D'Angelo Russell\",\n",
       "              'D.J. White',\n",
       "              'DaJuan Summers',\n",
       "              'Daequan Cook',\n",
       "              'Dahntay Jones',\n",
       "              'Dajuan Wagner',\n",
       "              'Damien Wilkins',\n",
       "              'Danilo Gallinari',\n",
       "              'Danny Granger',\n",
       "              'Danny Green',\n",
       "              'Darius Miles',\n",
       "              'Darius Songaila',\n",
       "              'Darius Washington',\n",
       "              'Darrell Arthur',\n",
       "              'Darrun Hilliard',\n",
       "              'DeMar DeRozan',\n",
       "              'DeMarre Carroll',\n",
       "              'Demetris Nichols',\n",
       "              'DerMarr Johnson',\n",
       "              'Derrick Brown',\n",
       "              'Derrick Caracter',\n",
       "              'Derrick Williams',\n",
       "              'Desmond Mason',\n",
       "              'Devin Booker',\n",
       "              'Devin Brown',\n",
       "              'Dijon Thompson',\n",
       "              'Dion Waiters',\n",
       "              'Dionte Christmas',\n",
       "              'Donte Greene',\n",
       "              'Dorell Wright',\n",
       "              'Doug McDermott',\n",
       "              'Dwight Buycks',\n",
       "              \"E'Twaun Moore\",\n",
       "              'Eddie House',\n",
       "              'Elliot Williams',\n",
       "              'Eric Gordon',\n",
       "              'Erick Green',\n",
       "              'Evan Fournier',\n",
       "              'Francisco Garcia',\n",
       "              'Frank Kaminsky',\n",
       "              'Gary Forbes',\n",
       "              'Gary Harris',\n",
       "              'Gary Neal',\n",
       "              'George Hill',\n",
       "              'Gerald Green',\n",
       "              'Gerald Henderson',\n",
       "              'Gordan Giricek',\n",
       "              'Gordon Hayward',\n",
       "              'Grant Hill',\n",
       "              'Harrison Barnes',\n",
       "              'Hassan Adams',\n",
       "              'Henry Walker',\n",
       "              'Ian Clark',\n",
       "              'Isaiah Canaan',\n",
       "              'J.J. Redick',\n",
       "              'J.R. Smith',\n",
       "              'JaJuan Johnson',\n",
       "              'JaKarr Sampson',\n",
       "              'Jabari Brown',\n",
       "              'Jabari Parker',\n",
       "              'Jae Crowder',\n",
       "              'Jalen Rose',\n",
       "              'Jamal Crawford',\n",
       "              'James Johnson',\n",
       "              'Jannero Pargo',\n",
       "              'Jared Dudley',\n",
       "              'Jarell Eddie',\n",
       "              'Jarvis Hayes',\n",
       "              'Jason Kapono',\n",
       "              'Jason Richardson',\n",
       "              'Jason Smith',\n",
       "              'Jason Terry',\n",
       "              'Jeff Green',\n",
       "              'Jerami Grant',\n",
       "              'Jeremy Lamb',\n",
       "              'Jeremy Richardson',\n",
       "              'Jermaine Taylor',\n",
       "              'Jerry Stackhouse',\n",
       "              'Jimmer Fredette',\n",
       "              'Jimmy Butler',\n",
       "              'Jodie Meeks',\n",
       "              'Joe Alexander',\n",
       "              'Joe Crawford',\n",
       "              'Joe Johnson',\n",
       "              'Joey Graham',\n",
       "              'John Jenkins',\n",
       "              'John Lucas',\n",
       "              'John Salmons',\n",
       "              'Jonathan Bender',\n",
       "              'Jonathon Simmons',\n",
       "              'Jordan Adams',\n",
       "              'Jordan Clarkson',\n",
       "              'Jordan Crawford',\n",
       "              'Jordan Hamilton',\n",
       "              'Jordan McRae',\n",
       "              'Josh Akognon',\n",
       "              'Josh Childress',\n",
       "              'Josh Howard',\n",
       "              'Josh Huestis',\n",
       "              'Juan Carlos Navarro',\n",
       "              'Juan Dixon',\n",
       "              'Jumaine Jones',\n",
       "              'Justin Reed',\n",
       "              'K.J. McDaniels',\n",
       "              'Kareem Rush',\n",
       "              'Keith Van Horn',\n",
       "              'Kelenna Azubuike',\n",
       "              'Kelly Oubre',\n",
       "              'Kent Bazemore',\n",
       "              'Kentavious Caldwell-Pope',\n",
       "              'Kevin Martin',\n",
       "              'Keyon Dooling',\n",
       "              'Khris Middleton',\n",
       "              'Kirk Snyder',\n",
       "              'Klay Thompson',\n",
       "              'Kyle Korver',\n",
       "              'Laron Profit',\n",
       "              'Larry Hughes',\n",
       "              'Lazar Hayward',\n",
       "              'Leandro Barbosa',\n",
       "              'Lee Nailon',\n",
       "              'Lester Hudson',\n",
       "              'Linas Kleiza',\n",
       "              'Lou Williams',\n",
       "              'Luigi Datome',\n",
       "              'Luis Montero',\n",
       "              'Luke Zeller',\n",
       "              'Luol Deng',\n",
       "              'Luther Head',\n",
       "              'Lynn Greer',\n",
       "              'Manny Harris',\n",
       "              'MarShon Brooks',\n",
       "              'Marc Jackson',\n",
       "              'Marco Belinelli',\n",
       "              'Marcus Fizer',\n",
       "              'Marcus Haislip',\n",
       "              'Marcus Landry',\n",
       "              'Marcus Morris',\n",
       "              'Marcus Thornton',\n",
       "              'Mario Hezonja',\n",
       "              'Mark Blount',\n",
       "              'Marquis Daniels',\n",
       "              'Martell Webster',\n",
       "              'Marvin Williams',\n",
       "              'Matt Barnes',\n",
       "              'Matt Carroll',\n",
       "              'Matt Harpring',\n",
       "              'Matt Walsh',\n",
       "              'Maurice Ager',\n",
       "              'Maurice Evans',\n",
       "              'Maurice Taylor',\n",
       "              'Melvin Sanders',\n",
       "              'Metta World Peace',\n",
       "              'Michael Finley',\n",
       "              'Michael Redd',\n",
       "              'Mickael Pietrus',\n",
       "              'Mike Dunleavy',\n",
       "              'Mike Miller',\n",
       "              'Mike Scott',\n",
       "              'Mirza Teletovic',\n",
       "              'Monta Ellis',\n",
       "              'Montrezl Harrell',\n",
       "              'Morris Almond',\n",
       "              'Morris Peterson',\n",
       "              'Nate Robinson',\n",
       "              'Nick Van Exel',\n",
       "              'Nick Young',\n",
       "              'O.J. Mayo',\n",
       "              'Omri Casspi',\n",
       "              'Othella Harrington',\n",
       "              'Otto Porter',\n",
       "              'Patrick Mills',\n",
       "              'Patrick Patterson',\n",
       "              'Peja Stojakovic',\n",
       "              'Pero Antic',\n",
       "              'Primoz Brezec',\n",
       "              'Quincy Douby',\n",
       "              'Raja Bell',\n",
       "              'Randy Foye',\n",
       "              'Rashad McCants',\n",
       "              'Rashard Lewis',\n",
       "              'Rasheed Wallace',\n",
       "              'Rasual Butler',\n",
       "              'Ray Allen',\n",
       "              'Reggie Williams',\n",
       "              'Richard Hamilton',\n",
       "              'Richard Jefferson',\n",
       "              'Richaun Holmes',\n",
       "              'Ricky Davis',\n",
       "              'Ricky Ledo',\n",
       "              'Rob Kurz',\n",
       "              'Robert Covington',\n",
       "              'Robert Hite',\n",
       "              'Rodney Carney',\n",
       "              'Rodney Hood',\n",
       "              'Rodrigue Beaubois',\n",
       "              'Roger Mason',\n",
       "              'Ronald Murray',\n",
       "              'Ronnie Brewer',\n",
       "              'Ruben Patterson',\n",
       "              'Rudy Fernandez',\n",
       "              'Rudy Gay',\n",
       "              'Ryan Anderson',\n",
       "              'Ryan Gomes',\n",
       "              'Ryan Reid',\n",
       "              'Salim Stoudamire',\n",
       "              'Sam Young',\n",
       "              'Sasha Vujacic',\n",
       "              'Sean Kilpatrick',\n",
       "              'Seth Curry',\n",
       "              'Shabazz Muhammad',\n",
       "              'Shannon Brown',\n",
       "              'Smush Parker',\n",
       "              'Sonny Weems',\n",
       "              'Stanislav Medvedenko',\n",
       "              'Stanley Johnson',\n",
       "              'Stephen Graham',\n",
       "              'Stephen Jackson',\n",
       "              'Steve Novak',\n",
       "              'T.J. Warren',\n",
       "              'Tarence Kinsey',\n",
       "              'Taylor Griffin',\n",
       "              'Tayshaun Prince',\n",
       "              'Terrence Ross',\n",
       "              'Thaddeus Young',\n",
       "              'Tim Hardaway',\n",
       "              'Tim Thomas',\n",
       "              'Toney Douglas',\n",
       "              'Tony Allen',\n",
       "              'Tony Delk',\n",
       "              'Travis Outlaw',\n",
       "              'Trevor Ariza',\n",
       "              'Trey Gilder',\n",
       "              'Trey Johnson',\n",
       "              'Trey Thompkins',\n",
       "              'Troy Daniels',\n",
       "              'Troy Hudson',\n",
       "              'Tyler Johnson',\n",
       "              'Tyronn Lue',\n",
       "              'Uros Slokar',\n",
       "              'Vince Carter',\n",
       "              'Vladimir Radmanovic',\n",
       "              'Von Wafer',\n",
       "              'Voshon Lenard',\n",
       "              'Wally Szczerbiak',\n",
       "              'Walter Herrmann',\n",
       "              'Walter Sharpe',\n",
       "              'Wayne Ellington',\n",
       "              'Wayne Simien',\n",
       "              'Wesley Matthews',\n",
       "              'Will Barton',\n",
       "              'Willie Green',\n",
       "              'Wilson Chandler',\n",
       "              'Xavier Henry',\n",
       "              'Xavier Munford',\n",
       "              'Zach LaVine',\n",
       "              'Zeljko Rebraca',\n",
       "              'Zoran Dragic'],\n",
       "             4: ['Aaron Gordon',\n",
       "              'Aaron Gray',\n",
       "              'Aaron Williams',\n",
       "              'Adonal Foyle',\n",
       "              'Adreian Payne',\n",
       "              'Adrian Griffin',\n",
       "              'Al-Farouq Aminu',\n",
       "              'Alan Henderson',\n",
       "              'Alex Len',\n",
       "              'Alex Stepheson',\n",
       "              'Alexander Johnson',\n",
       "              'Amir Johnson',\n",
       "              'Anderson Varejao',\n",
       "              'Andre Brown',\n",
       "              'Andrew Bogut',\n",
       "              'Andris Biedrins',\n",
       "              'Anthony Bennett',\n",
       "              'Antonio Davis',\n",
       "              'Antonio McDyess',\n",
       "              'Arinze Onuaku',\n",
       "              'Arnett Moultrie',\n",
       "              'Austin Croshere',\n",
       "              'Ben Wallace',\n",
       "              'Bernard James',\n",
       "              'Bismack Biyombo',\n",
       "              'Bo Outlaw',\n",
       "              \"Boniface N'Dong\",\n",
       "              'Brandon Davies',\n",
       "              'Brendan Haywood',\n",
       "              'Brian Grant',\n",
       "              'Brian Skinner',\n",
       "              'Calvin Booth',\n",
       "              'Cameron Bairstow',\n",
       "              'Cheikh Samb',\n",
       "              'Chris Andersen',\n",
       "              'Chris Hunter',\n",
       "              'Chris Richard',\n",
       "              'Chris Taft',\n",
       "              'Chuck Hayes',\n",
       "              'Clint Capela',\n",
       "              'Cody Zeller',\n",
       "              'Cole Aldrich',\n",
       "              'Cory Jefferson',\n",
       "              'Courtney Sims',\n",
       "              'Cristiano Felicio',\n",
       "              'Dale Davis',\n",
       "              'Damien Inglis',\n",
       "              'Damion James',\n",
       "              'Dan Gadzuric',\n",
       "              'Daniel Orton',\n",
       "              'Danny Fortson',\n",
       "              'Darius Johnson-Odom',\n",
       "              'Darko Milicic',\n",
       "              'Darryl Watkins',\n",
       "              'David Harrison',\n",
       "              'David Wear',\n",
       "              'DeAndre Jordan',\n",
       "              'DeSagana Diop',\n",
       "              'Dennis Horner',\n",
       "              'Derrick Byars',\n",
       "              'Dewayne Dedmon',\n",
       "              'Dexter Pittman',\n",
       "              'Didier Ilunga-Mbenga',\n",
       "              'Dikembe Mutombo',\n",
       "              'Dominic McGuire',\n",
       "              'Donyell Marshall',\n",
       "              'Drew Gordon',\n",
       "              'Dwayne Jones',\n",
       "              'Earl Barron',\n",
       "              'Earl Clark',\n",
       "              'Ed Davis',\n",
       "              'Eddie Basden',\n",
       "              'Eddie Griffin',\n",
       "              'Ekpe Udoh',\n",
       "              'Eric Moreland',\n",
       "              'Erick Dampier',\n",
       "              'Ervin Johnson',\n",
       "              'Esteban Batista',\n",
       "              'Etan Thomas',\n",
       "              'Fabricio Oberto',\n",
       "              'Festus Ezeli',\n",
       "              'Francisco Elson',\n",
       "              'Furkan Aldemir',\n",
       "              'Gorgui Dieng',\n",
       "              'Greg Ostertag',\n",
       "              'Greg Smith',\n",
       "              'Greg Stiemsma',\n",
       "              'Gustavo Ayon',\n",
       "              'Ha Seung-Jin',\n",
       "              'Hamed Haddadi',\n",
       "              'Hasheem Thabeet',\n",
       "              'Hilton Armstrong',\n",
       "              'Ian Mahinmi',\n",
       "              'Ivan McFarlin',\n",
       "              'J.R. Giddens',\n",
       "              'Jack Cooley',\n",
       "              'Jackson Vroman',\n",
       "              'Jake Tsakalidis',\n",
       "              'Jake Voskuhl',\n",
       "              'Jamaal Magloire',\n",
       "              'Jamal Sampson',\n",
       "              'James Augustine',\n",
       "              'James Lang',\n",
       "              'James Singleton',\n",
       "              'James Thomas',\n",
       "              'Jan Vesely',\n",
       "              'Jared Reiner',\n",
       "              'Jason Maxiell',\n",
       "              'Jason Thompson',\n",
       "              'Jeff Adrien',\n",
       "              'Jeff Ayres',\n",
       "              'Jeff Foster',\n",
       "              'Jeff Withey',\n",
       "              'Jelani McCoy',\n",
       "              'Jeremy Evans',\n",
       "              'Jeremy Tyler',\n",
       "              'Jerome James',\n",
       "              'Jerome Jordan',\n",
       "              'Joakim Noah',\n",
       "              'Joel Freeland',\n",
       "              'Joel Przybilla',\n",
       "              'Joey Dorsey',\n",
       "              'Johan Petro',\n",
       "              'Jon Brockman',\n",
       "              'Jonas Jerebko',\n",
       "              'Jordan Williams',\n",
       "              'Josh Boone',\n",
       "              'Josh Davis',\n",
       "              'Josh Harrellson',\n",
       "              'Josh McRoberts',\n",
       "              'Josh Powell',\n",
       "              'Justin Anderson',\n",
       "              'Justin Williams',\n",
       "              'Juwan Howard',\n",
       "              'Keith Benson',\n",
       "              'Kelvin Cato',\n",
       "              'Kendrick Perkins',\n",
       "              'Kenny Thomas',\n",
       "              'Kenyon Martin',\n",
       "              'Kevin Jones',\n",
       "              'Kosta Koufos',\n",
       "              'Kosta Perovic',\n",
       "              'Kurt Thomas',\n",
       "              'Kwame Brown',\n",
       "              'Kyle Anderson',\n",
       "              \"Kyle O'Quinn\",\n",
       "              'Kyrylo Fesenko',\n",
       "              'Lamar Odom',\n",
       "              'Lamond Murray',\n",
       "              'Larry Nance Jr.',\n",
       "              'Larry Sanders',\n",
       "              'Lavoy Allen',\n",
       "              'Lawrence Roberts',\n",
       "              'Linton Johnson',\n",
       "              'Lonny Baxter',\n",
       "              'Loren Woods',\n",
       "              'Lorenzen Wright',\n",
       "              'Lou Amundson',\n",
       "              'Lucas Nogueira',\n",
       "              'Luke Harangody',\n",
       "              'Maceo Baston',\n",
       "              'Maciej Lampe',\n",
       "              'Malcolm Thomas',\n",
       "              'Malik Rose',\n",
       "              'Marcus Camby',\n",
       "              'Martynas Andriuskevicius',\n",
       "              'Melvin Ely',\n",
       "              'Meyers Leonard',\n",
       "              'Michael Bradley',\n",
       "              'Michael Doleac',\n",
       "              'Michael Kidd-Gilchrist',\n",
       "              'Michael Olowokandi',\n",
       "              'Michael Ruffin',\n",
       "              'Mickell Gladness',\n",
       "              'Mike Muscala',\n",
       "              'Mikki Moore',\n",
       "              'Miles Plumlee',\n",
       "              'Nathan Jawai',\n",
       "              'Nazr Mohammed',\n",
       "              'Nerlens Noel',\n",
       "              'Nick Collison',\n",
       "              'Nikoloz Tskitishvili',\n",
       "              'Noah Vonleh',\n",
       "              'Ognjen Kuzmic',\n",
       "              'Omer Asik',\n",
       "              'Othello Hunter',\n",
       "              'Othyus Jeffers',\n",
       "              'P.J. Brown',\n",
       "              'P.J. Tucker',\n",
       "              'Pape Sow',\n",
       "              'Pat Connaughton',\n",
       "              \"Patrick O'Bryant\",\n",
       "              'Paul Davis',\n",
       "              'Pavel Podkolzin',\n",
       "              'Pops Mensah-Bonsu',\n",
       "              'Quincy Acy',\n",
       "              'Rafael Araujo',\n",
       "              'Randolph Morris',\n",
       "              'Rasho Nesterovic',\n",
       "              'Reggie Evans',\n",
       "              'Renaldo Balkman',\n",
       "              'Robert Horry',\n",
       "              'Robert Sacre',\n",
       "              'Robert Swift',\n",
       "              'Robert Whaley',\n",
       "              'Roger Powell',\n",
       "              'Ronald Dupree',\n",
       "              'Rondae Hollis-Jefferson',\n",
       "              'Ronny Turiaf',\n",
       "              'Rudy Gobert',\n",
       "              'Salah Mejri',\n",
       "              'Samuel Dalembert',\n",
       "              'Sasha Kaun',\n",
       "              'Scot Pollard',\n",
       "              'Scott Padgett',\n",
       "              'Sean Marks',\n",
       "              'Sean Williams',\n",
       "              'Semih Erden',\n",
       "              'Sharrod Ford',\n",
       "              'Shavlik Randolph',\n",
       "              'Shelden Williams',\n",
       "              'Solomon Alabi',\n",
       "              'Solomon Jones',\n",
       "              'Steven Adams',\n",
       "              'Steven Hunter',\n",
       "              'Tarik Black',\n",
       "              'Theo Ratliff',\n",
       "              'Thomas Robinson',\n",
       "              'Tony Battie',\n",
       "              'Tony Mitchell',\n",
       "              'Trevor Booker',\n",
       "              'Trey Lyles',\n",
       "              'Tristan Thompson',\n",
       "              'Tyler Honeycutt',\n",
       "              'Tyson Chandler',\n",
       "              'Udonis Haslem',\n",
       "              'Vernon Macklin',\n",
       "              'Viacheslav Kravtsov',\n",
       "              'Viktor Khryapa',\n",
       "              'Vin Baker',\n",
       "              'Vitor Faverani',\n",
       "              'Walter Tavares',\n",
       "              'Willie Cauley-Stein',\n",
       "              'Yi Jianlian',\n",
       "              'Zaza Pachulia']})"
      ]
     },
     "execution_count": 68,
     "metadata": {},
     "output_type": "execute_result"
    }
   ],
   "source": [
    "dict_pca2_nout"
   ]
  },
  {
   "cell_type": "markdown",
   "metadata": {},
   "source": [
    "# Regraph"
   ]
  },
  {
   "cell_type": "code",
   "execution_count": 69,
   "metadata": {
    "collapsed": false
   },
   "outputs": [],
   "source": [
    "#makeplot.make_plots(mat_nout, filename='rmoutlier')"
   ]
  },
  {
   "cell_type": "markdown",
   "metadata": {},
   "source": [
    "# Silhouette Score Benchmark"
   ]
  },
  {
   "cell_type": "code",
   "execution_count": 70,
   "metadata": {
    "collapsed": true
   },
   "outputs": [],
   "source": [
    "from scripts import makesilplot"
   ]
  },
  {
   "cell_type": "code",
   "execution_count": 71,
   "metadata": {
    "collapsed": false
   },
   "outputs": [
    {
     "data": {
      "image/png": "[encoded data removed]",
      "text/plain": [
       "<matplotlib.figure.Figure at 0x12751a850>"
      ]
     },
     "metadata": {},
     "output_type": "display_data"
    }
   ],
   "source": [
    "makesilplot.plot_silhouette(mat_nout, 15)"
   ]
  },
  {
   "cell_type": "code",
   "execution_count": 72,
   "metadata": {
    "collapsed": false
   },
   "outputs": [
    {
     "name": "stdout",
     "output_type": "stream",
     "text": [
      "('For n_clusters =', 3, 'The average silhouette_score is :', 0.30231034565980669)\n"
     ]
    },
    {
     "data": {
      "image/png": "[encoded data removed]",
      "text/plain": [
       "<matplotlib.figure.Figure at 0x12f5a2b90>"
      ]
     },
     "metadata": {},
     "output_type": "display_data"
    }
   ],
   "source": [
    "makesilplot.cluster_plot(mat_nout, 3)"
   ]
  },
  {
   "cell_type": "code",
   "execution_count": 73,
   "metadata": {
    "collapsed": false,
    "scrolled": true
   },
   "outputs": [
    {
     "name": "stdout",
     "output_type": "stream",
     "text": [
      "('For n_clusters =', 4, 'The average silhouette_score is :', 0.27483420275869386)\n"
     ]
    },
    {
     "data": {
      "image/png": "[encoded data removed]",
      "text/plain": [
       "<matplotlib.figure.Figure at 0x1304b63d0>"
      ]
     },
     "metadata": {},
     "output_type": "display_data"
    }
   ],
   "source": [
    "makesilplot.cluster_plot(mat_nout, 4)"
   ]
  },
  {
   "cell_type": "markdown",
   "metadata": {},
   "source": [
    "##### data suggest not really clusterable"
   ]
  },
  {
   "cell_type": "code",
   "execution_count": 74,
   "metadata": {
    "collapsed": true
   },
   "outputs": [],
   "source": [
    "km = KMeans(n_clusters=3, random_state = 30)"
   ]
  },
  {
   "cell_type": "code",
   "execution_count": 75,
   "metadata": {
    "collapsed": false
   },
   "outputs": [
    {
     "data": {
      "text/plain": [
       "KMeans(copy_x=True, init='k-means++', max_iter=300, n_clusters=3, n_init=10,\n",
       "    n_jobs=1, precompute_distances='auto', random_state=30, tol=0.0001,\n",
       "    verbose=0)"
      ]
     },
     "execution_count": 75,
     "metadata": {},
     "output_type": "execute_result"
    }
   ],
   "source": [
    "km.fit(mat_nout)"
   ]
  },
  {
   "cell_type": "markdown",
   "metadata": {},
   "source": [
    "##### lets look at the actual clusters"
   ]
  },
  {
   "cell_type": "code",
   "execution_count": 76,
   "metadata": {
    "collapsed": false,
    "scrolled": false
   },
   "outputs": [
    {
     "data": {
      "text/plain": [
       "['A.J. Price',\n",
       " 'Aaron Brooks',\n",
       " 'Aaron McKie',\n",
       " 'Aaron Miles',\n",
       " 'Acie Law',\n",
       " 'Alexey Shved',\n",
       " 'Allen Iverson',\n",
       " 'Alvin Williams',\n",
       " 'Andre Barrett',\n",
       " 'Andre Iguodala']"
      ]
     },
     "execution_count": 76,
     "metadata": {},
     "output_type": "execute_result"
    }
   ],
   "source": [
    "dict_pca4_nout = pca_ready.make_cluster_dictionary2(km, PA48_nout)\n",
    "dict_pca4_nout[2][:10]"
   ]
  },
  {
   "cell_type": "markdown",
   "metadata": {},
   "source": [
    "#### despite silhouette scores indicating clusters not optimal, clusters seem to make sense. This cluster has a very high density of guards. Steph Curry, Chris Paul, Steve Nash, Russell Westbrook, Tony Parker, Jeremy Lin."
   ]
  },
  {
   "cell_type": "markdown",
   "metadata": {},
   "source": [
    "# Cluster Sense"
   ]
  },
  {
   "cell_type": "markdown",
   "metadata": {},
   "source": [
    "### Let us evaluate these clusters by looking at the 10 highest expected scores per cluster"
   ]
  },
  {
   "cell_type": "code",
   "execution_count": 77,
   "metadata": {
    "collapsed": false
   },
   "outputs": [
    {
     "data": {
      "text/plain": [
       "[('Carmelo Anthony', 39.184366576819407),\n",
       " ('Rudy Gay', 30.688194444444445),\n",
       " ('Joe Johnson', 30.147542997542999),\n",
       " ('Michael Redd', 28.352050473186114),\n",
       " ('Luol Deng', 28.305026455026461),\n",
       " ('Jason Richardson', 27.75009174311927),\n",
       " ('Andrew Wiggins', 27.708860759493668),\n",
       " ('DeMar DeRozan', 27.313152804642165),\n",
       " ('Danny Granger', 27.222013651877131),\n",
       " ('Stephen Jackson', 27.045886654478981)]"
      ]
     },
     "execution_count": 77,
     "metadata": {},
     "output_type": "execute_result"
    }
   ],
   "source": [
    "player_score_list1 = []\n",
    "for player in dict_pca4_nout[0]:\n",
    "    player_score_list1.append((player, PA.ix[player, 'Score']))\n",
    "sorted(player_score_list1, key=lambda x: x[1], reverse=True)[:10]"
   ]
  },
  {
   "cell_type": "code",
   "execution_count": 78,
   "metadata": {
    "collapsed": false
   },
   "outputs": [
    {
     "data": {
      "text/plain": [
       "[('Kevin Durant', 42.527272727272738),\n",
       " ('Anthony Davis', 40.734999999999999),\n",
       " ('Blake Griffin', 39.788423645320194),\n",
       " ('Dwight Howard', 39.382597730138706),\n",
       " ('DeMarcus Cousins', 38.940435835351089),\n",
       " ('Yao Ming', 38.010330578512395),\n",
       " ('Pau Gasol', 37.760344827586202),\n",
       " ('Dirk Nowitzki', 36.558917589175891),\n",
       " ('Kevin Love', 36.185546875),\n",
       " ('Karl-Anthony Towns', 36.129870129870135)]"
      ]
     },
     "execution_count": 78,
     "metadata": {},
     "output_type": "execute_result"
    }
   ],
   "source": [
    "player_score_list2 = []\n",
    "for player in dict_pca4_nout[1]:\n",
    "    player_score_list2.append((player, PA.ix[player, 'Score']))\n",
    "sorted(player_score_list2, key=lambda x: x[1], reverse=True)[:10]"
   ]
  },
  {
   "cell_type": "code",
   "execution_count": 79,
   "metadata": {
    "collapsed": false
   },
   "outputs": [
    {
     "data": {
      "text/plain": [
       "[('LeBron James', 48.526424242424234),\n",
       " ('Kobe Bryant', 41.543618513323985),\n",
       " ('Chris Paul', 41.384135240572164),\n",
       " ('Dwyane Wade', 40.725035161744024),\n",
       " ('Russell Westbrook', 39.864212328767117),\n",
       " ('Allen Iverson', 39.085526315789465),\n",
       " ('Stephen Curry', 38.581632653061227),\n",
       " ('John Wall', 37.757582938388616),\n",
       " ('Damian Lillard', 34.936277602523667),\n",
       " ('James Harden', 34.615500945179576)]"
      ]
     },
     "execution_count": 79,
     "metadata": {},
     "output_type": "execute_result"
    }
   ],
   "source": [
    "player_score_list3 = []\n",
    "for player in dict_pca4_nout[2]:\n",
    "    player_score_list3.append((player, PA.ix[player, 'Score']))\n",
    "sorted(player_score_list3, key=lambda x: x[1], reverse=True)[:10]"
   ]
  },
  {
   "cell_type": "markdown",
   "metadata": {},
   "source": [
    "# Start aggregating players"
   ]
  },
  {
   "cell_type": "code",
   "execution_count": 80,
   "metadata": {
    "collapsed": true
   },
   "outputs": [],
   "source": [
    "clusteroneX, clusteroney = random_forest.date_with_forest(df, remove_date=False)"
   ]
  },
  {
   "cell_type": "code",
   "execution_count": 81,
   "metadata": {
    "collapsed": false
   },
   "outputs": [
    {
     "data": {
      "text/plain": [
       "defaultdict(list,\n",
       "            {0: ['Aaron Harrison',\n",
       "              'Adam Morrison',\n",
       "              'Adonis Thomas',\n",
       "              'Al Harrington',\n",
       "              'Al Thornton',\n",
       "              'Alan Anderson',\n",
       "              'Alando Tucker',\n",
       "              'Alec Burks',\n",
       "              'Alex Acker',\n",
       "              'Alex Kirk',\n",
       "              'Alex Scales',\n",
       "              'Allan Ray',\n",
       "              'Allen Crabbe',\n",
       "              'Alonzo Gee',\n",
       "              'Andre Dawkins',\n",
       "              'Andre Emmett',\n",
       "              'Andre Owens',\n",
       "              'Andre Roberson',\n",
       "              'Andrea Bargnani',\n",
       "              'Andreas Glyniadakis',\n",
       "              'Andres Nocioni',\n",
       "              'Andrew Goudelock',\n",
       "              'Andrew Nicholson',\n",
       "              'Andrew Wiggins',\n",
       "              'Andy Rautins',\n",
       "              'Anthony Brown',\n",
       "              'Anthony Goldwire',\n",
       "              'Anthony Grundy',\n",
       "              'Anthony Morrow',\n",
       "              'Anthony Parker',\n",
       "              'Anthony Roberson',\n",
       "              'Anthony Tolliver',\n",
       "              'Antoine Walker',\n",
       "              'Antoine Wright',\n",
       "              'Antonio Anderson',\n",
       "              'Archie Goodwin',\n",
       "              'Arron Afflalo',\n",
       "              'Arvydas Macijauskas',\n",
       "              'Austin Daye',\n",
       "              'Austin Rivers',\n",
       "              'Avery Bradley',\n",
       "              'Axel Toupane',\n",
       "              'Ben Gordon',\n",
       "              'Ben McLemore',\n",
       "              'Bernard Robinson',\n",
       "              'Billy Thomas',\n",
       "              'Blake Ahearn',\n",
       "              'Bobby Jackson',\n",
       "              'Bobby Jones',\n",
       "              'Bobby Simmons',\n",
       "              'Bojan Bogdanovic',\n",
       "              'Bostjan Nachbar',\n",
       "              'Bracey Wright',\n",
       "              'Bradley Beal',\n",
       "              'Brandon Rush',\n",
       "              'Brent Barry',\n",
       "              'Brian Cardinal',\n",
       "              'Brian Cook',\n",
       "              'Brian Scalabrine',\n",
       "              'Bruce Bowen',\n",
       "              'Bruno Caboclo',\n",
       "              'Bryce Cotton',\n",
       "              'Bryce Dejean-Jones',\n",
       "              'C.J. McCollum',\n",
       "              'C.J. Miles',\n",
       "              'C.J. Wilcox',\n",
       "              'Calbert Cheaney',\n",
       "              'Carlos Delfino',\n",
       "              'Carmelo Anthony',\n",
       "              'Caron Butler',\n",
       "              'Carrick Felix',\n",
       "              'Cartier Martin',\n",
       "              'Casey Jacobsen',\n",
       "              'Casper Ware',\n",
       "              'Cedric Bozeman',\n",
       "              'Cedric Simmons',\n",
       "              'Chandler Parsons',\n",
       "              'Channing Frye',\n",
       "              'Charles Smith',\n",
       "              'Charlie Bell',\n",
       "              'Charlie Villanueva',\n",
       "              'Chase Budinger',\n",
       "              'Chris Babb',\n",
       "              'Chris Copeland',\n",
       "              'Chris Douglas-Roberts',\n",
       "              'Chris Johnson',\n",
       "              'Chris McCray',\n",
       "              'Chris McCullough',\n",
       "              'Chris Singleton',\n",
       "              'Chris Smith',\n",
       "              'Christian Eyenga',\n",
       "              'Cleanthony Early',\n",
       "              'Cliff Alexander',\n",
       "              'Clifford Robinson',\n",
       "              'Corey Brewer',\n",
       "              'Corey Maggette',\n",
       "              'Corliss Williamson',\n",
       "              'Cory Higgins',\n",
       "              'Coty Clarke',\n",
       "              'Courtney Lee',\n",
       "              'Craig Brackins',\n",
       "              'Cuttino Mobley',\n",
       "              'D.J. Kennedy',\n",
       "              'DaJuan Summers',\n",
       "              'Daequan Cook',\n",
       "              'Dahntay Jones',\n",
       "              'Dajuan Wagner',\n",
       "              'Damien Wilkins',\n",
       "              'Damir Markota',\n",
       "              'Damjan Rudez',\n",
       "              'Damon Jones',\n",
       "              'Daniel Ewing',\n",
       "              'Daniel Gibson',\n",
       "              'Danilo Gallinari',\n",
       "              'Danny Granger',\n",
       "              'Danny Green',\n",
       "              'Dante Cunningham',\n",
       "              'Dante Exum',\n",
       "              'Darius Miles',\n",
       "              'Darius Miller',\n",
       "              'Darius Songaila',\n",
       "              'Darius Washington',\n",
       "              'Darnell Jackson',\n",
       "              'Darrell Arthur',\n",
       "              'Darrun Hilliard',\n",
       "              'David Noel',\n",
       "              'David Wesley',\n",
       "              'DeAndre Liggins',\n",
       "              'DeMar DeRozan',\n",
       "              'DeMarcus Nelson',\n",
       "              'DeMarre Carroll',\n",
       "              'DeQuan Jones',\n",
       "              'DeShawn Stevenson',\n",
       "              'Demetris Nichols',\n",
       "              'Deng Gai',\n",
       "              'DerMarr Johnson',\n",
       "              'Derek Fisher',\n",
       "              'Derrick Brown',\n",
       "              'Derrick Williams',\n",
       "              'Desmond Mason',\n",
       "              'Devean George',\n",
       "              'Devin Booker',\n",
       "              'Devin Brown',\n",
       "              'Devin Ebanks',\n",
       "              'Devyn Marble',\n",
       "              'Dijon Thompson',\n",
       "              'Dion Waiters',\n",
       "              'Dionte Christmas',\n",
       "              'Donta Smith',\n",
       "              'Donte Greene',\n",
       "              'Dorell Wright',\n",
       "              'Doron Lamb',\n",
       "              'Doug Christie',\n",
       "              'Doug McDermott',\n",
       "              'Dwight Buycks',\n",
       "              \"E'Twaun Moore\",\n",
       "              'Eddie House',\n",
       "              'Eddie Jones',\n",
       "              'Eddy Curry',\n",
       "              'Edwin Ubiles',\n",
       "              'Elijah Millsap',\n",
       "              'Elliot Williams',\n",
       "              'Eric Gordon',\n",
       "              'Eric Piatkowski',\n",
       "              'Eric Williams',\n",
       "              'Erick Green',\n",
       "              'Erik Murphy',\n",
       "              'Evan Fournier',\n",
       "              'Fab Melo',\n",
       "              'Francisco Garcia',\n",
       "              'Frank Kaminsky',\n",
       "              'Fred Jones',\n",
       "              'Gani Lawal',\n",
       "              'Garrett Temple',\n",
       "              'Gary Forbes',\n",
       "              'Gary Harris',\n",
       "              'Gary Neal',\n",
       "              'Gerald Green',\n",
       "              'Gerald Henderson',\n",
       "              'Glen Rice',\n",
       "              'Glenn Robinson',\n",
       "              'Gordan Giricek',\n",
       "              'Grant Hill',\n",
       "              'Grant Jerrett',\n",
       "              'Greg Buckner',\n",
       "              'Guillermo Diaz',\n",
       "              \"Hamady N'Diaye\",\n",
       "              'Harrison Barnes',\n",
       "              'Hassan Adams',\n",
       "              'Henry Walker',\n",
       "              'Hollis Thompson',\n",
       "              'Ian Clark',\n",
       "              'Iman Shumpert',\n",
       "              'Ime Udoka',\n",
       "              'Ira Newble',\n",
       "              'Isaiah Canaan',\n",
       "              \"J.J. O'Brien\",\n",
       "              'J.J. Redick',\n",
       "              'J.R. Smith',\n",
       "              'JaJuan Johnson',\n",
       "              'JaKarr Sampson',\n",
       "              'Jabari Brown',\n",
       "              'Jabari Parker',\n",
       "              'Jae Crowder',\n",
       "              'Jalen Rose',\n",
       "              'Jamaal Franklin',\n",
       "              'Jamal Crawford',\n",
       "              'Jamario Moon',\n",
       "              'James Anderson',\n",
       "              'James Ennis',\n",
       "              'James Johnson',\n",
       "              'James Jones',\n",
       "              'James Nunnally',\n",
       "              'James Posey',\n",
       "              'James White',\n",
       "              'James Young',\n",
       "              'JamesOn Curry',\n",
       "              'Jared Cunningham',\n",
       "              'Jared Dudley',\n",
       "              'Jarell Eddie',\n",
       "              'Jarvis Hayes',\n",
       "              'Jason Collins',\n",
       "              'Jason Kapono',\n",
       "              'Jason Richardson',\n",
       "              'Jason Terry',\n",
       "              'Jawad Williams',\n",
       "              'Jeff Foote',\n",
       "              'Jeff Green',\n",
       "              'Jeffery Taylor',\n",
       "              'Jerami Grant',\n",
       "              'Jerel McNeal',\n",
       "              'Jeremy Lamb',\n",
       "              'Jeremy Richardson',\n",
       "              'Jermaine Taylor',\n",
       "              'Jerry Stackhouse',\n",
       "              'Jim Jackson',\n",
       "              'Jimmer Fredette',\n",
       "              'Jimmy Butler',\n",
       "              'Jiri Welsch',\n",
       "              'Jodie Meeks',\n",
       "              'Joe Alexander',\n",
       "              'Joe Crawford',\n",
       "              'Joe Harris',\n",
       "              'Joe Ingles',\n",
       "              'Joe Johnson',\n",
       "              'Joey Graham',\n",
       "              'John Edwards',\n",
       "              'John Jenkins',\n",
       "              'John Lucas',\n",
       "              'John Salmons',\n",
       "              'John Thomas',\n",
       "              \"Johnny O'Bryant\",\n",
       "              'Jon Barry',\n",
       "              'Jonathan Bender',\n",
       "              'Jonathon Simmons',\n",
       "              'Jordan Adams',\n",
       "              'Jordan Clarkson',\n",
       "              'Jordan Hamilton',\n",
       "              'Jorge Garbajosa',\n",
       "              'Josh Akognon',\n",
       "              'Josh Childress',\n",
       "              'Josh Howard',\n",
       "              'Josh Huestis',\n",
       "              'Josh Richardson',\n",
       "              'Juan Carlos Navarro',\n",
       "              'Juan Dixon',\n",
       "              'Julian Wright',\n",
       "              'Jumaine Jones',\n",
       "              'Justin Dentmon',\n",
       "              'Justin Hamilton',\n",
       "              'Justin Harper',\n",
       "              'Justin Holiday',\n",
       "              'Justin Reed',\n",
       "              'Justise Winslow',\n",
       "              'K.J. McDaniels',\n",
       "              'Kalin Lucas',\n",
       "              'Kaniel Dickens',\n",
       "              'Kareem Rush',\n",
       "              'Kasib Powell',\n",
       "              'Keith Appling',\n",
       "              'Keith Bogans',\n",
       "              'Keith Langford',\n",
       "              'Keith Van Horn',\n",
       "              'Kelenna Azubuike',\n",
       "              'Kelly Oubre',\n",
       "              'Kent Bazemore',\n",
       "              'Kentavious Caldwell-Pope',\n",
       "              'Kevin Martin',\n",
       "              'Kevin Murphy',\n",
       "              'Kevin Willis',\n",
       "              'Kevinn Pinkney',\n",
       "              'Keyon Dooling',\n",
       "              'Khris Middleton',\n",
       "              'Kim English',\n",
       "              'Kirk Snyder',\n",
       "              'Klay Thompson',\n",
       "              'Kostas Papanikolaou',\n",
       "              'Kris Joseph',\n",
       "              'Kyle Korver',\n",
       "              'Kyle Singler',\n",
       "              'Kyle Weaver',\n",
       "              'Lance Allred',\n",
       "              'Lance Thomas',\n",
       "              'Landry Fields',\n",
       "              'Langston Galloway',\n",
       "              'Laron Profit',\n",
       "              'Larry Hughes',\n",
       "              'Larry Owens',\n",
       "              'Lazar Hayward',\n",
       "              'Leandro Barbosa',\n",
       "              'Lee Nailon',\n",
       "              'Linas Kleiza',\n",
       "              'Luigi Datome',\n",
       "              'Luis Montero',\n",
       "              'Luke Babbitt',\n",
       "              'Luke Jackson',\n",
       "              'Luke Zeller',\n",
       "              'Luol Deng',\n",
       "              'Luther Head',\n",
       "              'Lynn Greer',\n",
       "              'Malcolm Lee',\n",
       "              'Malik Allen',\n",
       "              'Malik Hairston',\n",
       "              'Manny Harris',\n",
       "              'MarShon Brooks',\n",
       "              'Marco Belinelli',\n",
       "              'Marcus Cousin',\n",
       "              'Marcus Fizer',\n",
       "              'Marcus Haislip',\n",
       "              'Marcus Landry',\n",
       "              'Marcus Morris',\n",
       "              'Marcus Thornton',\n",
       "              'Marcus Vinicius',\n",
       "              'Mario Hezonja',\n",
       "              'Mark Blount',\n",
       "              'Markel Brown',\n",
       "              'Marquis Daniels',\n",
       "              'Martell Webster',\n",
       "              'Marvin Williams',\n",
       "              'Matt Bonner',\n",
       "              'Matt Carroll',\n",
       "              'Matt Freije',\n",
       "              'Matt Harpring',\n",
       "              'Matt Walsh',\n",
       "              'Maurice Ager',\n",
       "              'Maurice Evans',\n",
       "              'Maurice Harkless',\n",
       "              'Maurice Taylor',\n",
       "              'Melvin Sanders',\n",
       "              'Metta World Peace',\n",
       "              'Michael Beasley',\n",
       "              'Michael Finley',\n",
       "              'Michael Redd',\n",
       "              'Mickael Gelabale',\n",
       "              'Mickael Pietrus',\n",
       "              'Mike Dunleavy',\n",
       "              'Mike Hall',\n",
       "              'Mike Miller',\n",
       "              'Mike Scott',\n",
       "              'Mile Ilic',\n",
       "              'Mirza Teletovic',\n",
       "              'Montrezl Harrell',\n",
       "              'Morris Almond',\n",
       "              'Morris Peterson',\n",
       "              'Mychel Thompson',\n",
       "              'Nemanja Bjelica',\n",
       "              'Nemanja Nedovic',\n",
       "              'Nick Johnson',\n",
       "              'Nick Van Exel',\n",
       "              'Nick Young',\n",
       "              'Nik Stauskas',\n",
       "              'Noel Felix',\n",
       "              'Norman Powell',\n",
       "              'O.J. Mayo',\n",
       "              'Oliver Lafayette',\n",
       "              'Omri Casspi',\n",
       "              'Orlando Johnson',\n",
       "              'Othella Harrington',\n",
       "              'Otto Porter',\n",
       "              'P.J. Hairston',\n",
       "              'Pat Garrity',\n",
       "              'Patrick Beverley',\n",
       "              'Patrick Christopher',\n",
       "              'Patrick Mills',\n",
       "              'Patrick Patterson',\n",
       "              'Peja Stojakovic',\n",
       "              'Perry Jones',\n",
       "              'Primoz Brezec',\n",
       "              'Quentin Richardson',\n",
       "              'Quincy Douby',\n",
       "              'Quincy Miller',\n",
       "              'Quincy Pondexter',\n",
       "              'Quinton Ross',\n",
       "              'Qyntel Woods',\n",
       "              'R.J. Hunter',\n",
       "              'Raja Bell',\n",
       "              'Randy Foye',\n",
       "              'Randy Holcomb',\n",
       "              'Rashad McCants',\n",
       "              'Rashad Vaughn',\n",
       "              'Rashard Lewis',\n",
       "              'Rasual Butler',\n",
       "              'Raul Neto',\n",
       "              'Rawle Marshall',\n",
       "              'Ray Allen',\n",
       "              'Reece Gaines',\n",
       "              'Reggie Bullock',\n",
       "              'Reggie Williams',\n",
       "              'Renaldo Major',\n",
       "              'Richard Hamilton',\n",
       "              'Richard Jefferson',\n",
       "              'Richaun Holmes',\n",
       "              'Richie Frahm',\n",
       "              'Ricky Davis',\n",
       "              'Ricky Ledo',\n",
       "              'Rob Kurz',\n",
       "              'Robbie Hummel',\n",
       "              'Robert Covington',\n",
       "              'Robert Hite',\n",
       "              'Rodney Carney',\n",
       "              'Rodney Hood',\n",
       "              'Roger Mason',\n",
       "              'Ronald Murray',\n",
       "              'Ronnie Brewer',\n",
       "              'Royal Ivey',\n",
       "              'Royce White',\n",
       "              'Ruben Patterson',\n",
       "              'Rudy Fernandez',\n",
       "              'Rudy Gay',\n",
       "              'Ryan Anderson',\n",
       "              'Ryan Bowen',\n",
       "              'Ryan Gomes',\n",
       "              'Ryan Hollins',\n",
       "              'Ryan Kelly',\n",
       "              'Ryan Reid',\n",
       "              'Salim Stoudamire',\n",
       "              'Sam Dekker',\n",
       "              'Sam Young',\n",
       "              'Samaki Walker',\n",
       "              'Sasha Pavlovic',\n",
       "              'Sasha Vujacic',\n",
       "              'Sean Kilpatrick',\n",
       "              'Sean Singletary',\n",
       "              'Sergei Monia',\n",
       "              'Sergey Karasev',\n",
       "              'Seth Curry',\n",
       "              'Shabazz Muhammad',\n",
       "              'Shammond Williams',\n",
       "              'Shandon Anderson',\n",
       "              'Shane Battier',\n",
       "              'Shane Edwards',\n",
       "              'Shannon Brown',\n",
       "              'Shawne Williams',\n",
       "              'Smush Parker',\n",
       "              'Solomon Hill',\n",
       "              'Sonny Weems',\n",
       "              'Stacey Augmon',\n",
       "              'Stanislav Medvedenko',\n",
       "              'Stanley Johnson',\n",
       "              'Stephane Lasme',\n",
       "              'Stephen Graham',\n",
       "              'Stephen Jackson',\n",
       "              'Steve Novak',\n",
       "              'Sun Yue',\n",
       "              'T.J. Warren',\n",
       "              'Tarence Kinsey',\n",
       "              'Taylor Griffin',\n",
       "              'Tayshaun Prince',\n",
       "              'Terence Morris',\n",
       "              'Terrel Harris',\n",
       "              'Terrence Ross',\n",
       "              'Thabo Sefolosha',\n",
       "              'Thaddeus Young',\n",
       "              'Thomas Gardner',\n",
       "              'Tibor Pleiss',\n",
       "              'Tim Hardaway',\n",
       "              'Tim Ohlbrecht',\n",
       "              'Tim Thomas',\n",
       "              'Toney Douglas',\n",
       "              'Tony Allen',\n",
       "              'Tony Delk',\n",
       "              'Tony Snell',\n",
       "              'Tornike Shengelia',\n",
       "              'Travis Outlaw',\n",
       "              'Travis Wear',\n",
       "              'Trenton Hassell',\n",
       "              'Trevor Ariza',\n",
       "              'Trey Gilder',\n",
       "              'Trey Johnson',\n",
       "              'Trey Thompkins',\n",
       "              'Troy Daniels',\n",
       "              'Tyler Johnson',\n",
       "              'Tyronn Lue',\n",
       "              'Uros Slokar',\n",
       "              'Vander Blue',\n",
       "              'Victor Claver',\n",
       "              'Vince Carter',\n",
       "              'Vitaly Potapenko',\n",
       "              'Vladimir Radmanovic',\n",
       "              'Von Wafer',\n",
       "              'Voshon Lenard',\n",
       "              'Wally Szczerbiak',\n",
       "              'Walter Herrmann',\n",
       "              'Walter Sharpe',\n",
       "              'Wayne Ellington',\n",
       "              'Wayne Simien',\n",
       "              'Wesley Johnson',\n",
       "              'Wesley Matthews',\n",
       "              'Will Barton',\n",
       "              'Willie Green',\n",
       "              'Wilson Chandler',\n",
       "              'Xavier Henry',\n",
       "              'Xavier Munford',\n",
       "              'Xavier Silas',\n",
       "              'Yakhouba Diawara',\n",
       "              'Yaroslav Korolev',\n",
       "              'Zeljko Rebraca',\n",
       "              'Zoran Dragic',\n",
       "              'Zoran Planinic'],\n",
       "             1: ['Aaron Gordon',\n",
       "              'Aaron Gray',\n",
       "              'Aaron Williams',\n",
       "              'Adonal Foyle',\n",
       "              'Adreian Payne',\n",
       "              'Adrian Griffin',\n",
       "              'Al Horford',\n",
       "              'Al Jefferson',\n",
       "              'Al-Farouq Aminu',\n",
       "              'Alan Henderson',\n",
       "              'Alan Williams',\n",
       "              'Alex Len',\n",
       "              'Alex Stepheson',\n",
       "              'Alexander Johnson',\n",
       "              'Alexis Ajinca',\n",
       "              'Alonzo Mourning',\n",
       "              \"Amar'e Stoudemire\",\n",
       "              'Amir Johnson',\n",
       "              'Anderson Varejao',\n",
       "              'Andray Blatche',\n",
       "              'Andre Brown',\n",
       "              'Andre Drummond',\n",
       "              'Andrew Bogut',\n",
       "              'Andrew Bynum',\n",
       "              'Andris Biedrins',\n",
       "              'Antawn Jamison',\n",
       "              'Anthony Bennett',\n",
       "              'Anthony Davis',\n",
       "              'Anthony Randolph',\n",
       "              'Antonio Davis',\n",
       "              'Antonio McDyess',\n",
       "              'Arinze Onuaku',\n",
       "              'Arnett Moultrie',\n",
       "              'Aron Baynes',\n",
       "              'Austin Croshere',\n",
       "              'Awvee Storey',\n",
       "              'Ben Wallace',\n",
       "              'Bernard James',\n",
       "              'Bismack Biyombo',\n",
       "              'Blake Griffin',\n",
       "              'Bo Outlaw',\n",
       "              'Boban Marjanovic',\n",
       "              'Bobby Portis',\n",
       "              \"Boniface N'Dong\",\n",
       "              'Bonzi Wells',\n",
       "              'Brad Miller',\n",
       "              'Brandan Wright',\n",
       "              'Branden Dawson',\n",
       "              'Brandon Bass',\n",
       "              'Brandon Davies',\n",
       "              'Brendan Haywood',\n",
       "              'Brian Grant',\n",
       "              'Brian Skinner',\n",
       "              'Brook Lopez',\n",
       "              'Byron Mullens',\n",
       "              'Calvin Booth',\n",
       "              'Cameron Bairstow',\n",
       "              'Carl Landry',\n",
       "              'Carlos Boozer',\n",
       "              'Cheikh Samb',\n",
       "              'Chris Andersen',\n",
       "              'Chris Bosh',\n",
       "              'Chris Hunter',\n",
       "              'Chris Kaman',\n",
       "              'Chris Mihm',\n",
       "              'Chris Richard',\n",
       "              'Chris Taft',\n",
       "              'Chris Webber',\n",
       "              'Chris Wilcox',\n",
       "              'Chris Wright',\n",
       "              'Christian Wood',\n",
       "              'Chuck Hayes',\n",
       "              'Clint Capela',\n",
       "              'Cody Zeller',\n",
       "              'Cole Aldrich',\n",
       "              'Cory Jefferson',\n",
       "              'Courtney Sims',\n",
       "              'Craig Smith',\n",
       "              'Cristiano Felicio',\n",
       "              'D.J. Stephens',\n",
       "              'D.J. White',\n",
       "              'Dale Davis',\n",
       "              'Damien Inglis',\n",
       "              'Damion James',\n",
       "              'Dan Gadzuric',\n",
       "              'Daniel Orton',\n",
       "              'Danny Fortson',\n",
       "              'Darius Johnson-Odom',\n",
       "              'Darko Milicic',\n",
       "              'Darryl Watkins',\n",
       "              'David Andersen',\n",
       "              'David Harrison',\n",
       "              'David Lee',\n",
       "              'David West',\n",
       "              'DeAndre Jordan',\n",
       "              'DeJuan Blair',\n",
       "              'DeMarcus Cousins',\n",
       "              'DeSagana Diop',\n",
       "              'Dennis Horner',\n",
       "              'Derrick Byars',\n",
       "              'Derrick Caracter',\n",
       "              'Derrick Favors',\n",
       "              'Devin Green',\n",
       "              'Dewayne Dedmon',\n",
       "              'Dexter Pittman',\n",
       "              'Didier Ilunga-Mbenga',\n",
       "              'Dikembe Mutombo',\n",
       "              'Dirk Nowitzki',\n",
       "              'Dominic McGuire',\n",
       "              'Donatas Motiejunas',\n",
       "              'Donyell Marshall',\n",
       "              'Drew Gooden',\n",
       "              'Drew Gordon',\n",
       "              'Dwayne Jones',\n",
       "              'Dwight Howard',\n",
       "              'Dwight Powell',\n",
       "              'Earl Barron',\n",
       "              'Earl Clark',\n",
       "              'Ed Davis',\n",
       "              'Eddie Basden',\n",
       "              'Eddie Griffin',\n",
       "              'Eduardo Najera',\n",
       "              'Ekpe Udoh',\n",
       "              'Elton Brand',\n",
       "              'Emeka Okafor',\n",
       "              'Enes Kanter',\n",
       "              'Eric Dawson',\n",
       "              'Eric Moreland',\n",
       "              'Erick Dampier',\n",
       "              'Ersan Ilyasova',\n",
       "              'Ervin Johnson',\n",
       "              'Esteban Batista',\n",
       "              'Etan Thomas',\n",
       "              'Fabricio Oberto',\n",
       "              'Festus Ezeli',\n",
       "              'Francisco Elson',\n",
       "              'Furkan Aldemir',\n",
       "              'Garret Siler',\n",
       "              'Gerald Wallace',\n",
       "              'Giannis Antetokounmpo',\n",
       "              'Glen Davis',\n",
       "              'Gorgui Dieng',\n",
       "              'Greg Monroe',\n",
       "              'Greg Oden',\n",
       "              'Greg Ostertag',\n",
       "              'Greg Smith',\n",
       "              'Greg Stiemsma',\n",
       "              'Gustavo Ayon',\n",
       "              'Ha Seung-Jin',\n",
       "              'Hakim Warrick',\n",
       "              'Hamed Haddadi',\n",
       "              'Hasheem Thabeet',\n",
       "              'Hassan Whiteside',\n",
       "              'Henry Sims',\n",
       "              'Hilton Armstrong',\n",
       "              'Ian Mahinmi',\n",
       "              'Ike Diogu',\n",
       "              'Ivan Johnson',\n",
       "              'Ivan McFarlin',\n",
       "              'J.J. Hickson',\n",
       "              'J.R. Giddens',\n",
       "              'JaMychal Green',\n",
       "              'JaVale McGee',\n",
       "              'Jack Cooley',\n",
       "              'Jackie Butler',\n",
       "              'Jackson Vroman',\n",
       "              'Jahlil Okafor',\n",
       "              'Jake Tsakalidis',\n",
       "              'Jake Voskuhl',\n",
       "              'Jamaal Magloire',\n",
       "              'Jamal Sampson',\n",
       "              'James Augustine',\n",
       "              'James Lang',\n",
       "              'James Michael McAdoo',\n",
       "              'James Singleton',\n",
       "              'James Southerland',\n",
       "              'James Thomas',\n",
       "              'Jan Vesely',\n",
       "              'Jared Jeffries',\n",
       "              'Jared Reiner',\n",
       "              'Jared Sullinger',\n",
       "              'Jarell Martin',\n",
       "              'Jarnell Stokes',\n",
       "              'Jarron Collins',\n",
       "              'Jarvis Varnado',\n",
       "              'Jason Maxiell',\n",
       "              'Jason Smith',\n",
       "              'Jason Thompson',\n",
       "              'Jeff Adrien',\n",
       "              'Jeff Ayres',\n",
       "              'Jeff Foster',\n",
       "              'Jeff Withey',\n",
       "              'Jelani McCoy',\n",
       "              'Jeremy Evans',\n",
       "              'Jeremy Tyler',\n",
       "              \"Jermaine O'Neal\",\n",
       "              'Jermareo Davidson',\n",
       "              'Jerome James',\n",
       "              'Jerome Jordan',\n",
       "              'Joakim Noah',\n",
       "              'Joe Smith',\n",
       "              'Joel Anthony',\n",
       "              'Joel Freeland',\n",
       "              'Joel Przybilla',\n",
       "              'Joey Dorsey',\n",
       "              'Joffrey Lauvergne',\n",
       "              'Johan Petro',\n",
       "              'John Henson',\n",
       "              'Jon Brockman',\n",
       "              'Jon Leuer',\n",
       "              'Jonas Jerebko',\n",
       "              'Jonas Valanciunas',\n",
       "              'Jordan Hill',\n",
       "              'Jordan Mickey',\n",
       "              'Jordan Williams',\n",
       "              'Josh Boone',\n",
       "              'Josh Davis',\n",
       "              'Josh Harrellson',\n",
       "              'Josh McRoberts',\n",
       "              'Josh Powell',\n",
       "              'Josh Smith',\n",
       "              'Julius Randle',\n",
       "              'Justin Anderson',\n",
       "              'Justin Williams',\n",
       "              'Jusuf Nurkic',\n",
       "              'Juwan Howard',\n",
       "              'Karl-Anthony Towns',\n",
       "              'Kawhi Leonard',\n",
       "              'Keith Benson',\n",
       "              'Kelly Olynyk',\n",
       "              'Kelvin Cato',\n",
       "              'Kendrick Perkins',\n",
       "              'Kenneth Faried',\n",
       "              'Kenny Thomas',\n",
       "              'Kenyon Martin',\n",
       "              'Kevin Durant',\n",
       "              'Kevin Garnett',\n",
       "              'Kevin Jones',\n",
       "              'Kevin Love',\n",
       "              'Kevin Seraphin',\n",
       "              'Kevon Looney',\n",
       "              'Kosta Koufos',\n",
       "              'Kosta Perovic',\n",
       "              'Kris Humphries',\n",
       "              'Kristaps Porzingis',\n",
       "              'Kurt Thomas',\n",
       "              'Kwame Brown',\n",
       "              'Kyle Anderson',\n",
       "              \"Kyle O'Quinn\",\n",
       "              'Kyrylo Fesenko',\n",
       "              'LaMarcus Aldridge',\n",
       "              'Lamar Odom',\n",
       "              'Lamond Murray',\n",
       "              'Larry Nance Jr.',\n",
       "              'Larry Sanders',\n",
       "              'Lavoy Allen',\n",
       "              'Lawrence Roberts',\n",
       "              'Leon Powe',\n",
       "              'Linton Johnson',\n",
       "              'Lonny Baxter',\n",
       "              'Loren Woods',\n",
       "              'Lorenzen Wright',\n",
       "              'Lou Amundson',\n",
       "              'Luc Mbah a Moute',\n",
       "              'Lucas Nogueira',\n",
       "              'Luis Scola',\n",
       "              'Luke Harangody',\n",
       "              'Luke Schenscher',\n",
       "              'Maceo Baston',\n",
       "              'Maciej Lampe',\n",
       "              'Malcolm Thomas',\n",
       "              'Malik Rose',\n",
       "              'Marc Gasol',\n",
       "              'Marc Jackson',\n",
       "              'Marcin Gortat',\n",
       "              'Marcus Camby',\n",
       "              'Mario Kasun',\n",
       "              'Mario West',\n",
       "              'Mark Madsen',\n",
       "              'Markieff Morris',\n",
       "              'Marreese Speights',\n",
       "              'Martynas Andriuskevicius',\n",
       "              'Mason Plumlee',\n",
       "              'Matt Barnes',\n",
       "              'Mehmet Okur',\n",
       "              'Melvin Ely',\n",
       "              'Meyers Leonard',\n",
       "              'Michael Bradley',\n",
       "              'Michael Doleac',\n",
       "              'Michael Kidd-Gilchrist',\n",
       "              'Michael Olowokandi',\n",
       "              'Michael Ruffin',\n",
       "              'Mickell Gladness',\n",
       "              'Mike Harris',\n",
       "              'Mike Muscala',\n",
       "              'Mike Sweetney',\n",
       "              'Mikki Moore',\n",
       "              'Miles Plumlee',\n",
       "              'Miroslav Raduljica',\n",
       "              'Mitch McGary',\n",
       "              'Mouhamed Sene',\n",
       "              'Myles Turner',\n",
       "              'Nathan Jawai',\n",
       "              'Nazr Mohammed',\n",
       "              'Nenad Krstic',\n",
       "              'Nene Hilario',\n",
       "              'Nerlens Noel',\n",
       "              'Nick Collison',\n",
       "              'Nick Fazekas',\n",
       "              'Nikola Jokic',\n",
       "              'Nikola Mirotic',\n",
       "              'Nikola Pekovic',\n",
       "              'Nikola Vucevic',\n",
       "              'Nikoloz Tskitishvili',\n",
       "              'Noah Vonleh',\n",
       "              'Ognjen Kuzmic',\n",
       "              'Oleksiy Pecherov',\n",
       "              'Omer Asik',\n",
       "              'Othello Hunter',\n",
       "              'Othyus Jeffers',\n",
       "              'P.J. Brown',\n",
       "              'P.J. Tucker',\n",
       "              'Pape Sow',\n",
       "              'Pat Burke',\n",
       "              'Pat Connaughton',\n",
       "              \"Patrick O'Bryant\",\n",
       "              'Pau Gasol',\n",
       "              'Paul Davis',\n",
       "              'Paul George',\n",
       "              'Paul Millsap',\n",
       "              'Pavel Podkolzin',\n",
       "              'Pero Antic',\n",
       "              'Pops Mensah-Bonsu',\n",
       "              'Quincy Acy',\n",
       "              'Raef LaFrentz',\n",
       "              'Rafael Araujo',\n",
       "              'Randolph Morris',\n",
       "              'Rasheed Wallace',\n",
       "              'Rasho Nesterovic',\n",
       "              'Reggie Evans',\n",
       "              'Renaldo Balkman',\n",
       "              'Robert Horry',\n",
       "              'Robert Sacre',\n",
       "              'Robert Swift',\n",
       "              'Robert Whaley',\n",
       "              'Robin Lopez',\n",
       "              'Roger Powell',\n",
       "              'Ronald Dupree',\n",
       "              'Rondae Hollis-Jefferson',\n",
       "              'Ronny Turiaf',\n",
       "              'Roy Hibbert',\n",
       "              'Rudy Gobert',\n",
       "              'Salah Mejri',\n",
       "              'Samardo Samuels',\n",
       "              'Samuel Dalembert',\n",
       "              'Sasha Kaun',\n",
       "              'Scot Pollard',\n",
       "              'Scott Padgett',\n",
       "              'Sean Marks',\n",
       "              'Sean May',\n",
       "              'Sean Williams',\n",
       "              'Semih Erden',\n",
       "              'Serge Ibaka',\n",
       "              \"Shaquille O'Neal\",\n",
       "              'Shareef Abdur-Rahim',\n",
       "              'Sharrod Ford',\n",
       "              'Shavlik Randolph',\n",
       "              'Shawn Marion',\n",
       "              'Shayne Whittington',\n",
       "              'Shelden Williams',\n",
       "              'Solomon Alabi',\n",
       "              'Solomon Jones',\n",
       "              'Spencer Hawes',\n",
       "              'Steven Adams',\n",
       "              'Steven Hunter',\n",
       "              'Steven Smith',\n",
       "              'Stromile Swift',\n",
       "              'Taj Gibson',\n",
       "              'Tarik Black',\n",
       "              'Terrence Jones',\n",
       "              'Theo Ratliff',\n",
       "              'Thomas Robinson',\n",
       "              'Tiago Splitter',\n",
       "              'Tim Duncan',\n",
       "              'Timofey Mozgov',\n",
       "              'Tobias Harris',\n",
       "              'Tony Battie',\n",
       "              'Tony Mitchell',\n",
       "              'Trevor Booker',\n",
       "              'Trey Lyles',\n",
       "              'Tristan Thompson',\n",
       "              'Troy Murphy',\n",
       "              'Tyler Hansbrough',\n",
       "              'Tyler Honeycutt',\n",
       "              'Tyler Zeller',\n",
       "              'Tyrus Thomas',\n",
       "              'Tyson Chandler',\n",
       "              'Udonis Haslem',\n",
       "              'Vernon Macklin',\n",
       "              'Viacheslav Kravtsov',\n",
       "              'Viktor Khryapa',\n",
       "              'Vin Baker',\n",
       "              'Vitor Faverani',\n",
       "              'Walter McCarty',\n",
       "              'Walter Tavares',\n",
       "              'Willie Cauley-Stein',\n",
       "              'Willie Reed',\n",
       "              'Yao Ming',\n",
       "              'Yi Jianlian',\n",
       "              'Zach Randolph',\n",
       "              'Zarko Cabarkapa',\n",
       "              'Zaza Pachulia',\n",
       "              'Zendon Hamilton',\n",
       "              'Zydrunas Ilgauskas'],\n",
       "             2: ['A.J. Price',\n",
       "              'Aaron Brooks',\n",
       "              'Aaron McKie',\n",
       "              'Aaron Miles',\n",
       "              'Acie Law',\n",
       "              'Alexey Shved',\n",
       "              'Allen Iverson',\n",
       "              'Alvin Williams',\n",
       "              'Andre Barrett',\n",
       "              'Andre Iguodala',\n",
       "              'Andre Miller',\n",
       "              'Andrei Kirilenko',\n",
       "              'Anfernee Hardaway',\n",
       "              'Anthony Carter',\n",
       "              'Anthony Johnson',\n",
       "              'Antonio Burks',\n",
       "              'Antonio Daniels',\n",
       "              'Armon Johnson',\n",
       "              'Baron Davis',\n",
       "              'Ben Hansbrough',\n",
       "              'Ben Uzoh',\n",
       "              'Beno Udrih',\n",
       "              'Bobby Brown',\n",
       "              'Boris Diaw',\n",
       "              'Brandon Jennings',\n",
       "              'Brandon Knight',\n",
       "              'Brandon Roy',\n",
       "              'Brevin Knight',\n",
       "              'Brian Roberts',\n",
       "              'Briante Weber',\n",
       "              'C.J. Watson',\n",
       "              'Cameron Payne',\n",
       "              'Carldell Johnson',\n",
       "              'Carlos Arroyo',\n",
       "              'Cedric Jackson',\n",
       "              'Charles Jenkins',\n",
       "              'Chauncey Billups',\n",
       "              'Chris Duhon',\n",
       "              'Chris Paul',\n",
       "              'Chris Quinn',\n",
       "              'Chucky Atkins',\n",
       "              'Coby Karl',\n",
       "              'Cory Joseph',\n",
       "              'Courtney Fortson',\n",
       "              \"D'Angelo Russell\",\n",
       "              'D.J. Augustin',\n",
       "              'D.J. Strawberry',\n",
       "              'Damian Lillard',\n",
       "              'Damon Stoudamire',\n",
       "              'Dan Dickau',\n",
       "              'Darington Hobson',\n",
       "              'Darius Morris',\n",
       "              'Darrell Armstrong',\n",
       "              'Darren Collison',\n",
       "              'Darrick Martin',\n",
       "              'David Stockton',\n",
       "              'David Wear',\n",
       "              'Dee Brown',\n",
       "              'Delon Wright',\n",
       "              'Delonte West',\n",
       "              'Dennis Schroder',\n",
       "              'Derek Anderson',\n",
       "              'Deron Williams',\n",
       "              'Derrick Rose',\n",
       "              'Derrick Zimmerman',\n",
       "              'Desmon Farmer',\n",
       "              'Devin Harris',\n",
       "              'Diante Garrett',\n",
       "              'Dominique Jones',\n",
       "              'Donald Sloan',\n",
       "              'Donell Taylor',\n",
       "              'Dontell Jefferson',\n",
       "              'Draymond Green',\n",
       "              'Dwyane Wade',\n",
       "              'Earl Boykins',\n",
       "              'Earl Watson',\n",
       "              'Eddie Gill',\n",
       "              'Elfrid Payton',\n",
       "              'Elias Harris',\n",
       "              'Emmanuel Mudiay',\n",
       "              'Eric Bledsoe',\n",
       "              'Eric Maynor',\n",
       "              'Eric Snow',\n",
       "              'Eugene Jeter',\n",
       "              'Evan Turner',\n",
       "              'Gabe Pruitt',\n",
       "              'Gal Mekel',\n",
       "              'Gary Payton',\n",
       "              'George Hill',\n",
       "              'Gerald Fitch',\n",
       "              'Gilbert Arenas',\n",
       "              'Goran Dragic',\n",
       "              'Gordon Hayward',\n",
       "              'Greivis Vasquez',\n",
       "              'Hedo Turkoglu',\n",
       "              'Howard Eisley',\n",
       "              'Isaiah Thomas',\n",
       "              'Ish Smith',\n",
       "              'J.J. Barea',\n",
       "              'Jacque Vaughn',\n",
       "              'Jamaal Tinsley',\n",
       "              'Jameer Nelson',\n",
       "              'James Harden',\n",
       "              'Jannero Pargo',\n",
       "              'Jarrett Jack',\n",
       "              'Jason Hart',\n",
       "              'Jason Kidd',\n",
       "              'Jason Williams',\n",
       "              'Javaris Crittenton',\n",
       "              'Jeff McInnis',\n",
       "              'Jeff Teague',\n",
       "              'Jeremy Lin',\n",
       "              'Jeremy Pargo',\n",
       "              'Jerian Grant',\n",
       "              'Jermaine Jackson',\n",
       "              'Jerome Dyson',\n",
       "              'Jerry Smith',\n",
       "              'Jerryd Bayless',\n",
       "              'John Wall',\n",
       "              'Jonny Flynn',\n",
       "              'Jordan Crawford',\n",
       "              'Jordan Farmar',\n",
       "              'Jordan McRae',\n",
       "              'Jorge Gutierrez',\n",
       "              'Jose Barea',\n",
       "              'Jose Calderon',\n",
       "              'Joseph Young',\n",
       "              'Josh Selby',\n",
       "              'Jrue Holiday',\n",
       "              'Julius Hodge',\n",
       "              'Julyan Stone',\n",
       "              'Junior Harrington',\n",
       "              'Keith McLeod',\n",
       "              'Kemba Walker',\n",
       "              'Kendall Marshall',\n",
       "              'Kevin Burleson',\n",
       "              'Kevin Ollie',\n",
       "              'Kirk Hinrich',\n",
       "              'Kobe Bryant',\n",
       "              'Kyle Lowry',\n",
       "              'Kyrie Irving',\n",
       "              'Lamar Patterson',\n",
       "              'Lance Stephenson',\n",
       "              'Larry Drew',\n",
       "              'LeBron James',\n",
       "              'Lester Hudson',\n",
       "              'Lindsey Hunter',\n",
       "              'Lorenzo Brown',\n",
       "              'Lou Williams',\n",
       "              'Luke Ridnour',\n",
       "              'Luke Walton',\n",
       "              'Maalik Wayns',\n",
       "              'Manu Ginobili',\n",
       "              'Marcelo Huertas',\n",
       "              'Marcus Banks',\n",
       "              'Marcus Smart',\n",
       "              'Marcus Williams',\n",
       "              'Mardy Collins',\n",
       "              'Mario Chalmers',\n",
       "              'Marko Jaric',\n",
       "              'Marquis Teague',\n",
       "              'Mateen Cleaves',\n",
       "              'Matthew Dellavedova',\n",
       "              'Michael Carter-Williams',\n",
       "              'Mike Bibby',\n",
       "              'Mike Conley',\n",
       "              'Mike James',\n",
       "              'Mike Taylor',\n",
       "              'Mike Wilks',\n",
       "              'Milt Palacio',\n",
       "              'Mo Williams',\n",
       "              'Monta Ellis',\n",
       "              'Moochie Norris',\n",
       "              'Mustafa Shakur',\n",
       "              'Nando De Colo',\n",
       "              'Nate Robinson',\n",
       "              'Nate Wolters',\n",
       "              'Nick Calathes',\n",
       "              'Nicolas Batum',\n",
       "              'Nolan Smith',\n",
       "              'Norris Cole',\n",
       "              'Orien Greene',\n",
       "              'Pablo Prigioni',\n",
       "              'Pape Sy',\n",
       "              'Patrick Ewing',\n",
       "              'Paul Pierce',\n",
       "              'Peyton Siva',\n",
       "              'Phil Pressey',\n",
       "              'Rafer Alston',\n",
       "              'Rajon Rondo',\n",
       "              'Ramon Sessions',\n",
       "              'Randy Livingston',\n",
       "              'Ray McCallum',\n",
       "              'Raymond Felton',\n",
       "              'Reggie Jackson',\n",
       "              'Rick Brunson',\n",
       "              'Ricky Rubio',\n",
       "              'Rodney Stuckey',\n",
       "              'Rodrigue Beaubois',\n",
       "              'Roko Ukic',\n",
       "              'Ronnie Price',\n",
       "              'Russ Smith',\n",
       "              'Russell Westbrook',\n",
       "              'Sam Cassell',\n",
       "              'Sarunas Jasikevicius',\n",
       "              'Scott Machado',\n",
       "              'Scotty Hopson',\n",
       "              'Sebastian Telfair',\n",
       "              'Sergio Rodriguez',\n",
       "              'Shabazz Napier',\n",
       "              'Shane Larkin',\n",
       "              'Shaun Livingston',\n",
       "              'Shelvin Mack',\n",
       "              'Sherron Collins',\n",
       "              'Speedy Claxton',\n",
       "              'Spencer Dinwiddie',\n",
       "              'Stephen Curry',\n",
       "              'Stephon Marbury',\n",
       "              'Steve Blake',\n",
       "              'Steve Francis',\n",
       "              'Steve Nash',\n",
       "              'Sundiata Gaines',\n",
       "              'T.J. Ford',\n",
       "              'T.J. McConnell',\n",
       "              'Taurean Green',\n",
       "              'Terrence Williams',\n",
       "              'Terry Rozier',\n",
       "              'Tim Frazier',\n",
       "              'Toni Kukoc',\n",
       "              'Tony Parker',\n",
       "              'Tony Wroten',\n",
       "              \"Toure' Murry\",\n",
       "              'Tracy McGrady',\n",
       "              'Travis Diener',\n",
       "              'Travis Leslie',\n",
       "              'Trey Burke',\n",
       "              'Troy Hudson',\n",
       "              'Ty Lawson',\n",
       "              'Tyler Ennis',\n",
       "              'Tyreke Evans',\n",
       "              'Tyshawn Taylor',\n",
       "              'Tyus Jones',\n",
       "              'Vassilis Spanoulis',\n",
       "              'Victor Oladipo',\n",
       "              'Walker Russell',\n",
       "              'Will Blalock',\n",
       "              'Will Bynum',\n",
       "              'Will Cherry',\n",
       "              'Will Conroy',\n",
       "              'Will Solomon',\n",
       "              'Willie Warren',\n",
       "              'Zabian Dowdell',\n",
       "              'Zach LaVine']})"
      ]
     },
     "execution_count": 81,
     "metadata": {},
     "output_type": "execute_result"
    }
   ],
   "source": [
    "dict_pca4_nout"
   ]
  },
  {
   "cell_type": "code",
   "execution_count": 82,
   "metadata": {
    "collapsed": false
   },
   "outputs": [],
   "source": [
    "one_x = clusteroneX[clusteroneX['Player Name'].isin(dict_pca4_nout[2])]\n",
    "one_y = clusteroney[clusteroney['Player Name'].isin(dict_pca4_nout[2])]"
   ]
  },
  {
   "cell_type": "code",
   "execution_count": 83,
   "metadata": {
    "collapsed": true
   },
   "outputs": [],
   "source": [
    "curryleftx = one_x[one_x['Player Name'] != 'Stephen Curry']\n",
    "currylefty = one_y[one_y['Player Name'] != 'Stephen Curry']"
   ]
  },
  {
   "cell_type": "code",
   "execution_count": 84,
   "metadata": {
    "collapsed": true
   },
   "outputs": [],
   "source": [
    "onlycurryx = one_x[one_x['Player Name'] == 'Stephen Curry']\n",
    "onlycurryy = one_y[one_y['Player Name'] == 'Stephen Curry']"
   ]
  },
  {
   "cell_type": "code",
   "execution_count": 85,
   "metadata": {
    "collapsed": true
   },
   "outputs": [],
   "source": [
    "today = datetime.date.today()\n",
    "stop_average_date = today - datetime.timedelta(140)"
   ]
  },
  {
   "cell_type": "code",
   "execution_count": 86,
   "metadata": {
    "collapsed": false
   },
   "outputs": [],
   "source": [
    "aftercurryx = onlycurryx[onlycurryx['Date'] > stop_average_date]\n",
    "aftercurryy = onlycurryy[onlycurryy['Date'] > stop_average_date]"
   ]
  },
  {
   "cell_type": "code",
   "execution_count": 87,
   "metadata": {
    "collapsed": false
   },
   "outputs": [],
   "source": [
    "beforecurryx = onlycurryx[onlycurryx['Date'] <= stop_average_date]\n",
    "beforecurryy = onlycurryy[onlycurryy['Date'] <= stop_average_date]"
   ]
  },
  {
   "cell_type": "code",
   "execution_count": 88,
   "metadata": {
    "collapsed": true
   },
   "outputs": [],
   "source": [
    "from sklearn.cross_validation import train_test_split"
   ]
  },
  {
   "cell_type": "code",
   "execution_count": 89,
   "metadata": {
    "collapsed": false,
    "scrolled": true
   },
   "outputs": [
    {
     "name": "stderr",
     "output_type": "stream",
     "text": [
      "/Users/ericpei/anaconda/lib/python2.7/site-packages/ipykernel/__main__.py:1: FutureWarning: using '-' to provide set differences with Indexes is deprecated, use .difference()\n",
      "  if __name__ == '__main__':\n"
     ]
    }
   ],
   "source": [
    "aftercurryx_train, aftercurryx_test, aftercurryy_train, aftercurryy_test = train_test_split(aftercurryx[list(aftercurryx.columns-['Player Name','Date'])], aftercurryy.iloc[:,3], test_size = 0.25, random_state = 30)"
   ]
  },
  {
   "cell_type": "code",
   "execution_count": 90,
   "metadata": {
    "collapsed": false
   },
   "outputs": [],
   "source": [
    "ClusterOne_xtrain = pd.concat([curryleftx, beforecurryx])\n",
    "ClusterOne_ytrain = pd.concat([currylefty['FG'], beforecurryy['FG']])\n",
    "ClusterOne_StephAvg = pd.concat([beforecurryy['FG'], aftercurryy_train]).mean()\n",
    "#ClusterOne_ytrain = ClusterOne_ytrain.append(aftercurryy_train)"
   ]
  },
  {
   "cell_type": "code",
   "execution_count": 91,
   "metadata": {
    "collapsed": true
   },
   "outputs": [],
   "source": [
    "ClusterOne_xtrain = ClusterOne_xtrain.drop('Date', axis=1)"
   ]
  },
  {
   "cell_type": "code",
   "execution_count": 92,
   "metadata": {
    "collapsed": true
   },
   "outputs": [],
   "source": [
    "ClusterOne_rf = RandomForestRegressor()"
   ]
  },
  {
   "cell_type": "code",
   "execution_count": 93,
   "metadata": {
    "collapsed": false,
    "scrolled": true
   },
   "outputs": [
    {
     "data": {
      "text/plain": [
       "RandomForestRegressor(bootstrap=True, criterion='mse', max_depth=None,\n",
       "           max_features='auto', max_leaf_nodes=None, min_samples_leaf=1,\n",
       "           min_samples_split=2, min_weight_fraction_leaf=0.0,\n",
       "           n_estimators=10, n_jobs=1, oob_score=False, random_state=None,\n",
       "           verbose=0, warm_start=False)"
      ]
     },
     "execution_count": 93,
     "metadata": {},
     "output_type": "execute_result"
    }
   ],
   "source": [
    "ClusterOne_rf.fit(ClusterOne_xtrain.ix[:, ClusterOne_xtrain.columns != 'Player Name'], ClusterOne_ytrain)"
   ]
  },
  {
   "cell_type": "code",
   "execution_count": 94,
   "metadata": {
    "collapsed": false
   },
   "outputs": [],
   "source": [
    "clustcurrypredictions = ClusterOne_rf.predict(aftercurryx_test)"
   ]
  },
  {
   "cell_type": "code",
   "execution_count": 95,
   "metadata": {
    "collapsed": false
   },
   "outputs": [
    {
     "data": {
      "text/plain": [
       "15.559999999999999"
      ]
     },
     "execution_count": 95,
     "metadata": {},
     "output_type": "execute_result"
    }
   ],
   "source": [
    "mean_squared_error(clustcurrypredictions, aftercurryy_test)"
   ]
  },
  {
   "cell_type": "code",
   "execution_count": 96,
   "metadata": {
    "collapsed": false,
    "scrolled": true
   },
   "outputs": [],
   "source": [
    "#PA.loc['Stephen Curry', 'FG']"
   ]
  },
  {
   "cell_type": "code",
   "execution_count": 97,
   "metadata": {
    "collapsed": true
   },
   "outputs": [],
   "source": [
    "stephavg = np.empty(len(clustcurrypredictions))"
   ]
  },
  {
   "cell_type": "code",
   "execution_count": 98,
   "metadata": {
    "collapsed": false
   },
   "outputs": [
    {
     "data": {
      "text/plain": [
       "7.8562500000000002"
      ]
     },
     "execution_count": 98,
     "metadata": {},
     "output_type": "execute_result"
    }
   ],
   "source": [
    "ClusterOne_StephAvg"
   ]
  },
  {
   "cell_type": "code",
   "execution_count": 99,
   "metadata": {
    "collapsed": true
   },
   "outputs": [],
   "source": [
    "stephavg.fill(ClusterOne_StephAvg)"
   ]
  },
  {
   "cell_type": "code",
   "execution_count": 100,
   "metadata": {
    "collapsed": false
   },
   "outputs": [
    {
     "data": {
      "text/plain": [
       "14.246445312499999"
      ]
     },
     "execution_count": 100,
     "metadata": {},
     "output_type": "execute_result"
    }
   ],
   "source": [
    "mean_squared_error(stephavg, aftercurryy_test)"
   ]
  },
  {
   "cell_type": "code",
   "execution_count": 101,
   "metadata": {
    "collapsed": false
   },
   "outputs": [
    {
     "data": {
      "text/plain": [
       "array([  9.1,   8.1,  11.5,   8.5,  10.4,   7.5,   7.9,   9. ,   7. ,\n",
       "         8.7,   9.6,   9.8,   8.6,  10.8,  10.3,   8.2])"
      ]
     },
     "execution_count": 101,
     "metadata": {},
     "output_type": "execute_result"
    }
   ],
   "source": [
    "clustcurrypredictions"
   ]
  },
  {
   "cell_type": "code",
   "execution_count": 102,
   "metadata": {
    "collapsed": false,
    "scrolled": false
   },
   "outputs": [
    {
     "data": {
      "text/plain": [
       "243413     7\n",
       "243437    14\n",
       "243427     4\n",
       "243434    12\n",
       "243453     7\n",
       "243424     8\n",
       "243456     9\n",
       "243446    10\n",
       "243425    11\n",
       "243443     4\n",
       "243462    15\n",
       "243435     5\n",
       "243422    13\n",
       "243433     9\n",
       "243442    14\n",
       "243407     9\n",
       "Name: FG, dtype: int64"
      ]
     },
     "execution_count": 102,
     "metadata": {},
     "output_type": "execute_result"
    }
   ],
   "source": [
    "aftercurryy_test"
   ]
  },
  {
   "cell_type": "markdown",
   "metadata": {},
   "source": [
    "# Cluster Two"
   ]
  },
  {
   "cell_type": "code",
   "execution_count": 104,
   "metadata": {
    "collapsed": false
   },
   "outputs": [],
   "source": [
    "from scripts import random_forest"
   ]
  },
  {
   "cell_type": "code",
   "execution_count": 105,
   "metadata": {
    "collapsed": true
   },
   "outputs": [],
   "source": [
    "from scripts import clusters"
   ]
  },
  {
   "cell_type": "code",
   "execution_count": 106,
   "metadata": {
    "collapsed": true
   },
   "outputs": [],
   "source": [
    "PA140 = make_df.make_averages(df, cutoff=140)"
   ]
  },
  {
   "cell_type": "code",
   "execution_count": 107,
   "metadata": {
    "collapsed": false
   },
   "outputs": [
    {
     "name": "stdout",
     "output_type": "stream",
     "text": [
      "['SP_1dayago', 'SP_2dayago', 'SP_3dayago', 'SP_4dayago', 'TP1dayago', 'TP2dayago', 'TP3dayago', 'TP4dayago', 'FG1dayago', 'FG2dayago', 'FG3dayago', 'FG4dayago', 'FT1dayago', 'FT2dayago', 'FT3dayago', 'FT4dayago', 'TRB1dayago', 'TRB2dayago', 'TRB3dayago', 'TRB4dayago', 'AST1dayago', 'AST2dayago', 'AST3dayago', 'AST4dayago', 'BLK1dayago', 'BLK2dayago', 'BLK3dayago', 'BLK4dayago', 'STL1dayago', 'STL2dayago', 'STL3dayago', 'STL4dayago', 'TOV1dayago', 'TOV2dayago', 'TOV3dayago', 'TOV4dayago', 'USGP1dayago', 'USGP2dayago', 'USGP3dayago', 'USGP4dayago', 'FTr1dayago', 'FTr2dayago', 'FTr3dayago', 'FTr4dayago', 'PM1dayago', 'PM2dayago', 'PM3dayago', 'PM4dayago', 'TSP1dayago', 'TSP2dayago', 'TSP3dayago', 'TSP4dayago', 'PF1dayago', 'PF2dayago', 'PF3dayago', 'PF4dayago', 'ORtg1dayago', 'ORtg2dayago', 'ORtg3dayago', 'ORtg4dayago', 'DRtg1dayago', 'DRtg2dayago', 'DRtg3dayago', 'DRtg4dayago', 'Elevation', 'OneisHome']\n"
     ]
    }
   ],
   "source": [
    "cluster2predictions, true_2_y = clusters.get_predictions(df, cluster_dict=dict_pca4_nout, cluster_num=2, cutoff=140)"
   ]
  },
  {
   "cell_type": "code",
   "execution_count": 108,
   "metadata": {
    "collapsed": true
   },
   "outputs": [],
   "source": [
    "true_2y_score = 2*true_2_y['FG'] + true_2_y['3P'] + true_2_y['FT'] + 1.2*true_2_y['TRB'] + 1.5*true_2_y['AST']\\\n",
    "                + 2*true_2_y['BLK'] + 2*true_2_y['STL'] - true_2_y['TOV']"
   ]
  },
  {
   "cell_type": "code",
   "execution_count": 109,
   "metadata": {
    "collapsed": false
   },
   "outputs": [
    {
     "data": {
      "text/plain": [
       "98.610929250418764"
      ]
     },
     "execution_count": 109,
     "metadata": {},
     "output_type": "execute_result"
    }
   ],
   "source": [
    "mean_squared_error(true_2y_score, cluster2predictions['SCR'])"
   ]
  },
  {
   "cell_type": "code",
   "execution_count": 110,
   "metadata": {
    "collapsed": false
   },
   "outputs": [
    {
     "data": {
      "text/plain": [
       "(-10, 75)"
      ]
     },
     "execution_count": 110,
     "metadata": {},
     "output_type": "execute_result"
    },
    {
     "data": {
      "image/png": "[encoded data removed]",
      "text/plain": [
       "<matplotlib.figure.Figure at 0x136a53810>"
      ]
     },
     "metadata": {},
     "output_type": "display_data"
    }
   ],
   "source": [
    "plt.figure(figsize=(7,7))\n",
    "plt.scatter(true_2y_score, cluster2predictions['SCR'])\n",
    "plt.xlim(-10,75)\n",
    "plt.ylim(-10,75)"
   ]
  },
  {
   "cell_type": "code",
   "execution_count": 111,
   "metadata": {
    "collapsed": true
   },
   "outputs": [],
   "source": [
    "from scipy import stats"
   ]
  },
  {
   "cell_type": "code",
   "execution_count": 112,
   "metadata": {
    "collapsed": false
   },
   "outputs": [
    {
     "name": "stdout",
     "output_type": "stream",
     "text": [
      "r-squared: 0.51492014182\n"
     ]
    }
   ],
   "source": [
    "slope, intercept, r_value, p_value, std_err = stats.linregress(true_2y_score, cluster2predictions['SCR'])\n",
    "print \"r-squared:\", r_value**2"
   ]
  },
  {
   "cell_type": "code",
   "execution_count": 113,
   "metadata": {
    "collapsed": false,
    "scrolled": false
   },
   "outputs": [],
   "source": [
    "true_2_y['SCRavg'] = true_2_y['Player Name'].apply(lambda x: PA140.ix[x, 'Score'] if x in PA140.index else 0)"
   ]
  },
  {
   "cell_type": "code",
   "execution_count": 114,
   "metadata": {
    "collapsed": false,
    "scrolled": false
   },
   "outputs": [
    {
     "data": {
      "text/plain": [
       "145.85434988308182"
      ]
     },
     "execution_count": 114,
     "metadata": {},
     "output_type": "execute_result"
    }
   ],
   "source": [
    "mean_squared_error(true_2y_score, true_2_y['SCRavg'])"
   ]
  },
  {
   "cell_type": "code",
   "execution_count": 115,
   "metadata": {
    "collapsed": false
   },
   "outputs": [
    {
     "data": {
      "text/plain": [
       "(-10, 75)"
      ]
     },
     "execution_count": 115,
     "metadata": {},
     "output_type": "execute_result"
    },
    {
     "data": {
      "image/png": "[encoded data removed]",
      "text/plain": [
       "<matplotlib.figure.Figure at 0x12799e5d0>"
      ]
     },
     "metadata": {},
     "output_type": "display_data"
    }
   ],
   "source": [
    "plt.figure(figsize=(7,7))\n",
    "plt.scatter(true_2y_score, true_2_y['SCRavg'])\n",
    "plt.xlim(-10,75)\n",
    "plt.ylim(-10,75)"
   ]
  },
  {
   "cell_type": "code",
   "execution_count": 116,
   "metadata": {
    "collapsed": true
   },
   "outputs": [],
   "source": [
    "slope, intercept, r_value, p_value, std_err = stats.linregress(true_2y_score, true_2_y['SCRavg'])"
   ]
  },
  {
   "cell_type": "code",
   "execution_count": 117,
   "metadata": {
    "collapsed": false
   },
   "outputs": [
    {
     "name": "stdout",
     "output_type": "stream",
     "text": [
      "r-squared: 0.299216253653\n"
     ]
    }
   ],
   "source": [
    "print \"r-squared:\", r_value**2"
   ]
  },
  {
   "cell_type": "markdown",
   "metadata": {},
   "source": [
    "# Cluster One"
   ]
  },
  {
   "cell_type": "code",
   "execution_count": 118,
   "metadata": {
    "collapsed": false
   },
   "outputs": [],
   "source": [
    "from scripts import clusters"
   ]
  },
  {
   "cell_type": "code",
   "execution_count": 119,
   "metadata": {
    "collapsed": false
   },
   "outputs": [
    {
     "name": "stdout",
     "output_type": "stream",
     "text": [
      "['SP_1dayago', 'SP_2dayago', 'SP_3dayago', 'SP_4dayago', 'TP1dayago', 'TP2dayago', 'TP3dayago', 'TP4dayago', 'FG1dayago', 'FG2dayago', 'FG3dayago', 'FG4dayago', 'FT1dayago', 'FT2dayago', 'FT3dayago', 'FT4dayago', 'TRB1dayago', 'TRB2dayago', 'TRB3dayago', 'TRB4dayago', 'AST1dayago', 'AST2dayago', 'AST3dayago', 'AST4dayago', 'BLK1dayago', 'BLK2dayago', 'BLK3dayago', 'BLK4dayago', 'STL1dayago', 'STL2dayago', 'STL3dayago', 'STL4dayago', 'TOV1dayago', 'TOV2dayago', 'TOV3dayago', 'TOV4dayago', 'USGP1dayago', 'USGP2dayago', 'USGP3dayago', 'USGP4dayago', 'FTr1dayago', 'FTr2dayago', 'FTr3dayago', 'FTr4dayago', 'PM1dayago', 'PM2dayago', 'PM3dayago', 'PM4dayago', 'TSP1dayago', 'TSP2dayago', 'TSP3dayago', 'TSP4dayago', 'PF1dayago', 'PF2dayago', 'PF3dayago', 'PF4dayago', 'ORtg1dayago', 'ORtg2dayago', 'ORtg3dayago', 'ORtg4dayago', 'DRtg1dayago', 'DRtg2dayago', 'DRtg3dayago', 'DRtg4dayago', 'Elevation', 'OneisHome']\n"
     ]
    }
   ],
   "source": [
    "cluster1predictions, true_y = clusters.get_predictions(df, cluster_dict=dict_pca4_nout, cluster_num=1, cutoff=140)"
   ]
  },
  {
   "cell_type": "code",
   "execution_count": 120,
   "metadata": {
    "collapsed": true
   },
   "outputs": [],
   "source": [
    "true_y_score = 2*true_y['FG'] + true_y['3P'] + true_y['FT'] + 1.2*true_y['TRB'] + 1.5*true_y['AST']\\\n",
    "                + 2*true_y['BLK'] + 2*true_y['STL'] - true_y['TOV']"
   ]
  },
  {
   "cell_type": "code",
   "execution_count": 121,
   "metadata": {
    "collapsed": false
   },
   "outputs": [
    {
     "data": {
      "text/plain": [
       "96.668369313039904"
      ]
     },
     "execution_count": 121,
     "metadata": {},
     "output_type": "execute_result"
    }
   ],
   "source": [
    "mean_squared_error(true_y_score, cluster1predictions['SCR'])"
   ]
  },
  {
   "cell_type": "code",
   "execution_count": 122,
   "metadata": {
    "collapsed": false
   },
   "outputs": [
    {
     "data": {
      "text/plain": [
       "(-10, 75)"
      ]
     },
     "execution_count": 122,
     "metadata": {},
     "output_type": "execute_result"
    },
    {
     "data": {
      "image/png": "[encoded data removed]",
      "text/plain": [
       "<matplotlib.figure.Figure at 0x1304a9810>"
      ]
     },
     "metadata": {},
     "output_type": "display_data"
    }
   ],
   "source": [
    "plt.figure(figsize=(7,7))\n",
    "plt.scatter(true_y_score, cluster1predictions['SCR'])\n",
    "plt.xlim(-10,75)\n",
    "plt.ylim(-10,75)"
   ]
  },
  {
   "cell_type": "code",
   "execution_count": 123,
   "metadata": {
    "collapsed": false
   },
   "outputs": [
    {
     "name": "stdout",
     "output_type": "stream",
     "text": [
      "r-squared: 0.456971652338\n"
     ]
    }
   ],
   "source": [
    "slope, intercept, r_value, p_value, std_err = stats.linregress(true_y_score, cluster1predictions['SCR'])\n",
    "print \"r-squared:\", r_value**2"
   ]
  },
  {
   "cell_type": "code",
   "execution_count": 124,
   "metadata": {
    "collapsed": true
   },
   "outputs": [],
   "source": [
    "true_y['SCRavg'] = true_y['Player Name'].apply(lambda x: PA140.ix[x, 'Score'] if x in PA140.index else 0)"
   ]
  },
  {
   "cell_type": "code",
   "execution_count": 125,
   "metadata": {
    "collapsed": false
   },
   "outputs": [
    {
     "data": {
      "text/plain": [
       "127.49800464693936"
      ]
     },
     "execution_count": 125,
     "metadata": {},
     "output_type": "execute_result"
    }
   ],
   "source": [
    "mean_squared_error(true_y_score, true_y['SCRavg'])"
   ]
  },
  {
   "cell_type": "code",
   "execution_count": 126,
   "metadata": {
    "collapsed": false
   },
   "outputs": [
    {
     "data": {
      "text/plain": [
       "(-10, 75)"
      ]
     },
     "execution_count": 126,
     "metadata": {},
     "output_type": "execute_result"
    },
    {
     "data": {
      "image/png": "[encoded data removed]",
      "text/plain": [
       "<matplotlib.figure.Figure at 0x11e239750>"
      ]
     },
     "metadata": {},
     "output_type": "display_data"
    }
   ],
   "source": [
    "plt.figure(figsize=(7,7))\n",
    "plt.scatter(true_y_score, true_y['SCRavg'])\n",
    "plt.xlim(-10,75)\n",
    "plt.ylim(-10,75)"
   ]
  },
  {
   "cell_type": "code",
   "execution_count": 127,
   "metadata": {
    "collapsed": false
   },
   "outputs": [
    {
     "name": "stdout",
     "output_type": "stream",
     "text": [
      "r-squared: 0.303794901692\n"
     ]
    }
   ],
   "source": [
    "slope, intercept, r_value, p_value, std_err = stats.linregress(true_y_score, true_y['SCRavg'])\n",
    "print \"r-squared:\", r_value**2"
   ]
  },
  {
   "cell_type": "markdown",
   "metadata": {},
   "source": [
    "# Cluster Zero"
   ]
  },
  {
   "cell_type": "code",
   "execution_count": 128,
   "metadata": {
    "collapsed": false
   },
   "outputs": [
    {
     "name": "stdout",
     "output_type": "stream",
     "text": [
      "['SP_1dayago', 'SP_2dayago', 'SP_3dayago', 'SP_4dayago', 'TP1dayago', 'TP2dayago', 'TP3dayago', 'TP4dayago', 'FG1dayago', 'FG2dayago', 'FG3dayago', 'FG4dayago', 'FT1dayago', 'FT2dayago', 'FT3dayago', 'FT4dayago', 'TRB1dayago', 'TRB2dayago', 'TRB3dayago', 'TRB4dayago', 'AST1dayago', 'AST2dayago', 'AST3dayago', 'AST4dayago', 'BLK1dayago', 'BLK2dayago', 'BLK3dayago', 'BLK4dayago', 'STL1dayago', 'STL2dayago', 'STL3dayago', 'STL4dayago', 'TOV1dayago', 'TOV2dayago', 'TOV3dayago', 'TOV4dayago', 'USGP1dayago', 'USGP2dayago', 'USGP3dayago', 'USGP4dayago', 'FTr1dayago', 'FTr2dayago', 'FTr3dayago', 'FTr4dayago', 'PM1dayago', 'PM2dayago', 'PM3dayago', 'PM4dayago', 'TSP1dayago', 'TSP2dayago', 'TSP3dayago', 'TSP4dayago', 'PF1dayago', 'PF2dayago', 'PF3dayago', 'PF4dayago', 'ORtg1dayago', 'ORtg2dayago', 'ORtg3dayago', 'ORtg4dayago', 'DRtg1dayago', 'DRtg2dayago', 'DRtg3dayago', 'DRtg4dayago', 'Elevation', 'OneisHome']\n"
     ]
    }
   ],
   "source": [
    "cluster0predictions, true_0_y = clusters.get_predictions(df, cluster_dict=dict_pca4_nout, cluster_num=0, cutoff=140)"
   ]
  },
  {
   "cell_type": "code",
   "execution_count": 129,
   "metadata": {
    "collapsed": true
   },
   "outputs": [],
   "source": [
    "true_0y_score = 2*true_0_y['FG'] + true_0_y['3P'] + true_0_y['FT'] + 1.2*true_0_y['TRB'] + 1.5*true_0_y['AST']\\\n",
    "                + 2*true_0_y['BLK'] + 2*true_0_y['STL'] - true_0_y['TOV']"
   ]
  },
  {
   "cell_type": "code",
   "execution_count": 130,
   "metadata": {
    "collapsed": false
   },
   "outputs": [
    {
     "data": {
      "text/plain": [
       "75.899078643664481"
      ]
     },
     "execution_count": 130,
     "metadata": {},
     "output_type": "execute_result"
    }
   ],
   "source": [
    "mean_squared_error(true_0y_score, cluster0predictions['SCR'])"
   ]
  },
  {
   "cell_type": "code",
   "execution_count": 131,
   "metadata": {
    "collapsed": false
   },
   "outputs": [
    {
     "data": {
      "text/plain": [
       "(-10, 75)"
      ]
     },
     "execution_count": 131,
     "metadata": {},
     "output_type": "execute_result"
    },
    {
     "data": {
      "image/png": "[encoded data removed]",
      "text/plain": [
       "<matplotlib.figure.Figure at 0x132c5ae50>"
      ]
     },
     "metadata": {},
     "output_type": "display_data"
    }
   ],
   "source": [
    "plt.figure(figsize=(7,7))\n",
    "plt.scatter(true_0y_score, cluster0predictions['SCR'])\n",
    "plt.xlim(-10,75)\n",
    "plt.ylim(-10,75)"
   ]
  },
  {
   "cell_type": "code",
   "execution_count": 132,
   "metadata": {
    "collapsed": false
   },
   "outputs": [
    {
     "name": "stdout",
     "output_type": "stream",
     "text": [
      "r-squared: 0.377327371338\n"
     ]
    }
   ],
   "source": [
    "slope, intercept, r_value, p_value, std_err = stats.linregress(true_0y_score, cluster0predictions['SCR'])\n",
    "print \"r-squared:\", r_value**2"
   ]
  },
  {
   "cell_type": "code",
   "execution_count": 133,
   "metadata": {
    "collapsed": true
   },
   "outputs": [],
   "source": [
    "true_0_y['SCRavg'] = true_0_y['Player Name'].apply(lambda x: PA140.ix[x, 'Score'] if x in PA140.index else 0)"
   ]
  },
  {
   "cell_type": "code",
   "execution_count": 134,
   "metadata": {
    "collapsed": false
   },
   "outputs": [
    {
     "data": {
      "text/plain": [
       "108.07587916983587"
      ]
     },
     "execution_count": 134,
     "metadata": {},
     "output_type": "execute_result"
    }
   ],
   "source": [
    "mean_squared_error(true_0y_score, true_0_y['SCRavg'])"
   ]
  },
  {
   "cell_type": "code",
   "execution_count": 135,
   "metadata": {
    "collapsed": false
   },
   "outputs": [
    {
     "data": {
      "text/plain": [
       "(-10, 75)"
      ]
     },
     "execution_count": 135,
     "metadata": {},
     "output_type": "execute_result"
    },
    {
     "data": {
      "image/png": "[encoded data removed]",
      "text/plain": [
       "<matplotlib.figure.Figure at 0x11b0524d0>"
      ]
     },
     "metadata": {},
     "output_type": "display_data"
    }
   ],
   "source": [
    "plt.figure(figsize=(7,7))\n",
    "plt.scatter(true_0y_score, true_0_y['SCRavg'])\n",
    "plt.xlim(-10,75)\n",
    "plt.ylim(-10,75)"
   ]
  },
  {
   "cell_type": "code",
   "execution_count": 136,
   "metadata": {
    "collapsed": false
   },
   "outputs": [
    {
     "name": "stdout",
     "output_type": "stream",
     "text": [
      "r-squared: 0.163235469458\n"
     ]
    }
   ],
   "source": [
    "slope, intercept, r_value, p_value, std_err = stats.linregress(true_0y_score, true_0_y['SCRavg'])\n",
    "print \"r-squared:\", r_value**2"
   ]
  },
  {
   "cell_type": "markdown",
   "metadata": {
    "collapsed": true
   },
   "source": [
    "# Total R^2"
   ]
  },
  {
   "cell_type": "code",
   "execution_count": 137,
   "metadata": {
    "collapsed": false,
    "scrolled": true
   },
   "outputs": [
    {
     "data": {
      "text/plain": [
       "88.595290197323436"
      ]
     },
     "execution_count": 137,
     "metadata": {},
     "output_type": "execute_result"
    }
   ],
   "source": [
    "mean_squared_error(true_0y_score.append(true_y_score.append(true_2y_score)), pd.concat([cluster0predictions['SCR'], cluster1predictions['SCR'], cluster2predictions['SCR']]))"
   ]
  },
  {
   "cell_type": "code",
   "execution_count": 138,
   "metadata": {
    "collapsed": false
   },
   "outputs": [
    {
     "data": {
      "text/plain": [
       "(-10, 75)"
      ]
     },
     "execution_count": 138,
     "metadata": {},
     "output_type": "execute_result"
    },
    {
     "data": {
      "image/png": "[encoded data removed]",
      "text/plain": [
       "<matplotlib.figure.Figure at 0x132c3ab10>"
      ]
     },
     "metadata": {},
     "output_type": "display_data"
    }
   ],
   "source": [
    "plt.figure(figsize=(7,7))\n",
    "plt.scatter(true_0y_score.append(true_y_score.append(true_2y_score)), pd.concat([cluster0predictions['SCR'], cluster1predictions['SCR'], cluster2predictions['SCR']]))\n",
    "plt.xlim(-10,75)\n",
    "plt.ylim(-10,75)"
   ]
  },
  {
   "cell_type": "code",
   "execution_count": 139,
   "metadata": {
    "collapsed": false
   },
   "outputs": [
    {
     "name": "stdout",
     "output_type": "stream",
     "text": [
      "r-squared: 0.473177186853\n"
     ]
    }
   ],
   "source": [
    "slope, intercept, r_value, p_value, std_err = stats.linregress(true_0y_score.append(true_y_score.append(true_2y_score)), pd.concat([cluster0predictions['SCR'], cluster1predictions['SCR'], cluster2predictions['SCR']]))\n",
    "print \"r-squared:\", r_value**2"
   ]
  },
  {
   "cell_type": "code",
   "execution_count": 140,
   "metadata": {
    "collapsed": false
   },
   "outputs": [
    {
     "data": {
      "text/plain": [
       "123.80683243890779"
      ]
     },
     "execution_count": 140,
     "metadata": {},
     "output_type": "execute_result"
    }
   ],
   "source": [
    "mean_squared_error(true_0y_score.append(true_y_score.append(true_2y_score)), pd.concat([true_0_y['SCRavg'], true_y['SCRavg'], true_2_y['SCRavg']]))"
   ]
  },
  {
   "cell_type": "code",
   "execution_count": 141,
   "metadata": {
    "collapsed": false,
    "scrolled": true
   },
   "outputs": [
    {
     "data": {
      "text/plain": [
       "(-10, 75)"
      ]
     },
     "execution_count": 141,
     "metadata": {},
     "output_type": "execute_result"
    },
    {
     "data": {
      "image/png": "[encoded data removed]",
      "text/plain": [
       "<matplotlib.figure.Figure at 0x13047ca50>"
      ]
     },
     "metadata": {},
     "output_type": "display_data"
    }
   ],
   "source": [
    "plt.figure(figsize=(6,6))\n",
    "plt.scatter(true_0y_score.append(true_y_score.append(true_2y_score)), pd.concat([true_0_y['SCRavg'], true_y['SCRavg'], true_2_y['SCRavg']]))\n",
    "plt.xlim(-10,75)\n",
    "plt.ylim(-10,75)"
   ]
  },
  {
   "cell_type": "code",
   "execution_count": 142,
   "metadata": {
    "collapsed": false
   },
   "outputs": [
    {
     "name": "stdout",
     "output_type": "stream",
     "text": [
      "r-squared: 0.288933855399\n"
     ]
    }
   ],
   "source": [
    "slope, intercept, r_value, p_value, std_err = stats.linregress(true_0y_score.append(true_y_score.append(true_2y_score)), pd.concat([true_0_y['SCRavg'], true_y['SCRavg'], true_2_y['SCRavg']]))\n",
    "print \"r-squared:\", r_value**2"
   ]
  },
  {
   "cell_type": "code",
   "execution_count": null,
   "metadata": {
    "collapsed": true
   },
   "outputs": [],
   "source": []
  },
  {
   "cell_type": "code",
   "execution_count": null,
   "metadata": {
    "collapsed": true
   },
   "outputs": [],
   "source": []
  },
  {
   "cell_type": "code",
   "execution_count": null,
   "metadata": {
    "collapsed": true
   },
   "outputs": [],
   "source": []
  },
  {
   "cell_type": "code",
   "execution_count": null,
   "metadata": {
    "collapsed": true
   },
   "outputs": [],
   "source": []
  },
  {
   "cell_type": "code",
   "execution_count": null,
   "metadata": {
    "collapsed": true
   },
   "outputs": [],
   "source": []
  },
  {
   "cell_type": "code",
   "execution_count": null,
   "metadata": {
    "collapsed": true
   },
   "outputs": [],
   "source": []
  },
  {
   "cell_type": "code",
   "execution_count": null,
   "metadata": {
    "collapsed": true
   },
   "outputs": [],
   "source": []
  },
  {
   "cell_type": "code",
   "execution_count": null,
   "metadata": {
    "collapsed": true
   },
   "outputs": [],
   "source": []
  },
  {
   "cell_type": "code",
   "execution_count": null,
   "metadata": {
    "collapsed": true
   },
   "outputs": [],
   "source": []
  },
  {
   "cell_type": "code",
   "execution_count": null,
   "metadata": {
    "collapsed": true
   },
   "outputs": [],
   "source": []
  },
  {
   "cell_type": "code",
   "execution_count": null,
   "metadata": {
    "collapsed": true
   },
   "outputs": [],
   "source": []
  },
  {
   "cell_type": "code",
   "execution_count": null,
   "metadata": {
    "collapsed": true
   },
   "outputs": [],
   "source": []
  },
  {
   "cell_type": "code",
   "execution_count": null,
   "metadata": {
    "collapsed": true
   },
   "outputs": [],
   "source": []
  },
  {
   "cell_type": "code",
   "execution_count": null,
   "metadata": {
    "collapsed": true
   },
   "outputs": [],
   "source": []
  },
  {
   "cell_type": "markdown",
   "metadata": {},
   "source": [
    "# Individual Model"
   ]
  },
  {
   "cell_type": "code",
   "execution_count": 143,
   "metadata": {
    "collapsed": true
   },
   "outputs": [],
   "source": [
    "#sc, scx, scy = random_forest.individual_forest_df(forest_df, y_df, 'Stephen Curry')"
   ]
  },
  {
   "cell_type": "code",
   "execution_count": 144,
   "metadata": {
    "collapsed": true
   },
   "outputs": [],
   "source": [
    "# from sklearn.cross_validation import train_test_split\n",
    "# from sklearn.metrics import mean_squared_error"
   ]
  },
  {
   "cell_type": "code",
   "execution_count": 145,
   "metadata": {
    "collapsed": false
   },
   "outputs": [],
   "source": [
    "# fy, ydf = random_forest.date_with_forest(df,cutoff=120)"
   ]
  },
  {
   "cell_type": "code",
   "execution_count": 146,
   "metadata": {
    "collapsed": false
   },
   "outputs": [],
   "source": [
    "# curry_X = fy[fy['Player Name'] == 'Stephen Curry']\n",
    "# curry_y = ydf[ydf['Player Name'] == 'Stephen Curry']"
   ]
  },
  {
   "cell_type": "code",
   "execution_count": 147,
   "metadata": {
    "collapsed": false
   },
   "outputs": [],
   "source": [
    "# scurryX_train, scurryX_test, scurryy_train, scurryy_test = train_test_split(curry_X[curry_X.columns-['Player Name']], curry_y.iloc[:,1], test_size = 0.25, random_state = 30)"
   ]
  },
  {
   "cell_type": "code",
   "execution_count": null,
   "metadata": {
    "collapsed": true
   },
   "outputs": [],
   "source": []
  },
  {
   "cell_type": "code",
   "execution_count": 148,
   "metadata": {
    "collapsed": true
   },
   "outputs": [],
   "source": [
    "# dictio = {}"
   ]
  },
  {
   "cell_type": "code",
   "execution_count": 149,
   "metadata": {
    "collapsed": true
   },
   "outputs": [],
   "source": [
    "# dictio['XYZ'] = RandomForestRegressor()"
   ]
  },
  {
   "cell_type": "code",
   "execution_count": 150,
   "metadata": {
    "collapsed": false
   },
   "outputs": [],
   "source": [
    "# dictio['XYZ'].fit(X_test,y_test)"
   ]
  },
  {
   "cell_type": "code",
   "execution_count": 151,
   "metadata": {
    "collapsed": false,
    "scrolled": true
   },
   "outputs": [],
   "source": [
    "# scurryX_test"
   ]
  },
  {
   "cell_type": "code",
   "execution_count": null,
   "metadata": {
    "collapsed": true
   },
   "outputs": [],
   "source": []
  }
 ],
 "metadata": {
  "kernelspec": {
   "display_name": "Python 2",
   "language": "python",
   "name": "python2"
  },
  "language_info": {
   "codemirror_mode": {
    "name": "ipython",
    "version": 2
   },
   "file_extension": ".py",
   "mimetype": "text/x-python",
   "name": "python",
   "nbconvert_exporter": "python",
   "pygments_lexer": "ipython2",
   "version": "2.7.11"
  }
 },
 "nbformat": 4,
 "nbformat_minor": 0
}
