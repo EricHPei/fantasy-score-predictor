{
 "cells": [
  {
   "cell_type": "markdown",
   "metadata": {},
   "source": [
    "# Daily Fantasy Basketball Optimizer"
   ]
  },
  {
   "cell_type": "markdown",
   "metadata": {},
   "source": [
    "#### Daily Fantasy is a huge emerging market that imbues the sports world with statistics and gaming. With FanDuel's 275 million dollar Series E and DraftKings 300 million dollar Series D, the two startups have crossed the defining valuation of one billion dollars a piece."
   ]
  },
  {
   "cell_type": "markdown",
   "metadata": {},
   "source": [
    "##### Relatively new, daily fantasy was started in 2009 by FanDuel as an alternative to season-long fantasy sports provided by Yahoo and CBS. In this project, we will explore different techniques to optimize lineups and attempt to implement a machine learning technique that can compete against humanst. The implications of such an algorithm is massive; it could be used for either highly accurate salary assignments by a fantasy site or arbitrage for personal gain. "
   ]
  },
  {
   "cell_type": "code",
   "execution_count": null,
   "metadata": {
    "collapsed": true
   },
   "outputs": [],
   "source": []
  }
 ],
 "metadata": {
  "kernelspec": {
   "display_name": "Python 2",
   "language": "python",
   "name": "python2"
  },
  "language_info": {
   "codemirror_mode": {
    "name": "ipython",
    "version": 2
   },
   "file_extension": ".py",
   "mimetype": "text/x-python",
   "name": "python",
   "nbconvert_exporter": "python",
   "pygments_lexer": "ipython2",
   "version": "2.7.11"
  }
 },
 "nbformat": 4,
 "nbformat_minor": 0
}
